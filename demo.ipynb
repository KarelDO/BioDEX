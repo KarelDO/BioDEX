{
 "cells": [
  {
   "attachments": {},
   "cell_type": "markdown",
   "metadata": {},
   "source": [
    "## Load the raw resource"
   ]
  },
  {
   "cell_type": "code",
   "execution_count": null,
   "metadata": {},
   "outputs": [],
   "source": [
    "import datasets\n",
    "\n",
    "# load the raw dataset\n",
    "dataset = datasets.load_dataset(\"BioDEX/raw_dataset\")['train']\n",
    "\n",
    "print(len(dataset)) # 65,648\n",
    "\n",
    "# investigate an example\n",
    "article = dataset[1]['article']\n",
    "report = dataset[1]['reports'][0]\n",
    "\n",
    "print(article['title'])    # Case Report: Perioperative Kounis Syndrome in an Adolescent With Congenital Glaucoma.\n",
    "print(article['abstract']) # A 12-year-old male patient suffering from congenital glaucoma developed bradycardia, ...\n",
    "print(article['fulltext']) # ...\n",
    "print(article['fulltext_license']) # CC BY\n",
    "\n",
    "print(report['patient']['patientsex']) # 1\n",
    "print(report['patient']['drug'][0]['activesubstance']['activesubstancename']) # ATROPINE SULFATE\n",
    "print(report['patient']['drug'][0]['drugadministrationroute']) # 040\n",
    "print(report['patient']['drug'][1]['activesubstance']['activesubstancename']) # MIDAZOLAM\n",
    "print(report['patient']['drug'][1]['drugindication']) # Anaesthesia\n",
    "print(report['patient']['reaction'][0]['reactionmeddrapt'])  # Kounis syndrome\n",
    "print(report['patient']['reaction'][1]['reactionmeddrapt'])  # Hypersensitivity"
   ]
  },
  {
   "attachments": {},
   "cell_type": "markdown",
   "metadata": {},
   "source": [
    "Optinal, Using our custom code. This takes some extra time to parse."
   ]
  },
  {
   "cell_type": "code",
   "execution_count": null,
   "metadata": {},
   "outputs": [],
   "source": [
    "import datasets\n",
    "from src.utils import get_matches\n",
    "\n",
    "# load the raw dataset\n",
    "dataset = datasets.load_dataset(\"BioDEX/raw_dataset\")['train']\n",
    "dataset = get_matches(dataset)\n",
    "\n",
    "print(len(dataset)) # 65,648\n",
    "\n",
    "# investigate an example\n",
    "article = dataset[1].article\n",
    "report = dataset[1].reports[0]\n",
    "\n",
    "print(article.title)    # Case Report: Perioperative Kounis Syndrome in an Adolescent With Congenital Glaucoma.\n",
    "print(article.abstract) # A 12-year-old male patient suffering from congenital glaucoma developed bradycardia, ...\n",
    "print(article.fulltext) # ...\n",
    "print(article.fulltext_license) # CC BY\n",
    "\n",
    "print(report.patient.patientsex) # 1\n",
    "print(report.patient.drug[0].activesubstance.activesubstancename) # ATROPINE SULFATE\n",
    "print(report.patient.drug[0].drugadministrationroute) # 040\n",
    "print(report.patient.drug[1].activesubstance.activesubstancename) # MIDAZOLAM\n",
    "print(report.patient.drug[1].drugindication) # Anaesthesia\n",
    "print(report.patient.reaction[0].reactionmeddrapt)  # Kounis syndrome\n",
    "print(report.patient.reaction[1].reactionmeddrapt)  # Hypersensitivity\n"
   ]
  },
  {
   "attachments": {},
   "cell_type": "markdown",
   "metadata": {},
   "source": [
    "## Load the Report-Extraction dataset"
   ]
  },
  {
   "cell_type": "code",
   "execution_count": null,
   "metadata": {},
   "outputs": [],
   "source": [
    "import datasets\n",
    "\n",
    "# load the report-extraction dataset\n",
    "dataset = datasets.load_dataset(\"BioDEX/BioDEX-ICSR\")\n",
    "\n",
    "print(len(dataset['train']))        # 9,624\n",
    "print(len(dataset['validation']))   # 2,407\n",
    "print(len(dataset['test']))         # 3,628\n",
    "\n",
    "example = dataset['train'][0]\n",
    "\n",
    "print(example['fulltext_processed'][:1000], '...') # TITLE: # SARS-CoV-2-related ARDS in a maintenance hemodialysis patient ...\n",
    "print(example['target']) # serious: 1 patientsex: 1 drugs: ACETAMINOPHEN, ASPIRIN ..."
   ]
  },
  {
   "attachments": {},
   "cell_type": "markdown",
   "metadata": {},
   "source": [
    "## Use the Report-Extraction model"
   ]
  },
  {
   "cell_type": "code",
   "execution_count": null,
   "metadata": {},
   "outputs": [],
   "source": [
    "from transformers import AutoTokenizer, T5ForConditionalGeneration\n",
    "import datasets\n",
    "\n",
    "# load the report-extraction dataset\n",
    "dataset = datasets.load_dataset(\"BioDEX/BioDEX-ICSR\")\n",
    "\n",
    "# load the model\n",
    "model_path = \"BioDEX/flan-t5-large-report-extraction\"\n",
    "model = T5ForConditionalGeneration.from_pretrained(model_path)\n",
    "tokenizer = AutoTokenizer.from_pretrained(model_path)\n",
    "\n",
    "# get an input and encode it\n",
    "input = dataset['validation'][1]['fulltext_processed']\n",
    "input_encoded = tokenizer(input, max_length=2048, truncation=True, padding=\"max_length\", return_tensors='pt')\n",
    "\n",
    "# forward pass\n",
    "output_encoded = model.generate(**input_encoded, max_length=256)\n",
    "\n",
    "output = tokenizer.batch_decode(output_encoded, skip_special_tokens=True)\n",
    "output = output[0]\n",
    "\n",
    "print(output) # serious: 1 patientsex: 2 drugs: AMLODIPINE BESYLATE, LISINOPRIL reactions: Intentional overdose, Metabolic acidosis, Shock"
   ]
  },
  {
   "attachments": {},
   "cell_type": "markdown",
   "metadata": {},
   "source": [
    "Evaluate performance"
   ]
  },
  {
   "cell_type": "code",
   "execution_count": null,
   "metadata": {},
   "outputs": [],
   "source": [
    "from src import Icsr\n",
    "target = dataset['validation'][1]['target']\n",
    "\n",
    "target_icsr = Icsr.from_string(target)\n",
    "output_icsr = Icsr.from_string(output)\n",
    "\n",
    "print(output_icsr.score(target_icsr))"
   ]
  },
  {
   "attachments": {},
   "cell_type": "markdown",
   "metadata": {},
   "source": [
    "## Get all full-text papers with a commercial license"
   ]
  },
  {
   "cell_type": "code",
   "execution_count": null,
   "metadata": {},
   "outputs": [],
   "source": [
    "import datasets\n",
    "\n",
    "# load the raw dataset\n",
    "dataset = datasets.load_dataset(\"BioDEX/raw_dataset\")['train']\n",
    "print(len(dataset)) # 65,648\n",
    "\n",
    "# remove all fulltext papers with no commercial license\n",
    "commercial_licenses = {'CC0', 'CC BY', 'CC BY-SA', 'CC BY-ND'}\n",
    "\n",
    "def remove_noncom_paper(example):\n",
    "    # remove the fulltext if no commercial license, keep all the other data of the example\n",
    "    if example['article']['fulltext_license'] not in commercial_licenses:\n",
    "        example['article']['fulltext'] = None\n",
    "    return example\n",
    "\n",
    "dataset_commercial = dataset.map(remove_noncom_paper)\n",
    "print(len(dataset_commercial)) # 65,648 (no examples were dropped, only some fulltext fields were removed)"
   ]
  }
 ],
 "metadata": {
  "kernelspec": {
   "display_name": "biodex",
   "language": "python",
   "name": "python3"
  },
  "language_info": {
   "codemirror_mode": {
    "name": "ipython",
    "version": 3
   },
   "file_extension": ".py",
   "mimetype": "text/x-python",
   "name": "python",
   "nbconvert_exporter": "python",
   "pygments_lexer": "ipython3",
   "version": "3.9.16"
  },
  "orig_nbformat": 4
 },
 "nbformat": 4,
 "nbformat_minor": 2
}
