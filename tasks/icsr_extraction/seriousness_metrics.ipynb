{
 "cells": [
  {
   "cell_type": "code",
   "execution_count": 44,
   "metadata": {},
   "outputs": [],
   "source": [
    "from evaluate_icsr_extraction import evaluate_icsr_from_dataset\n",
    "from src import Icsr\n",
    "from src.utils import get_matches\n",
    "from datasets import load_dataset"
   ]
  },
  {
   "cell_type": "code",
   "execution_count": 20,
   "metadata": {},
   "outputs": [
    {
     "name": "stderr",
     "output_type": "stream",
     "text": [
      "Using custom data configuration FAERS-PubMed--BioDEX-ICSR-40aa49fec6af4868\n",
      "Found cached dataset parquet (/Users/kldooste/.cache/huggingface/datasets/FAERS-PubMed___parquet/FAERS-PubMed--BioDEX-ICSR-40aa49fec6af4868/0.0.0/2a3b91fbd88a2c90d1dbbb32b460cf621d31bd5b05b934492fdef7d8d6f236ec)\n",
      "100%|██████████| 3/3 [00:00<00:00, 264.71it/s]\n"
     ]
    }
   ],
   "source": [
    "path = './generated_eval_predictions.txt'\n",
    "dataset_name = 'FAERS-PubMed/BioDEX-ICSR'\n",
    "dataset_split = 'validation'\n",
    "\n",
    "preds = []\n",
    "with open(path, 'r') as fp:\n",
    "    preds = fp.readlines()\n",
    "\n",
    "metrics = evaluate_icsr_from_dataset(preds, dataset_name, dataset_split)"
   ]
  },
  {
   "cell_type": "code",
   "execution_count": 7,
   "metadata": {},
   "outputs": [
    {
     "data": {
      "text/plain": [
       "((65.14026699423484, 59.396820453657234, 61.42847740089519), 26)"
      ]
     },
     "execution_count": 7,
     "metadata": {},
     "output_type": "execute_result"
    }
   ],
   "source": [
    "metrics"
   ]
  },
  {
   "attachments": {},
   "cell_type": "markdown",
   "metadata": {},
   "source": [
    "### Seriousness metric"
   ]
  },
  {
   "cell_type": "code",
   "execution_count": 21,
   "metadata": {},
   "outputs": [
    {
     "name": "stderr",
     "output_type": "stream",
     "text": [
      "Using custom data configuration FAERS-PubMed--BioDEX-ICSR-40aa49fec6af4868\n",
      "Found cached dataset parquet (/Users/kldooste/.cache/huggingface/datasets/FAERS-PubMed___parquet/FAERS-PubMed--BioDEX-ICSR-40aa49fec6af4868/0.0.0/2a3b91fbd88a2c90d1dbbb32b460cf621d31bd5b05b934492fdef7d8d6f236ec)\n",
      "100%|██████████| 3/3 [00:00<00:00, 315.19it/s]\n"
     ]
    }
   ],
   "source": [
    "preds_icsr = [Icsr.from_string(p) for p in preds]\n",
    "preds_serious = [i.serious if i else '1' for i in preds_icsr]\n",
    "\n",
    "dataset = load_dataset(dataset_name)\n",
    "gold_strings = dataset[dataset_split][\"target\"]\n",
    "gold_icsr = [Icsr.from_string(p) for p in gold_strings]\n",
    "gold_serious = [i.serious if i else '1' for i in gold_icsr]"
   ]
  },
  {
   "cell_type": "code",
   "execution_count": 27,
   "metadata": {},
   "outputs": [
    {
     "name": "stdout",
     "output_type": "stream",
     "text": [
      "              precision    recall  f1-score   support\n",
      "\n",
      "           1       0.95      0.98      0.96      2247\n",
      "           2       0.43      0.23      0.30       160\n",
      "\n",
      "    accuracy                           0.93      2407\n",
      "   macro avg       0.69      0.60      0.63      2407\n",
      "weighted avg       0.91      0.93      0.92      2407\n",
      "\n"
     ]
    }
   ],
   "source": [
    "from sklearn.metrics import classification_report\n",
    "\n",
    "print(classification_report(gold_serious, preds_serious))"
   ]
  },
  {
   "cell_type": "code",
   "execution_count": 28,
   "metadata": {},
   "outputs": [
    {
     "name": "stdout",
     "output_type": "stream",
     "text": [
      "              precision    recall  f1-score   support\n",
      "\n",
      "           1       0.93      1.00      0.97      2247\n",
      "           2       0.00      0.00      0.00       160\n",
      "\n",
      "    accuracy                           0.93      2407\n",
      "   macro avg       0.47      0.50      0.48      2407\n",
      "weighted avg       0.87      0.93      0.90      2407\n",
      "\n"
     ]
    },
    {
     "name": "stderr",
     "output_type": "stream",
     "text": [
      "/Users/kldooste/miniconda3/envs/biodex/lib/python3.9/site-packages/sklearn/metrics/_classification.py:1344: UndefinedMetricWarning: Precision and F-score are ill-defined and being set to 0.0 in labels with no predicted samples. Use `zero_division` parameter to control this behavior.\n",
      "  _warn_prf(average, modifier, msg_start, len(result))\n",
      "/Users/kldooste/miniconda3/envs/biodex/lib/python3.9/site-packages/sklearn/metrics/_classification.py:1344: UndefinedMetricWarning: Precision and F-score are ill-defined and being set to 0.0 in labels with no predicted samples. Use `zero_division` parameter to control this behavior.\n",
      "  _warn_prf(average, modifier, msg_start, len(result))\n",
      "/Users/kldooste/miniconda3/envs/biodex/lib/python3.9/site-packages/sklearn/metrics/_classification.py:1344: UndefinedMetricWarning: Precision and F-score are ill-defined and being set to 0.0 in labels with no predicted samples. Use `zero_division` parameter to control this behavior.\n",
      "  _warn_prf(average, modifier, msg_start, len(result))\n"
     ]
    }
   ],
   "source": [
    "print(classification_report(gold_serious, ['1'] * len(gold_serious)))"
   ]
  },
  {
   "cell_type": "code",
   "execution_count": 43,
   "metadata": {},
   "outputs": [
    {
     "name": "stdout",
     "output_type": "stream",
     "text": [
      "              precision    recall  f1-score   support\n",
      "\n",
      "           1       0.94      0.64      0.76      2247\n",
      "           2       0.08      0.42      0.13       160\n",
      "\n",
      "    accuracy                           0.63      2407\n",
      "   macro avg       0.51      0.53      0.45      2407\n",
      "weighted avg       0.88      0.63      0.72      2407\n",
      "\n"
     ]
    }
   ],
   "source": [
    "# The adverse event resulted in death, a life threatening condition, hospitalization, disability, congenital anomaly, or other serious condition\"\n",
    "def naive_baseline(fulltext):\n",
    "    fulltext = fulltext.lower()\n",
    "    if 'serious' in fulltext:\n",
    "        return '1'\n",
    "    elif 'death' in fulltext:\n",
    "        return '1'\n",
    "    elif 'hospitalization' in fulltext:\n",
    "        return '1'\n",
    "    elif 'threatening' in fulltext:\n",
    "        return '1' \n",
    "    elif 'disability' in fulltext:\n",
    "        return '1'\n",
    "    elif 'anomaly' in fulltext:\n",
    "        return '1'\n",
    "    elif 'congenital' in fulltext:\n",
    "        return '1'\n",
    "    else:\n",
    "        return '2'\n",
    "    \n",
    "naive_preds = [naive_baseline(f) for f in dataset[dataset_split][\"fulltext_processed\"]]\n",
    "print(classification_report(gold_serious, naive_preds))"
   ]
  },
  {
   "attachments": {},
   "cell_type": "markdown",
   "metadata": {},
   "source": [
    "### Do multiple reports per article share the seriousness value?"
   ]
  },
  {
   "cell_type": "code",
   "execution_count": 48,
   "metadata": {},
   "outputs": [
    {
     "name": "stderr",
     "output_type": "stream",
     "text": [
      "Using custom data configuration FAERS-PubMed--raw_dataset-0b83cc0b498dbbb2\n",
      "Found cached dataset json (/Users/kldooste/.cache/huggingface/datasets/FAERS-PubMed___json/FAERS-PubMed--raw_dataset-0b83cc0b498dbbb2/0.0.0/e6070c77f18f01a5ad4551a8b7edfba20b8438b7cad4d94e6ad9378022ce4aab)\n",
      "100%|██████████| 1/1 [00:00<00:00, 53.48it/s]\n"
     ]
    }
   ],
   "source": [
    "raw = load_dataset(\"FAERS-PubMed/raw_dataset\")\n",
    "matches = get_matches(raw['train'])"
   ]
  },
  {
   "cell_type": "code",
   "execution_count": 54,
   "metadata": {},
   "outputs": [
    {
     "name": "stdout",
     "output_type": "stream",
     "text": [
      "95.91305142578601\n"
     ]
    }
   ],
   "source": [
    "uniform_seriousness = [len({r.serious for r in m.reports if r.serious != ''}) == 1 for m in matches]\n",
    "print(100 * sum(uniform_seriousness) / len(uniform_seriousness))"
   ]
  },
  {
   "cell_type": "code",
   "execution_count": null,
   "metadata": {},
   "outputs": [],
   "source": []
  }
 ],
 "metadata": {
  "kernelspec": {
   "display_name": "biodex",
   "language": "python",
   "name": "python3"
  },
  "language_info": {
   "codemirror_mode": {
    "name": "ipython",
    "version": 3
   },
   "file_extension": ".py",
   "mimetype": "text/x-python",
   "name": "python",
   "nbconvert_exporter": "python",
   "pygments_lexer": "ipython3",
   "version": "3.9.16"
  },
  "orig_nbformat": 4
 },
 "nbformat": 4,
 "nbformat_minor": 2
}
