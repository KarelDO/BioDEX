{
 "cells": [
  {
   "cell_type": "code",
   "execution_count": 2,
   "metadata": {},
   "outputs": [],
   "source": [
    "from src import Icsr\n",
    "from src.utils import get_matches\n",
    "\n",
    "import datasets\n",
    "import random\n",
    "from copy import deepcopy"
   ]
  },
  {
   "cell_type": "code",
   "execution_count": 3,
   "metadata": {},
   "outputs": [
    {
     "name": "stderr",
     "output_type": "stream",
     "text": [
      "Using custom data configuration FAERS-PubMed--raw_dataset-0b83cc0b498dbbb2\n",
      "Found cached dataset json (/Users/kldooste/.cache/huggingface/datasets/FAERS-PubMed___json/FAERS-PubMed--raw_dataset-0b83cc0b498dbbb2/0.0.0/e6070c77f18f01a5ad4551a8b7edfba20b8438b7cad4d94e6ad9378022ce4aab)\n",
      "100%|██████████| 1/1 [00:00<00:00, 63.66it/s]\n"
     ]
    },
    {
     "name": "stdout",
     "output_type": "stream",
     "text": [
      "65648\n"
     ]
    }
   ],
   "source": [
    "# load matches\n",
    "dataset = datasets.load_dataset(\"FAERS-PubMed/raw_dataset\")\n",
    "matches = get_matches(dataset['train'])\n",
    "print(len(matches))"
   ]
  },
  {
   "cell_type": "code",
   "execution_count": 4,
   "metadata": {},
   "outputs": [],
   "source": [
    "# for every article, parse all the reports\n",
    "icsrs = []\n",
    "\n",
    "for m in matches:\n",
    "    new_icsrs = [(index, Icsr.from_report(r)) for index, r in enumerate(m.reports)]\n",
    "    new_icsrs = [t for t in new_icsrs if t[1]]\n",
    "    icsrs.append(new_icsrs)\n",
    "\n",
    "all_icsrs = [i for ls in icsrs for i in ls]"
   ]
  },
  {
   "cell_type": "code",
   "execution_count": 5,
   "metadata": {},
   "outputs": [],
   "source": [
    "# for every article, sample on priviledged report and put all the others in a list\n",
    "random.seed(42)\n",
    "\n",
    "sampled_icsrs = []\n",
    "other_icsrs = []\n",
    "\n",
    "for ls in icsrs:\n",
    "    sampled = None\n",
    "    other = []\n",
    "    if ls:\n",
    "        sampled = random.choice(ls)\n",
    "        other = deepcopy(ls)\n",
    "        other.remove(sampled)\n",
    "    sampled_icsrs.append(sampled)\n",
    "    other_icsrs.append(other)\n"
   ]
  },
  {
   "cell_type": "code",
   "execution_count": 6,
   "metadata": {},
   "outputs": [
    {
     "name": "stdout",
     "output_type": "stream",
     "text": [
      "number of total matches: \t\t65,648\n",
      "number of articles with >=1 icsr: \t51,212\n",
      "number of articles with >1 icsr: \t27,377\n"
     ]
    }
   ],
   "source": [
    "print(f'number of total matches: \\t\\t{len(matches):,}')\n",
    "print(f'number of articles with >=1 icsr: \\t{len([i for i in sampled_icsrs if i]):,}')\n",
    "print(f'number of articles with >1 icsr: \\t{len([i for i in other_icsrs if i]):,}')"
   ]
  },
  {
   "cell_type": "code",
   "execution_count": 7,
   "metadata": {},
   "outputs": [],
   "source": [
    "# validate the priviledged icsr against a random icsr with the same report\n",
    "# validate the priviledged icsr against a random icsr from a random report\n",
    "random.seed(42)\n",
    "\n",
    "similar_scores = []\n",
    "random_scores = []\n",
    "for sampled, others in zip(sampled_icsrs, other_icsrs):\n",
    "    if others:\n",
    "        other = random.choice(others)\n",
    "        \n",
    "        sampled_icsr = sampled[1]\n",
    "        other_icsr = other[1]\n",
    "\n",
    "        similar_scores.append(sampled_icsr.score(other_icsr))\n",
    "\n",
    "        random_other = random.choice(all_icsrs)[1]\n",
    "        random_scores.append(sampled_icsr.score(random_other))\n",
    "        "
   ]
  },
  {
   "cell_type": "code",
   "execution_count": 9,
   "metadata": {},
   "outputs": [
    {
     "name": "stdout",
     "output_type": "stream",
     "text": [
      "0.2432435244969848\n",
      "0.24388269245800143\n",
      "0.2428201908688846\n",
      "\n",
      "0.728383086816412\n",
      "0.7286750223845676\n",
      "0.7204383709761228\n"
     ]
    }
   ],
   "source": [
    "# aggregate scores across precision, recall and f1\n",
    "\n",
    "def agg_scores(list, index):\n",
    "    ls = [l[index] for l in list]\n",
    "    return sum(ls) / len(ls)\n",
    "\n",
    "print(agg_scores(random_scores,0))\n",
    "print(agg_scores(random_scores,1))\n",
    "print(agg_scores(random_scores,2))\n",
    "print('')\n",
    "print(agg_scores(similar_scores,0))\n",
    "print(agg_scores(similar_scores,1))\n",
    "print(agg_scores(similar_scores,2))"
   ]
  },
  {
   "cell_type": "code",
   "execution_count": null,
   "metadata": {},
   "outputs": [],
   "source": []
  }
 ],
 "metadata": {
  "kernelspec": {
   "display_name": "faers",
   "language": "python",
   "name": "python3"
  },
  "language_info": {
   "codemirror_mode": {
    "name": "ipython",
    "version": 3
   },
   "file_extension": ".py",
   "mimetype": "text/x-python",
   "name": "python",
   "nbconvert_exporter": "python",
   "pygments_lexer": "ipython3",
   "version": "3.9.16"
  },
  "orig_nbformat": 4
 },
 "nbformat": 4,
 "nbformat_minor": 2
}
