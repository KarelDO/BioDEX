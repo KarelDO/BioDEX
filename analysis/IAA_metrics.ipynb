{
 "cells": [
  {
   "cell_type": "code",
   "execution_count": 1,
   "metadata": {},
   "outputs": [
    {
     "name": "stderr",
     "output_type": "stream",
     "text": [
      "/Users/kldooste/miniconda3/envs/biodex/lib/python3.9/site-packages/tqdm/auto.py:21: TqdmWarning: IProgress not found. Please update jupyter and ipywidgets. See https://ipywidgets.readthedocs.io/en/stable/user_install.html\n",
      "  from .autonotebook import tqdm as notebook_tqdm\n"
     ]
    }
   ],
   "source": [
    "from src import Icsr\n",
    "from src.utils import get_matches\n",
    "\n",
    "import datasets\n",
    "import random\n",
    "from copy import deepcopy"
   ]
  },
  {
   "cell_type": "code",
   "execution_count": 2,
   "metadata": {},
   "outputs": [
    {
     "name": "stderr",
     "output_type": "stream",
     "text": [
      "Using custom data configuration BioDEX--raw_dataset-0b83cc0b498dbbb2\n",
      "Found cached dataset json (/Users/kldooste/.cache/huggingface/datasets/BioDEX___json/BioDEX--raw_dataset-0b83cc0b498dbbb2/0.0.0/e6070c77f18f01a5ad4551a8b7edfba20b8438b7cad4d94e6ad9378022ce4aab)\n",
      "100%|██████████| 1/1 [00:00<00:00, 65.84it/s]\n"
     ]
    },
    {
     "name": "stdout",
     "output_type": "stream",
     "text": [
      "65648\n"
     ]
    }
   ],
   "source": [
    "# load matches\n",
    "dataset = datasets.load_dataset(\"BioDEX/raw_dataset\")\n",
    "matches = get_matches(dataset['train'])\n",
    "print(len(matches))"
   ]
  },
  {
   "cell_type": "markdown",
   "metadata": {},
   "source": [
    "### Simplest IAA\n",
    "priviledged icsr vs random icsr"
   ]
  },
  {
   "cell_type": "code",
   "execution_count": 3,
   "metadata": {},
   "outputs": [],
   "source": [
    "# for every article, parse all the reports\n",
    "icsrs = []\n",
    "\n",
    "for m in matches:\n",
    "    new_icsrs = [(index, Icsr.from_report(r)) for index, r in enumerate(m.reports)]\n",
    "    new_icsrs = [t for t in new_icsrs if t[1]]\n",
    "    icsrs.append(new_icsrs)\n",
    "\n",
    "all_icsrs = [i for ls in icsrs for i in ls]"
   ]
  },
  {
   "cell_type": "code",
   "execution_count": 4,
   "metadata": {},
   "outputs": [],
   "source": [
    "# for every article, sample on priviledged report and put all the others in a list\n",
    "random.seed(42)\n",
    "\n",
    "sampled_icsrs = []\n",
    "other_icsrs = []\n",
    "\n",
    "for ls in icsrs:\n",
    "    sampled = None\n",
    "    other = []\n",
    "    if ls:\n",
    "        sampled = random.choice(ls)\n",
    "        other = deepcopy(ls)\n",
    "        other.remove(sampled)\n",
    "    sampled_icsrs.append(sampled)\n",
    "    other_icsrs.append(other)\n"
   ]
  },
  {
   "cell_type": "code",
   "execution_count": 5,
   "metadata": {},
   "outputs": [
    {
     "name": "stdout",
     "output_type": "stream",
     "text": [
      "number of total matches: \t\t65,648\n",
      "number of articles with >=1 icsr: \t51,212\n",
      "number of articles with >1 icsr: \t27,377\n"
     ]
    }
   ],
   "source": [
    "print(f'number of total matches: \\t\\t{len(matches):,}')\n",
    "print(f'number of articles with >=1 icsr: \\t{len([i for i in sampled_icsrs if i]):,}')\n",
    "print(f'number of articles with >1 icsr: \\t{len([i for i in other_icsrs if i]):,}')"
   ]
  },
  {
   "cell_type": "code",
   "execution_count": 6,
   "metadata": {},
   "outputs": [],
   "source": [
    "# validate the priviledged icsr against a random icsr with the same report\n",
    "# validate the priviledged icsr against a random icsr from a random report\n",
    "random.seed(42)\n",
    "\n",
    "similar_scores = []\n",
    "random_scores = []\n",
    "for sampled, others in zip(sampled_icsrs, other_icsrs):\n",
    "    if others:\n",
    "        other = random.choice(others)\n",
    "        \n",
    "        sampled_icsr = sampled[1]\n",
    "        other_icsr = other[1]\n",
    "\n",
    "        similar_scores.append(sampled_icsr.score(other_icsr))\n",
    "\n",
    "        random_other = random.choice(all_icsrs)[1]\n",
    "        random_scores.append(sampled_icsr.score(random_other))\n",
    "        "
   ]
  },
  {
   "cell_type": "code",
   "execution_count": 8,
   "metadata": {},
   "outputs": [
    {
     "name": "stdout",
     "output_type": "stream",
     "text": [
      "0.2432435244969848\n",
      "0.24388269245800143\n",
      "0.2428201908688846\n",
      "\n",
      "0.728383086816412\n",
      "0.7286750223845676\n",
      "0.7204383709761228\n",
      "\n",
      "Calculated over 27,377 applicable examples.\n"
     ]
    }
   ],
   "source": [
    "# aggregate scores across precision, recall and f1\n",
    "\n",
    "def agg_scores(list, index):\n",
    "    ls = [l[index] for l in list]\n",
    "    return sum(ls) / len(ls)\n",
    "\n",
    "print(agg_scores(random_scores,0))\n",
    "print(agg_scores(random_scores,1))\n",
    "print(agg_scores(random_scores,2))\n",
    "print('')\n",
    "print(agg_scores(similar_scores,0))\n",
    "print(agg_scores(similar_scores,1))\n",
    "print(agg_scores(similar_scores,2))\n",
    "print('')\n",
    "print(f'Calculated over {len(similar_scores):,} applicable examples.')"
   ]
  },
  {
   "attachments": {},
   "cell_type": "markdown",
   "metadata": {},
   "source": [
    "### Different IAA\n",
    "priviledged icsr vs random icsr that is not of the same company"
   ]
  },
  {
   "cell_type": "code",
   "execution_count": 25,
   "metadata": {},
   "outputs": [],
   "source": [
    "# for every article, parse all the reports\n",
    "# also keep track of the company that submitted the icsr\n",
    "def get_company(report):\n",
    "    comp = None\n",
    "    if report.companynumb:\n",
    "        if '-' in report.companynumb:\n",
    "            comp = report.companynumb.split('-')[1].strip().title()\n",
    "    return comp\n",
    "\n",
    "icsrs = []\n",
    "\n",
    "for m in matches:\n",
    "    new_icsrs = [(index, get_company(r) ,Icsr.from_report(r)) for index, r in enumerate(m.reports)]\n",
    "    new_icsrs = [t for t in new_icsrs if t[1] and t[2]]\n",
    "    icsrs.append(new_icsrs)\n",
    "\n",
    "all_icsrs = [i for ls in icsrs for i in ls]"
   ]
  },
  {
   "cell_type": "code",
   "execution_count": 27,
   "metadata": {},
   "outputs": [],
   "source": [
    "# for every article, sample on priviledged report and put all the others in a list\n",
    "random.seed(42)\n",
    "\n",
    "sampled_icsrs = []\n",
    "other_icsrs = []\n",
    "\n",
    "for ls in icsrs:\n",
    "    sampled = None\n",
    "    other = []\n",
    "    if ls:\n",
    "        sampled = random.choice(ls)\n",
    "        other = deepcopy(ls)\n",
    "        other.remove(sampled)\n",
    "    sampled_icsrs.append(sampled)\n",
    "    other_icsrs.append(other)\n"
   ]
  },
  {
   "cell_type": "code",
   "execution_count": 31,
   "metadata": {},
   "outputs": [
    {
     "name": "stdout",
     "output_type": "stream",
     "text": [
      "number of total matches: \t\t65,648\n",
      "number of articles with >=1 icsr: \t48,708\n",
      "number of articles with >1 icsr: \t25,675\n"
     ]
    }
   ],
   "source": [
    "print(f'number of total matches: \\t\\t{len(matches):,}')\n",
    "print(f'number of articles with >=1 icsr: \\t{len([i for i in sampled_icsrs if i]):,}')\n",
    "print(f'number of articles with >1 icsr: \\t{len([i for i in other_icsrs if i]):,}')"
   ]
  },
  {
   "cell_type": "code",
   "execution_count": 38,
   "metadata": {},
   "outputs": [
    {
     "name": "stdout",
     "output_type": "stream",
     "text": [
      "Made 19254 comparison same article different company\n"
     ]
    }
   ],
   "source": [
    "# validate the priviledged icsr against a random icsr with the same report\n",
    "# validate the priviledged icsr against a random icsr from a random report\n",
    "random.seed(42)\n",
    "\n",
    "similar_scores = []\n",
    "random_scores = []\n",
    "for sampled, others in zip(sampled_icsrs, other_icsrs):\n",
    "    if others:\n",
    "        other = random.choice(others)\n",
    "        \n",
    "\n",
    "        # only compare for different companies\n",
    "        if sampled[1] != other[1]:\n",
    "            sampled_icsr = sampled[2]\n",
    "            other_icsr = other[2]\n",
    "        \n",
    "            similar_scores.append(sampled_icsr.score(other_icsr))\n",
    "\n",
    "            random_other = random.choice(all_icsrs)[2]\n",
    "            random_scores.append(sampled_icsr.score(random_other))\n",
    "\n",
    "print(f'Made {len(similar_scores)} comparison same article different company')\n",
    "        "
   ]
  },
  {
   "cell_type": "code",
   "execution_count": 39,
   "metadata": {},
   "outputs": [
    {
     "name": "stdout",
     "output_type": "stream",
     "text": [
      "0.24530324070215034\n",
      "0.24606646000919297\n",
      "0.24492883153940762\n",
      "\n",
      "0.7316943442414694\n",
      "0.7321459690671169\n",
      "0.7233746876594158\n",
      "\n",
      "Calculated over 19,254 applicable examples.\n"
     ]
    }
   ],
   "source": [
    "print(agg_scores(random_scores,0))\n",
    "print(agg_scores(random_scores,1))\n",
    "print(agg_scores(random_scores,2))\n",
    "print('')\n",
    "print(agg_scores(similar_scores,0))\n",
    "print(agg_scores(similar_scores,1))\n",
    "print(agg_scores(similar_scores,2))\n",
    "print('')\n",
    "print(f'Calculated over {len(similar_scores):,} applicable examples.')"
   ]
  }
 ],
 "metadata": {
  "kernelspec": {
   "display_name": "faers",
   "language": "python",
   "name": "python3"
  },
  "language_info": {
   "codemirror_mode": {
    "name": "ipython",
    "version": 3
   },
   "file_extension": ".py",
   "mimetype": "text/x-python",
   "name": "python",
   "nbconvert_exporter": "python",
   "pygments_lexer": "ipython3",
   "version": "3.9.16"
  },
  "orig_nbformat": 4
 },
 "nbformat": 4,
 "nbformat_minor": 2
}
