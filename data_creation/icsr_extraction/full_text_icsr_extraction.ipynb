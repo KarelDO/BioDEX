{
 "cells": [
  {
   "cell_type": "code",
   "execution_count": 2,
   "metadata": {},
   "outputs": [
    {
     "name": "stderr",
     "output_type": "stream",
     "text": [
      "/Users/kldooste/miniconda3/envs/biodex/lib/python3.9/site-packages/tqdm/auto.py:21: TqdmWarning: IProgress not found. Please update jupyter and ipywidgets. See https://ipywidgets.readthedocs.io/en/stable/user_install.html\n",
      "  from .autonotebook import tqdm as notebook_tqdm\n"
     ]
    }
   ],
   "source": [
    "from src import Icsr\n",
    "from src.utils import get_matches\n",
    "\n",
    "import datasets\n",
    "import random\n",
    "from copy import deepcopy\n",
    "import re"
   ]
  },
  {
   "cell_type": "code",
   "execution_count": 3,
   "metadata": {},
   "outputs": [
    {
     "name": "stderr",
     "output_type": "stream",
     "text": [
      "Using custom data configuration FAERS-PubMed--BioDEX-ICSR-a832e06da923c0a1\n",
      "Found cached dataset parquet (/Users/kldooste/.cache/huggingface/datasets/FAERS-PubMed___parquet/FAERS-PubMed--BioDEX-ICSR-a832e06da923c0a1/0.0.0/2a3b91fbd88a2c90d1dbbb32b460cf621d31bd5b05b934492fdef7d8d6f236ec)\n",
      "100%|██████████| 3/3 [00:00<00:00, 172.95it/s]\n"
     ]
    }
   ],
   "source": [
    "# load icsr extraction dataset\n",
    "dataset = datasets.load_dataset(\"FAERS-PubMed/BioDEX-ICSR\")"
   ]
  },
  {
   "attachments": {},
   "cell_type": "markdown",
   "metadata": {},
   "source": [
    "### Manipulate the full-text\n",
    "- remove front information\n",
    "- remove references"
   ]
  },
  {
   "cell_type": "code",
   "execution_count": 4,
   "metadata": {},
   "outputs": [],
   "source": [
    "def remove_front(text):\n",
    "    if '==== Body' in text:\n",
    "        text = ('\\n').join(text.split('==== Body')[1:])\n",
    "    return text.strip()\n",
    "\n",
    "def remove_refs(text):\n",
    "    if '==== Refs' in text:\n",
    "        text = ('\\n').join(text.split('==== Refs')[:-1])\n",
    "    return text.strip() \n",
    "\n",
    "def get_fulltext_input(row):\n",
    "    fulltext_filtered = remove_refs(remove_front(row['fulltext']))\n",
    "    data = ['\\nTITLE:', row['title'], '\\nABSTRACT:', row['abstract'], '\\nTEXT:', fulltext_filtered]\n",
    "    return ('\\n').join(data).strip()\n",
    "\n",
    "# numbered_titles_re = r'^(\\d[\\.\\d]*) (.*)\\n'\n",
    "# capitalized_titles_re = r'^([A-Z ]+)\\n'"
   ]
  },
  {
   "cell_type": "code",
   "execution_count": 5,
   "metadata": {},
   "outputs": [
    {
     "name": "stderr",
     "output_type": "stream",
     "text": [
      "100%|██████████| 9624/9624 [00:02<00:00, 4518.07ex/s]\n",
      "100%|██████████| 3628/3628 [00:00<00:00, 4376.26ex/s]\n",
      "100%|██████████| 2407/2407 [00:00<00:00, 4550.52ex/s]\n"
     ]
    }
   ],
   "source": [
    "new_dataset = dataset.map(lambda example: {'fulltext_processed': get_fulltext_input(example)})"
   ]
  },
  {
   "cell_type": "code",
   "execution_count": 6,
   "metadata": {},
   "outputs": [],
   "source": [
    "# # save to disk\n",
    "# new_dataset.save_to_disk('../data/BioDEX-ICSR-Fulltext')\n",
    "# # load from disk\n",
    "# ds = datasets.load_from_disk('../data/BioDEX-ICSR-Fulltext')"
   ]
  },
  {
   "cell_type": "code",
   "execution_count": 7,
   "metadata": {},
   "outputs": [
    {
     "name": "stderr",
     "output_type": "stream",
     "text": [
      "Pushing split train to the Hub.\n",
      "Upload 1 LFS files: 100%|██████████| 1/1 [02:19<00:00, 139.97s/it]0:00<?, ?it/s]\n",
      "Pushing dataset shards to the dataset hub: 100%|██████████| 1/1 [02:21<00:00, 141.93s/it]\n",
      "Deleting unused files from dataset repository: 100%|██████████| 1/1 [00:00<00:00,  4.33it/s]\n",
      "Pushing split test to the Hub.\n",
      "Upload 1 LFS files: 100%|██████████| 1/1 [01:04<00:00, 64.92s/it]00:00<?, ?it/s]\n",
      "Pushing dataset shards to the dataset hub: 100%|██████████| 1/1 [01:06<00:00, 66.11s/it]\n",
      "Deleting unused files from dataset repository: 100%|██████████| 1/1 [00:00<00:00,  4.34it/s]\n",
      "Pushing split validation to the Hub.\n",
      "Upload 1 LFS files: 100%|██████████| 1/1 [00:41<00:00, 41.33s/it]00:00<?, ?it/s]\n",
      "Pushing dataset shards to the dataset hub: 100%|██████████| 1/1 [00:42<00:00, 42.27s/it]\n",
      "Deleting unused files from dataset repository: 100%|██████████| 1/1 [00:00<00:00,  2.96it/s]\n"
     ]
    }
   ],
   "source": [
    "# save to hub\n",
    "new_dataset.push_to_hub(\"FAERS-PubMed/BioDEX-ICSR\")"
   ]
  },
  {
   "cell_type": "code",
   "execution_count": null,
   "metadata": {},
   "outputs": [],
   "source": []
  }
 ],
 "metadata": {
  "kernelspec": {
   "display_name": "biodex",
   "language": "python",
   "name": "python3"
  },
  "language_info": {
   "codemirror_mode": {
    "name": "ipython",
    "version": 3
   },
   "file_extension": ".py",
   "mimetype": "text/x-python",
   "name": "python",
   "nbconvert_exporter": "python",
   "pygments_lexer": "ipython3",
   "version": "3.9.16"
  },
  "orig_nbformat": 4
 },
 "nbformat": 4,
 "nbformat_minor": 2
}
