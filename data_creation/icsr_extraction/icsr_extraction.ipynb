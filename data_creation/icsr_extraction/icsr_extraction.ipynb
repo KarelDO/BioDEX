{
 "cells": [
  {
   "cell_type": "code",
   "execution_count": 1,
   "metadata": {},
   "outputs": [
    {
     "name": "stderr",
     "output_type": "stream",
     "text": [
      "/Users/kldooste/miniconda3/envs/biodex/lib/python3.9/site-packages/tqdm/auto.py:21: TqdmWarning: IProgress not found. Please update jupyter and ipywidgets. See https://ipywidgets.readthedocs.io/en/stable/user_install.html\n",
      "  from .autonotebook import tqdm as notebook_tqdm\n"
     ]
    }
   ],
   "source": [
    "from src import Match, Icsr\n",
    "from src.utils import get_matches\n",
    "\n",
    "from datetime import datetime\n",
    "import random\n",
    "import datasets\n",
    "import pandas as pd\n"
   ]
  },
  {
   "cell_type": "code",
   "execution_count": 2,
   "metadata": {},
   "outputs": [
    {
     "name": "stderr",
     "output_type": "stream",
     "text": [
      "/Users/kldooste/miniconda3/envs/biodex/lib/python3.9/site-packages/huggingface_hub/utils/_hf_folder.py:92: UserWarning: A token has been found in `/Users/kldooste/.huggingface/token`. This is the old path where tokens were stored. The new location is `/Users/kldooste/.cache/huggingface/token` which is configurable using `HF_HOME` environment variable. Your token has been copied to this new location. You can now safely delete the old token file manually or use `huggingface-cli logout`.\n",
      "  warnings.warn(\n",
      "Using custom data configuration BioDEX--raw_dataset-0b83cc0b498dbbb2\n"
     ]
    },
    {
     "name": "stdout",
     "output_type": "stream",
     "text": [
      "Downloading and preparing dataset json/BioDEX--raw_dataset to /Users/kldooste/.cache/huggingface/datasets/BioDEX___json/BioDEX--raw_dataset-0b83cc0b498dbbb2/0.0.0/e6070c77f18f01a5ad4551a8b7edfba20b8438b7cad4d94e6ad9378022ce4aab...\n"
     ]
    },
    {
     "name": "stderr",
     "output_type": "stream",
     "text": [
      "Downloading data: 100%|██████████| 46.8M/46.8M [00:19<00:00, 2.34MB/s]\n",
      "Downloading data: 100%|██████████| 46.7M/46.7M [00:24<00:00, 1.88MB/s]\n",
      "Downloading data: 100%|██████████| 47.2M/47.2M [00:27<00:00, 1.73MB/s]\n",
      "Downloading data: 100%|██████████| 46.8M/46.8M [00:26<00:00, 1.74MB/s]\n",
      "Downloading data: 100%|██████████| 45.6M/45.6M [00:25<00:00, 1.77MB/s]\n",
      "Downloading data: 100%|██████████| 45.9M/45.9M [00:25<00:00, 1.77MB/s]\n",
      "Downloading data: 100%|██████████| 25.9M/25.9M [00:14<00:00, 1.76MB/s]\n",
      "Downloading data files: 100%|██████████| 1/1 [02:54<00:00, 174.84s/it]\n",
      "Extracting data files: 100%|██████████| 1/1 [00:04<00:00,  4.43s/it]\n",
      "                                \r"
     ]
    },
    {
     "name": "stdout",
     "output_type": "stream",
     "text": [
      "Dataset json downloaded and prepared to /Users/kldooste/.cache/huggingface/datasets/BioDEX___json/BioDEX--raw_dataset-0b83cc0b498dbbb2/0.0.0/e6070c77f18f01a5ad4551a8b7edfba20b8438b7cad4d94e6ad9378022ce4aab. Subsequent calls will reuse this data.\n"
     ]
    },
    {
     "name": "stderr",
     "output_type": "stream",
     "text": [
      "100%|██████████| 1/1 [00:00<00:00, 42.54it/s]\n"
     ]
    },
    {
     "name": "stdout",
     "output_type": "stream",
     "text": [
      "65648\n"
     ]
    }
   ],
   "source": [
    "# load matches\n",
    "dataset = datasets.load_dataset(\"BioDEX/raw_dataset\")\n",
    "matches = get_matches(dataset['train'])\n",
    "print(len(matches))"
   ]
  },
  {
   "cell_type": "code",
   "execution_count": 3,
   "metadata": {},
   "outputs": [],
   "source": [
    "# arguments\n",
    "report_cutoff = 10\n",
    "# fulltext_only = True\n",
    "fulltext_only = False\n",
    "commercial_only = False\n",
    "test_cutoff = datetime(year=2021, month=1, day=1)"
   ]
  },
  {
   "attachments": {},
   "cell_type": "markdown",
   "metadata": {},
   "source": [
    "### Filter too many reports\n",
    "A few articles have many reports. They are typically survey articles, drop them."
   ]
  },
  {
   "cell_type": "code",
   "execution_count": 4,
   "metadata": {},
   "outputs": [
    {
     "name": "stdout",
     "output_type": "stream",
     "text": [
      "Matches with <= 10 reports: 62,168\n"
     ]
    }
   ],
   "source": [
    "matches = [m for m in matches if len(m.reports) <= report_cutoff]\n",
    "print(f'Matches with <= {report_cutoff} reports: {len(matches):,}')"
   ]
  },
  {
   "attachments": {},
   "cell_type": "markdown",
   "metadata": {},
   "source": [
    "### Get articles with a full text"
   ]
  },
  {
   "cell_type": "code",
   "execution_count": 5,
   "metadata": {},
   "outputs": [],
   "source": [
    "if fulltext_only:\n",
    "    matches = [m for m in matches if m.article.fulltext]\n",
    "    print(f'Matches with full text: {len(matches):,}')"
   ]
  },
  {
   "attachments": {},
   "cell_type": "markdown",
   "metadata": {},
   "source": [
    "## (optional) Get articles with commercial license"
   ]
  },
  {
   "cell_type": "code",
   "execution_count": 6,
   "metadata": {},
   "outputs": [],
   "source": [
    "# noncommercial_licenses = {'CC BY-NC', 'CC BY-NC-SA', 'CC BY-NC-ND'}\n",
    "commercial_licenses = {'CC0', 'CC BY', 'CC BY-SA', 'CC BY-ND'}\n",
    "\n",
    "if commercial_only:\n",
    "    matches = [m for m in matches if m.article.fulltext_license in commercial_licenses]\n",
    "    print(f'Fulltext commercial dataset: {len(matches):,}')"
   ]
  },
  {
   "cell_type": "markdown",
   "metadata": {},
   "source": [
    "## Split the data"
   ]
  },
  {
   "cell_type": "code",
   "execution_count": 7,
   "metadata": {},
   "outputs": [],
   "source": [
    "def split_data(matches, test_cutoff):\n",
    "    test_matches = []\n",
    "    train_matches = []\n",
    "\n",
    "    for m in matches:\n",
    "        pubdate = datetime.strptime(m.article.pubdate[:4], '%Y')\n",
    "        if  pubdate >= test_cutoff:\n",
    "            test_matches.append(m)\n",
    "        else:\n",
    "            train_matches.append(m)\n",
    "\n",
    "    print(f'Train size: {len(train_matches):,}')\n",
    "    print(f'Test size: {len(test_matches):,}')\n",
    "\n",
    "    return train_matches, test_matches"
   ]
  },
  {
   "cell_type": "code",
   "execution_count": 8,
   "metadata": {},
   "outputs": [
    {
     "name": "stdout",
     "output_type": "stream",
     "text": [
      "Train size: 52,252\n",
      "Test size: 9,916\n"
     ]
    }
   ],
   "source": [
    "cutoff = datetime(year=2021, month=1, day=1)\n",
    "train, test = split_data(matches, cutoff)"
   ]
  },
  {
   "attachments": {},
   "cell_type": "markdown",
   "metadata": {},
   "source": [
    "### Format the data\n",
    "For every article, sample one report as target.\n",
    "\n",
    "Drop some fields and upload to huggingface."
   ]
  },
  {
   "cell_type": "code",
   "execution_count": 9,
   "metadata": {},
   "outputs": [],
   "source": [
    "\n",
    "def get_icsrs_from_split(split):\n",
    "    random.seed(42)\n",
    "\n",
    "    icsrs = []\n",
    "    for m in split:\n",
    "        # get all valid icsrs \n",
    "        new_icsrs = [Icsr.from_report(r) for r in m.reports]\n",
    "        new_icsrs = [t for t in new_icsrs if t]\n",
    "        # sample one\n",
    "        if new_icsrs:\n",
    "            new_icsr = random.choice(new_icsrs)\n",
    "            icsrs.append(new_icsr)\n",
    "        else:\n",
    "            icsrs.append(None)\n",
    "    return icsrs\n",
    "\n",
    "def get_ds_from_split(split):\n",
    "    icsrs = get_icsrs_from_split(split)\n",
    "    # only keep data with valid icsrs\n",
    "    valid = [m for index,m in enumerate(split) if icsrs[index]]\n",
    "    icsrs = [i for i in icsrs if i]\n",
    "    print(f'Found samples with valid icsrs: {len(valid):,}')\n",
    "\n",
    "    # format the data\n",
    "    data = [m.article.dict() for m in valid]\n",
    "    for d, i in zip(data, icsrs):\n",
    "        d.update({\n",
    "            'target': i.to_string()\n",
    "        })\n",
    "\n",
    "    df = pd.DataFrame(data=data)\n",
    "    # reorder some of the columns\n",
    "    df = df[['title', 'abstract','fulltext','target', 'pmid', 'fulltext_license', 'title_normalized','issue', 'pages', 'journal', 'authors', 'pubdate', 'doi', 'affiliations', 'medline_ta', 'nlm_unique_id', 'issn_linking', 'country', 'mesh_terms', 'publication_types', 'chemical_list', 'keywords', 'references', 'delete', 'pmc', 'other_id']]\n",
    "    df = df.fillna('')\n",
    "    ds = datasets.Dataset.from_pandas(df)\n",
    "    return ds"
   ]
  },
  {
   "cell_type": "code",
   "execution_count": 10,
   "metadata": {},
   "outputs": [
    {
     "name": "stdout",
     "output_type": "stream",
     "text": [
      "Found samples with valid icsrs: 40,294\n",
      "Found samples with valid icsrs: 8,053\n"
     ]
    }
   ],
   "source": [
    "train_ds = get_ds_from_split(train)\n",
    "test_ds = get_ds_from_split(test)\n",
    "\n",
    "train_ds = train_ds.shuffle(42)\n",
    "test_ds = test_ds.shuffle(42)"
   ]
  },
  {
   "cell_type": "code",
   "execution_count": 11,
   "metadata": {},
   "outputs": [],
   "source": [
    "# create a validation set\n",
    "len_train = int(len(train_ds) * 0.8)\n",
    "\n",
    "val_ds = train_ds.select(range(len_train,len(train_ds)))\n",
    "train_ds = train_ds.select(range(len_train))"
   ]
  },
  {
   "cell_type": "code",
   "execution_count": 12,
   "metadata": {},
   "outputs": [
    {
     "name": "stdout",
     "output_type": "stream",
     "text": [
      "train size:  32235\n",
      "val size:  8059\n",
      "test size:  8053\n"
     ]
    }
   ],
   "source": [
    "print('train size: ', len(train_ds))\n",
    "print('val size: ', len(val_ds))\n",
    "print('test size: ', len(test_ds))"
   ]
  },
  {
   "cell_type": "markdown",
   "metadata": {},
   "source": [
    "### Preprocess fulltext"
   ]
  },
  {
   "cell_type": "code",
   "execution_count": 13,
   "metadata": {},
   "outputs": [],
   "source": [
    "def remove_front(text):\n",
    "    if '==== Body' in text:\n",
    "        text = ('\\n').join(text.split('==== Body')[1:])\n",
    "    return text.strip()\n",
    "\n",
    "def remove_refs(text):\n",
    "    if '==== Refs' in text:\n",
    "        text = ('\\n').join(text.split('==== Refs')[:-1])\n",
    "    return text.strip() \n",
    "\n",
    "def get_fulltext_input(row, fulltext_only=False):\n",
    "    fulltext_filtered = remove_refs(remove_front(row['fulltext']))\n",
    "    data = ['\\nTITLE:', row['title'], '\\nABSTRACT:', row['abstract']]\n",
    "    if fulltext_only:\n",
    "        data = data.extend(['\\nTEXT:', fulltext_filtered])\n",
    "    return ('\\n').join(data).strip()\n",
    "\n",
    "# numbered_titles_re = r'^(\\d[\\.\\d]*) (.*)\\n'\n",
    "# capitalized_titles_re = r'^([A-Z ]+)\\n'"
   ]
  },
  {
   "cell_type": "code",
   "execution_count": 14,
   "metadata": {},
   "outputs": [],
   "source": [
    "ds = datasets.DatasetDict({\n",
    "    'train': train_ds,\n",
    "    'validation': val_ds,\n",
    "    'test': test_ds\n",
    "})"
   ]
  },
  {
   "cell_type": "code",
   "execution_count": 16,
   "metadata": {},
   "outputs": [
    {
     "name": "stderr",
     "output_type": "stream",
     "text": [
      "100%|██████████| 32235/32235 [00:03<00:00, 8478.86ex/s]\n",
      "100%|██████████| 8059/8059 [00:00<00:00, 8447.30ex/s]\n",
      "100%|██████████| 8053/8053 [00:01<00:00, 7607.17ex/s]\n"
     ]
    }
   ],
   "source": [
    "ds = ds.map(lambda example: {'fulltext_processed': get_fulltext_input(example, fulltext_only=fulltext_only)})"
   ]
  },
  {
   "attachments": {},
   "cell_type": "markdown",
   "metadata": {},
   "source": [
    "### Upload the data"
   ]
  },
  {
   "cell_type": "code",
   "execution_count": 18,
   "metadata": {},
   "outputs": [
    {
     "name": "stderr",
     "output_type": "stream",
     "text": [
      "Pushing split train to the Hub.\n",
      "Upload 1 LFS files: 100%|██████████| 1/1 [05:53<00:00, 353.23s/it]0:00<?, ?it/s]\n",
      "Pushing dataset shards to the dataset hub: 100%|██████████| 1/1 [05:54<00:00, 354.99s/it]\n",
      "Pushing split validation to the Hub.\n",
      "Upload 1 LFS files: 100%|██████████| 1/1 [01:20<00:00, 80.75s/it]00:00<?, ?it/s]\n",
      "Pushing dataset shards to the dataset hub: 100%|██████████| 1/1 [01:21<00:00, 81.75s/it]\n",
      "Pushing split test to the Hub.\n",
      "Upload 1 LFS files: 100%|██████████| 1/1 [01:58<00:00, 118.89s/it]0:00<?, ?it/s]\n",
      "Pushing dataset shards to the dataset hub: 100%|██████████| 1/1 [02:00<00:00, 120.03s/it]\n"
     ]
    }
   ],
   "source": [
    "if fulltext_only:\n",
    "    ds.push_to_hub('BioDEX/BioDEX-ICSR')\n",
    "else:\n",
    "    ds.push_to_hub('BioDEX/BioDEX-ICSR-Abstract')\n"
   ]
  },
  {
   "attachments": {},
   "cell_type": "markdown",
   "metadata": {},
   "source": [
    "### Load the data"
   ]
  },
  {
   "cell_type": "code",
   "execution_count": 2,
   "metadata": {},
   "outputs": [
    {
     "name": "stderr",
     "output_type": "stream",
     "text": [
      "Using custom data configuration BioDEX--BioDEX-ICSR-40aa49fec6af4868\n",
      "Found cached dataset parquet (/Users/kldooste/.cache/huggingface/datasets/BioDEX___parquet/BioDEX--BioDEX-ICSR-40aa49fec6af4868/0.0.0/2a3b91fbd88a2c90d1dbbb32b460cf621d31bd5b05b934492fdef7d8d6f236ec)\n",
      "100%|██████████| 3/3 [00:00<00:00, 252.46it/s]\n"
     ]
    }
   ],
   "source": [
    "ds = datasets.load_dataset('BioDEX/BioDEX-ICSR')"
   ]
  },
  {
   "cell_type": "code",
   "execution_count": 3,
   "metadata": {},
   "outputs": [
    {
     "name": "stdout",
     "output_type": "stream",
     "text": [
      "(1990, 2020)\n",
      "(1985, 2020)\n",
      "(2021, 2022)\n"
     ]
    }
   ],
   "source": [
    "# get the ranges\n",
    "def get_ranges(dates):\n",
    "    dates = [int(d[:4]) for d  in dates]\n",
    "    return min(dates), max(dates)\n",
    "\n",
    "print(get_ranges(ds['train']['pubdate']))\n",
    "print(get_ranges(ds['validation']['pubdate']))\n",
    "print(get_ranges(ds['test']['pubdate']))"
   ]
  },
  {
   "cell_type": "code",
   "execution_count": 9,
   "metadata": {},
   "outputs": [
    {
     "name": "stdout",
     "output_type": "stream",
     "text": [
      "163.05382377389859\n",
      "1325\n",
      "The percentile of 128 is 69.0\n"
     ]
    }
   ],
   "source": [
    "# average target length\n",
    "target_lengths = [len(e['target']) for e in ds['train']]\n",
    "print(sum(target_lengths) / len(target_lengths))\n",
    "print(max(target_lengths))\n",
    "\n",
    "# get percentile of a length\n",
    "# Calculate percentile\n",
    "import numpy as np\n",
    "length = 128\n",
    "percentile = np.percentile(target_lengths, (length / len(target_lengths)) * 100)\n",
    "\n",
    "# Print percentile\n",
    "print(\"The percentile of\", length, \"is\", percentile)"
   ]
  },
  {
   "cell_type": "code",
   "execution_count": null,
   "metadata": {},
   "outputs": [],
   "source": []
  }
 ],
 "metadata": {
  "kernelspec": {
   "display_name": "faers",
   "language": "python",
   "name": "python3"
  },
  "language_info": {
   "codemirror_mode": {
    "name": "ipython",
    "version": 3
   },
   "file_extension": ".py",
   "mimetype": "text/x-python",
   "name": "python",
   "nbconvert_exporter": "python",
   "pygments_lexer": "ipython3",
   "version": "3.9.16"
  },
  "orig_nbformat": 4
 },
 "nbformat": 4,
 "nbformat_minor": 2
}
