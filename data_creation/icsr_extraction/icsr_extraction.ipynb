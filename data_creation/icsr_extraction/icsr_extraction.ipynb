{
 "cells": [
  {
   "cell_type": "code",
   "execution_count": 2,
   "metadata": {},
   "outputs": [],
   "source": [
    "from src import Match, Icsr\n",
    "from src.utils import get_matches\n",
    "\n",
    "from datetime import datetime\n",
    "import random\n",
    "import datasets\n",
    "import pandas as pd\n"
   ]
  },
  {
   "cell_type": "code",
   "execution_count": 3,
   "metadata": {},
   "outputs": [
    {
     "name": "stderr",
     "output_type": "stream",
     "text": [
      "2023-04-18 19:09:25,814 WARNING Using custom data configuration FAERS-PubMed--raw_dataset-0b83cc0b498dbbb2\n",
      "2023-04-18 19:09:25,820 WARNING Found cached dataset json (/Users/kldooste/.cache/huggingface/datasets/FAERS-PubMed___json/FAERS-PubMed--raw_dataset-0b83cc0b498dbbb2/0.0.0/e6070c77f18f01a5ad4551a8b7edfba20b8438b7cad4d94e6ad9378022ce4aab)\n",
      "100%|██████████| 1/1 [00:00<00:00, 24.48it/s]\n"
     ]
    },
    {
     "name": "stdout",
     "output_type": "stream",
     "text": [
      "65648\n"
     ]
    }
   ],
   "source": [
    "# load matches\n",
    "dataset = datasets.load_dataset(\"FAERS-PubMed/raw_dataset\")\n",
    "matches = get_matches(dataset['train'])\n",
    "print(len(matches))"
   ]
  },
  {
   "cell_type": "code",
   "execution_count": 5,
   "metadata": {},
   "outputs": [],
   "source": [
    "# arguments\n",
    "report_cutoff = 10\n",
    "fulltext_only = True\n",
    "commercial_only = False\n",
    "test_cutoff = datetime(year=2021, month=1, day=1)"
   ]
  },
  {
   "attachments": {},
   "cell_type": "markdown",
   "metadata": {},
   "source": [
    "### Filter too many reports\n",
    "A few articles have many reports. They are typically survey articles, drop them."
   ]
  },
  {
   "cell_type": "code",
   "execution_count": 6,
   "metadata": {},
   "outputs": [
    {
     "name": "stdout",
     "output_type": "stream",
     "text": [
      "Matches with <= 10 reports: 62,168\n"
     ]
    }
   ],
   "source": [
    "matches = [m for m in matches if len(m.reports) <= report_cutoff]\n",
    "print(f'Matches with <= {report_cutoff} reports: {len(matches):,}')"
   ]
  },
  {
   "attachments": {},
   "cell_type": "markdown",
   "metadata": {},
   "source": [
    "### Get articles with a full text"
   ]
  },
  {
   "cell_type": "code",
   "execution_count": 7,
   "metadata": {},
   "outputs": [
    {
     "name": "stdout",
     "output_type": "stream",
     "text": [
      "Matches with full text: 18,678\n"
     ]
    }
   ],
   "source": [
    "if fulltext_only:\n",
    "    matches = [m for m in matches if m.article.fulltext]\n",
    "    print(f'Matches with full text: {len(matches):,}')"
   ]
  },
  {
   "attachments": {},
   "cell_type": "markdown",
   "metadata": {},
   "source": [
    "## (optional) Get articles with commercial license"
   ]
  },
  {
   "cell_type": "code",
   "execution_count": 8,
   "metadata": {},
   "outputs": [],
   "source": [
    "# noncommercial_licenses = {'CC BY-NC', 'CC BY-NC-SA', 'CC BY-NC-ND'}\n",
    "commercial_licenses = {'CC0', 'CC BY', 'CC BY-SA', 'CC BY-ND'}\n",
    "\n",
    "if commercial_only:\n",
    "    matches = [m for m in matches if m.article.fulltext_license in commercial_licenses]\n",
    "    print(f'Fulltext commercial dataset: {len(matches):,}')"
   ]
  },
  {
   "cell_type": "markdown",
   "metadata": {},
   "source": [
    "## Split the data"
   ]
  },
  {
   "cell_type": "code",
   "execution_count": 9,
   "metadata": {},
   "outputs": [],
   "source": [
    "def split_data(matches, test_cutoff):\n",
    "    test_matches = []\n",
    "    train_matches = []\n",
    "\n",
    "    for m in matches:\n",
    "        pubdate = datetime.strptime(m.article.pubdate[:4], '%Y')\n",
    "        if  pubdate >= test_cutoff:\n",
    "            test_matches.append(m)\n",
    "        else:\n",
    "            train_matches.append(m)\n",
    "\n",
    "    print(f'Train size: {len(train_matches):,}')\n",
    "    print(f'Test size: {len(test_matches):,}')\n",
    "\n",
    "    return train_matches, test_matches"
   ]
  },
  {
   "cell_type": "code",
   "execution_count": 10,
   "metadata": {},
   "outputs": [
    {
     "name": "stdout",
     "output_type": "stream",
     "text": [
      "Train size: 14,429\n",
      "Test size: 4,249\n"
     ]
    }
   ],
   "source": [
    "cutoff = datetime(year=2021, month=1, day=1)\n",
    "train, test = split_data(matches, cutoff)"
   ]
  },
  {
   "attachments": {},
   "cell_type": "markdown",
   "metadata": {},
   "source": [
    "### Format the data\n",
    "For every article, sample one report as target.\n",
    "\n",
    "Drop some fields and upload to huggingface."
   ]
  },
  {
   "cell_type": "code",
   "execution_count": 11,
   "metadata": {},
   "outputs": [],
   "source": [
    "\n",
    "def get_icsrs_from_split(split):\n",
    "    random.seed(42)\n",
    "\n",
    "    icsrs = []\n",
    "    for m in split:\n",
    "        # get all valid icsrs \n",
    "        new_icsrs = [Icsr.from_report(r) for r in m.reports]\n",
    "        new_icsrs = [t for t in new_icsrs if t]\n",
    "        # sample one\n",
    "        if new_icsrs:\n",
    "            new_icsr = random.choice(new_icsrs)\n",
    "            icsrs.append(new_icsr)\n",
    "        else:\n",
    "            icsrs.append(None)\n",
    "    return icsrs\n",
    "\n",
    "def get_ds_from_split(split):\n",
    "    icsrs = get_icsrs_from_split(split)\n",
    "    # only keep data with valid icsrs\n",
    "    valid = [m for index,m in enumerate(split) if icsrs[index]]\n",
    "    icsrs = [i for i in icsrs if i]\n",
    "    print(f'Found samples with valid icsrs: {len(valid):,}')\n",
    "\n",
    "    # format the data\n",
    "    data = [m.article.dict() for m in valid]\n",
    "    for d, i in zip(data, icsrs):\n",
    "        d.update({\n",
    "            'target': i.to_string()\n",
    "        })\n",
    "\n",
    "    df = pd.DataFrame(data=data)\n",
    "    # reorder some of the columns\n",
    "    df = df[['title', 'abstract','fulltext','target', 'pmid', 'fulltext_license', 'title_normalized','issue', 'pages', 'journal', 'authors', 'pubdate', 'doi', 'affiliations', 'medline_ta', 'nlm_unique_id', 'issn_linking', 'country', 'mesh_terms', 'publication_types', 'chemical_list', 'keywords', 'references', 'delete', 'pmc', 'other_id']]\n",
    "    df = df.fillna('')\n",
    "    ds = datasets.Dataset.from_pandas(df)\n",
    "    return ds"
   ]
  },
  {
   "cell_type": "code",
   "execution_count": 12,
   "metadata": {},
   "outputs": [
    {
     "name": "stdout",
     "output_type": "stream",
     "text": [
      "Found samples with valid icsrs: 12,031\n",
      "Found samples with valid icsrs: 3,628\n"
     ]
    }
   ],
   "source": [
    "train_ds = get_ds_from_split(train)\n",
    "test_ds = get_ds_from_split(test)\n",
    "\n",
    "train_ds = train_ds.shuffle(42)\n",
    "test_ds = test_ds.shuffle(42)"
   ]
  },
  {
   "cell_type": "code",
   "execution_count": 17,
   "metadata": {},
   "outputs": [],
   "source": [
    "# create a validation set\n",
    "len_train = int(len(train_ds) * 0.8)\n",
    "\n",
    "val_ds = train_ds.select(range(len_train,len(train_ds)))\n",
    "train_ds = train_ds.select(range(len_train))"
   ]
  },
  {
   "cell_type": "code",
   "execution_count": 18,
   "metadata": {},
   "outputs": [
    {
     "name": "stdout",
     "output_type": "stream",
     "text": [
      "train size:  9624\n",
      "val size:  2407\n",
      "test size:  3628\n"
     ]
    }
   ],
   "source": [
    "print('train size: ', len(train_ds))\n",
    "print('val size: ', len(val_ds))\n",
    "print('test size: ', len(test_ds))"
   ]
  },
  {
   "attachments": {},
   "cell_type": "markdown",
   "metadata": {},
   "source": [
    "### Upload the data"
   ]
  },
  {
   "cell_type": "code",
   "execution_count": 19,
   "metadata": {},
   "outputs": [
    {
     "name": "stderr",
     "output_type": "stream",
     "text": [
      "2023-04-18 19:16:11,114 WARNING Pushing split train to the Hub.\n",
      "Upload 1 LFS files: 100%|██████████| 1/1 [01:51<00:00, 111.57s/it]0:00<?, ?it/s]\n",
      "Pushing dataset shards to the dataset hub: 100%|██████████| 1/1 [01:54<00:00, 114.80s/it]\n",
      "Deleting unused files from dataset repository: 100%|██████████| 1/1 [00:00<00:00,  1.98it/s]\n",
      "2023-04-18 19:18:07,415 WARNING Pushing split val to the Hub.\n",
      "Upload 1 LFS files: 100%|██████████| 1/1 [00:27<00:00, 27.08s/it]00:00<?, ?it/s]\n",
      "Pushing dataset shards to the dataset hub: 100%|██████████| 1/1 [00:28<00:00, 28.38s/it]\n",
      "Deleting unused files from dataset repository: 100%|██████████| 1/1 [00:00<00:00,  2.90it/s]\n",
      "2023-04-18 19:18:37,198 WARNING Pushing split test to the Hub.\n",
      "Pushing dataset shards to the dataset hub:   0%|          | 0/1 [00:00<?, ?it/s]"
     ]
    }
   ],
   "source": [
    "ds = datasets.DatasetDict({\n",
    "    'train': train_ds,\n",
    "    'val': val_ds,\n",
    "    'test': test_ds\n",
    "})\n",
    "\n",
    "ds.push_to_hub('FAERS-PubMed/BioDEX-ICSR', private=True)"
   ]
  }
 ],
 "metadata": {
  "kernelspec": {
   "display_name": "faers",
   "language": "python",
   "name": "python3"
  },
  "language_info": {
   "codemirror_mode": {
    "name": "ipython",
    "version": 3
   },
   "file_extension": ".py",
   "mimetype": "text/x-python",
   "name": "python",
   "nbconvert_exporter": "python",
   "pygments_lexer": "ipython3",
   "version": "3.9.16"
  },
  "orig_nbformat": 4
 },
 "nbformat": 4,
 "nbformat_minor": 2
}
