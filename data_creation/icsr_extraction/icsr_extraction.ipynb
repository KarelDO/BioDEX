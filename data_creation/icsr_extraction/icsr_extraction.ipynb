{
 "cells": [
  {
   "cell_type": "code",
   "execution_count": 1,
   "metadata": {},
   "outputs": [
    {
     "name": "stderr",
     "output_type": "stream",
     "text": [
      "/Users/kldooste/miniconda3/envs/biodex/lib/python3.9/site-packages/tqdm/auto.py:21: TqdmWarning: IProgress not found. Please update jupyter and ipywidgets. See https://ipywidgets.readthedocs.io/en/stable/user_install.html\n",
      "  from .autonotebook import tqdm as notebook_tqdm\n"
     ]
    }
   ],
   "source": [
    "from src import Match, Icsr\n",
    "from src.utils import get_matches\n",
    "\n",
    "from datetime import datetime\n",
    "import random\n",
    "import datasets\n",
    "import pandas as pd\n"
   ]
  },
  {
   "cell_type": "code",
   "execution_count": 2,
   "metadata": {},
   "outputs": [
    {
     "name": "stderr",
     "output_type": "stream",
     "text": [
      "Using custom data configuration FAERS-PubMed--raw_dataset-0b83cc0b498dbbb2\n",
      "Found cached dataset json (/Users/kldooste/.cache/huggingface/datasets/FAERS-PubMed___json/FAERS-PubMed--raw_dataset-0b83cc0b498dbbb2/0.0.0/e6070c77f18f01a5ad4551a8b7edfba20b8438b7cad4d94e6ad9378022ce4aab)\n",
      "100%|██████████| 1/1 [00:00<00:00, 50.42it/s]\n"
     ]
    },
    {
     "name": "stdout",
     "output_type": "stream",
     "text": [
      "65648\n"
     ]
    }
   ],
   "source": [
    "# load matches\n",
    "dataset = datasets.load_dataset(\"FAERS-PubMed/raw_dataset\")\n",
    "matches = get_matches(dataset['train'])\n",
    "print(len(matches))"
   ]
  },
  {
   "cell_type": "code",
   "execution_count": 3,
   "metadata": {},
   "outputs": [],
   "source": [
    "# arguments\n",
    "report_cutoff = 10\n",
    "fulltext_only = True\n",
    "commercial_only = False\n",
    "test_cutoff = datetime(year=2021, month=1, day=1)"
   ]
  },
  {
   "attachments": {},
   "cell_type": "markdown",
   "metadata": {},
   "source": [
    "### Filter too many reports\n",
    "A few articles have many reports. They are typically survey articles, drop them."
   ]
  },
  {
   "cell_type": "code",
   "execution_count": 4,
   "metadata": {},
   "outputs": [
    {
     "name": "stdout",
     "output_type": "stream",
     "text": [
      "Matches with <= 10 reports: 62,168\n"
     ]
    }
   ],
   "source": [
    "matches = [m for m in matches if len(m.reports) <= report_cutoff]\n",
    "print(f'Matches with <= {report_cutoff} reports: {len(matches):,}')"
   ]
  },
  {
   "attachments": {},
   "cell_type": "markdown",
   "metadata": {},
   "source": [
    "### Get articles with a full text"
   ]
  },
  {
   "cell_type": "code",
   "execution_count": 5,
   "metadata": {},
   "outputs": [
    {
     "name": "stdout",
     "output_type": "stream",
     "text": [
      "Matches with full text: 18,678\n"
     ]
    }
   ],
   "source": [
    "if fulltext_only:\n",
    "    matches = [m for m in matches if m.article.fulltext]\n",
    "    print(f'Matches with full text: {len(matches):,}')"
   ]
  },
  {
   "attachments": {},
   "cell_type": "markdown",
   "metadata": {},
   "source": [
    "## (optional) Get articles with commercial license"
   ]
  },
  {
   "cell_type": "code",
   "execution_count": 6,
   "metadata": {},
   "outputs": [],
   "source": [
    "# noncommercial_licenses = {'CC BY-NC', 'CC BY-NC-SA', 'CC BY-NC-ND'}\n",
    "commercial_licenses = {'CC0', 'CC BY', 'CC BY-SA', 'CC BY-ND'}\n",
    "\n",
    "if commercial_only:\n",
    "    matches = [m for m in matches if m.article.fulltext_license in commercial_licenses]\n",
    "    print(f'Fulltext commercial dataset: {len(matches):,}')"
   ]
  },
  {
   "cell_type": "markdown",
   "metadata": {},
   "source": [
    "## Split the data"
   ]
  },
  {
   "cell_type": "code",
   "execution_count": 7,
   "metadata": {},
   "outputs": [],
   "source": [
    "def split_data(matches, test_cutoff):\n",
    "    test_matches = []\n",
    "    train_matches = []\n",
    "\n",
    "    for m in matches:\n",
    "        pubdate = datetime.strptime(m.article.pubdate[:4], '%Y')\n",
    "        if  pubdate >= test_cutoff:\n",
    "            test_matches.append(m)\n",
    "        else:\n",
    "            train_matches.append(m)\n",
    "\n",
    "    print(f'Train size: {len(train_matches):,}')\n",
    "    print(f'Test size: {len(test_matches):,}')\n",
    "\n",
    "    return train_matches, test_matches"
   ]
  },
  {
   "cell_type": "code",
   "execution_count": 8,
   "metadata": {},
   "outputs": [
    {
     "name": "stdout",
     "output_type": "stream",
     "text": [
      "Train size: 14,429\n",
      "Test size: 4,249\n"
     ]
    }
   ],
   "source": [
    "cutoff = datetime(year=2021, month=1, day=1)\n",
    "train, test = split_data(matches, cutoff)"
   ]
  },
  {
   "attachments": {},
   "cell_type": "markdown",
   "metadata": {},
   "source": [
    "### Format the data\n",
    "For every article, sample one report as target.\n",
    "\n",
    "Drop some fields and upload to huggingface."
   ]
  },
  {
   "cell_type": "code",
   "execution_count": 9,
   "metadata": {},
   "outputs": [],
   "source": [
    "\n",
    "def get_icsrs_from_split(split):\n",
    "    random.seed(42)\n",
    "\n",
    "    icsrs = []\n",
    "    for m in split:\n",
    "        # get all valid icsrs \n",
    "        new_icsrs = [Icsr.from_report(r) for r in m.reports]\n",
    "        new_icsrs = [t for t in new_icsrs if t]\n",
    "        # sample one\n",
    "        if new_icsrs:\n",
    "            new_icsr = random.choice(new_icsrs)\n",
    "            icsrs.append(new_icsr)\n",
    "        else:\n",
    "            icsrs.append(None)\n",
    "    return icsrs\n",
    "\n",
    "def get_ds_from_split(split):\n",
    "    icsrs = get_icsrs_from_split(split)\n",
    "    # only keep data with valid icsrs\n",
    "    valid = [m for index,m in enumerate(split) if icsrs[index]]\n",
    "    icsrs = [i for i in icsrs if i]\n",
    "    print(f'Found samples with valid icsrs: {len(valid):,}')\n",
    "\n",
    "    # format the data\n",
    "    data = [m.article.dict() for m in valid]\n",
    "    for d, i in zip(data, icsrs):\n",
    "        d.update({\n",
    "            'target': i.to_string()\n",
    "        })\n",
    "\n",
    "    df = pd.DataFrame(data=data)\n",
    "    # reorder some of the columns\n",
    "    df = df[['title', 'abstract','fulltext','target', 'pmid', 'fulltext_license', 'title_normalized','issue', 'pages', 'journal', 'authors', 'pubdate', 'doi', 'affiliations', 'medline_ta', 'nlm_unique_id', 'issn_linking', 'country', 'mesh_terms', 'publication_types', 'chemical_list', 'keywords', 'references', 'delete', 'pmc', 'other_id']]\n",
    "    df = df.fillna('')\n",
    "    ds = datasets.Dataset.from_pandas(df)\n",
    "    return ds"
   ]
  },
  {
   "cell_type": "code",
   "execution_count": 10,
   "metadata": {},
   "outputs": [
    {
     "name": "stdout",
     "output_type": "stream",
     "text": [
      "Found samples with valid icsrs: 12,031\n",
      "Found samples with valid icsrs: 3,628\n"
     ]
    }
   ],
   "source": [
    "train_ds = get_ds_from_split(train)\n",
    "test_ds = get_ds_from_split(test)\n",
    "\n",
    "train_ds = train_ds.shuffle(42)\n",
    "test_ds = test_ds.shuffle(42)"
   ]
  },
  {
   "cell_type": "code",
   "execution_count": 11,
   "metadata": {},
   "outputs": [],
   "source": [
    "# create a validation set\n",
    "len_train = int(len(train_ds) * 0.8)\n",
    "\n",
    "val_ds = train_ds.select(range(len_train,len(train_ds)))\n",
    "train_ds = train_ds.select(range(len_train))"
   ]
  },
  {
   "cell_type": "code",
   "execution_count": 14,
   "metadata": {},
   "outputs": [
    {
     "name": "stdout",
     "output_type": "stream",
     "text": [
      "train size:  9624\n",
      "val size:  2407\n",
      "test size:  3628\n"
     ]
    }
   ],
   "source": [
    "print('train size: ', len(train_ds))\n",
    "print('val size: ', len(val_ds))\n",
    "print('test size: ', len(test_ds))"
   ]
  },
  {
   "attachments": {},
   "cell_type": "markdown",
   "metadata": {},
   "source": [
    "### Upload the data"
   ]
  },
  {
   "cell_type": "code",
   "execution_count": 16,
   "metadata": {},
   "outputs": [
    {
     "name": "stderr",
     "output_type": "stream",
     "text": [
      "Pushing split train to the Hub.\n",
      "Upload 1 LFS files: 100%|██████████| 1/1 [04:19<00:00, 259.02s/it]0:00<?, ?it/s]\n",
      "Pushing dataset shards to the dataset hub: 100%|██████████| 1/1 [04:22<00:00, 262.22s/it]\n",
      "Pushing split validation to the Hub.\n",
      "Upload 1 LFS files: 100%|██████████| 1/1 [01:04<00:00, 64.24s/it]00:00<?, ?it/s]\n",
      "Pushing dataset shards to the dataset hub: 100%|██████████| 1/1 [01:07<00:00, 67.03s/it]\n",
      "Pushing split test to the Hub.\n",
      "Upload 1 LFS files: 100%|██████████| 1/1 [01:39<00:00, 99.32s/it]00:00<?, ?it/s]\n",
      "Pushing dataset shards to the dataset hub: 100%|██████████| 1/1 [01:41<00:00, 101.16s/it]\n"
     ]
    }
   ],
   "source": [
    "ds = datasets.DatasetDict({\n",
    "    'train': train_ds,\n",
    "    'validation': val_ds,\n",
    "    'test': test_ds\n",
    "})\n",
    "\n",
    "ds.push_to_hub('FAERS-PubMed/BioDEX-ICSR')"
   ]
  },
  {
   "attachments": {},
   "cell_type": "markdown",
   "metadata": {},
   "source": [
    "### Load the data"
   ]
  },
  {
   "cell_type": "code",
   "execution_count": 2,
   "metadata": {},
   "outputs": [
    {
     "name": "stderr",
     "output_type": "stream",
     "text": [
      "Downloading readme: 100%|██████████| 1.48k/1.48k [00:00<00:00, 1.32MB/s]\n",
      "Using custom data configuration FAERS-PubMed--BioDEX-ICSR-40aa49fec6af4868\n"
     ]
    },
    {
     "name": "stdout",
     "output_type": "stream",
     "text": [
      "Downloading and preparing dataset None/None to /Users/kldooste/.cache/huggingface/datasets/FAERS-PubMed___parquet/FAERS-PubMed--BioDEX-ICSR-40aa49fec6af4868/0.0.0/2a3b91fbd88a2c90d1dbbb32b460cf621d31bd5b05b934492fdef7d8d6f236ec...\n"
     ]
    },
    {
     "name": "stderr",
     "output_type": "stream",
     "text": [
      "Downloading data: 100%|██████████| 51.7M/51.7M [00:21<00:00, 2.40MB/s]\n",
      "Downloading data: 100%|██████████| 202M/202M [01:24<00:00, 2.40MB/s]]\n",
      "Downloading data: 100%|██████████| 83.9M/83.9M [00:35<00:00, 2.39MB/s]\n",
      "Downloading data files: 100%|██████████| 3/3 [02:22<00:00, 47.45s/it]\n",
      "Extracting data files: 100%|██████████| 3/3 [00:00<00:00, 1801.16it/s]\n",
      "                                \r"
     ]
    },
    {
     "name": "stdout",
     "output_type": "stream",
     "text": [
      "Dataset parquet downloaded and prepared to /Users/kldooste/.cache/huggingface/datasets/FAERS-PubMed___parquet/FAERS-PubMed--BioDEX-ICSR-40aa49fec6af4868/0.0.0/2a3b91fbd88a2c90d1dbbb32b460cf621d31bd5b05b934492fdef7d8d6f236ec. Subsequent calls will reuse this data.\n"
     ]
    },
    {
     "name": "stderr",
     "output_type": "stream",
     "text": [
      "100%|██████████| 3/3 [00:00<00:00, 131.08it/s]\n"
     ]
    }
   ],
   "source": [
    "ds = datasets.load_dataset('FAERS-PubMed/BioDEX-ICSR')"
   ]
  },
  {
   "cell_type": "code",
   "execution_count": 10,
   "metadata": {},
   "outputs": [
    {
     "name": "stdout",
     "output_type": "stream",
     "text": [
      "(1990, 2020)\n",
      "(1985, 2020)\n",
      "(2021, 2022)\n"
     ]
    }
   ],
   "source": [
    "# get the ranges\n",
    "def get_ranges(dates):\n",
    "    dates = [int(d[:4]) for d  in dates]\n",
    "    return min(dates), max(dates)\n",
    "\n",
    "print(get_ranges(ds['train']['pubdate']))\n",
    "print(get_ranges(ds['validation']['pubdate']))\n",
    "print(get_ranges(ds['test']['pubdate']))"
   ]
  },
  {
   "cell_type": "code",
   "execution_count": null,
   "metadata": {},
   "outputs": [],
   "source": []
  }
 ],
 "metadata": {
  "kernelspec": {
   "display_name": "faers",
   "language": "python",
   "name": "python3"
  },
  "language_info": {
   "codemirror_mode": {
    "name": "ipython",
    "version": 3
   },
   "file_extension": ".py",
   "mimetype": "text/x-python",
   "name": "python",
   "nbconvert_exporter": "python",
   "pygments_lexer": "ipython3",
   "version": "3.9.16"
  },
  "orig_nbformat": 4
 },
 "nbformat": 4,
 "nbformat_minor": 2
}
