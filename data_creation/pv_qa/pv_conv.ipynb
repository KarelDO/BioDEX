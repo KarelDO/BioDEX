{
 "cells": [
  {
   "cell_type": "code",
   "execution_count": 57,
   "metadata": {},
   "outputs": [],
   "source": [
    "%load_ext autoreload\n",
    "%autoreload 2"
   ]
  },
  {
   "cell_type": "code",
   "execution_count": 127,
   "metadata": {},
   "outputs": [],
   "source": [
    "\n",
    "# from src import Match, Icsr\n",
    "from src.utils import get_matches\n",
    "from questions import *\n",
    "\n",
    "from datetime import datetime\n",
    "import random\n",
    "import datasets\n",
    "from collections import defaultdict\n",
    "import numpy as np\n",
    "import tiktoken\n",
    "from copy import deepcopy\n",
    "import json\n",
    "\n",
    "# import pandas as pd\n",
    "# import matplotlib.pyplot as plt\n",
    "# from sklearn.model_selection import train_test_split\n",
    "\n",
    "import logging\n",
    "\n",
    "# Set the logging level to INFO\n",
    "logging.basicConfig(level=logging.INFO)\n",
    "\n",
    "# Get the root logger\n",
    "logger = logging.getLogger()"
   ]
  },
  {
   "cell_type": "code",
   "execution_count": 3,
   "metadata": {},
   "outputs": [
    {
     "name": "stderr",
     "output_type": "stream",
     "text": [
      "WARNING:datasets.builder:Using custom data configuration FAERS-PubMed--raw_dataset-e1a8735a3d189f31\n",
      "WARNING:datasets.builder:Found cached dataset json (/Users/kldooste/.cache/huggingface/datasets/FAERS-PubMed___json/FAERS-PubMed--raw_dataset-e1a8735a3d189f31/0.0.0/e6070c77f18f01a5ad4551a8b7edfba20b8438b7cad4d94e6ad9378022ce4aab)\n"
     ]
    },
    {
     "data": {
      "application/vnd.jupyter.widget-view+json": {
       "model_id": "a1f108c4c70b4cb3bf0341ba6a791b49",
       "version_major": 2,
       "version_minor": 0
      },
      "text/plain": [
       "  0%|          | 0/1 [00:00<?, ?it/s]"
      ]
     },
     "metadata": {},
     "output_type": "display_data"
    },
    {
     "name": "stdout",
     "output_type": "stream",
     "text": [
      "65648\n"
     ]
    }
   ],
   "source": [
    "# load matches\n",
    "dataset = datasets.load_dataset(\"FAERS-PubMed/raw_dataset\")\n",
    "matches = get_matches(dataset['train'])\n",
    "print(len(matches))"
   ]
  },
  {
   "cell_type": "code",
   "execution_count": 4,
   "metadata": {},
   "outputs": [],
   "source": [
    "# process full text\n",
    "def remove_front(text):\n",
    "    if '==== Body' in text:\n",
    "        text = ('\\n').join(text.split('==== Body')[1:])\n",
    "    return text.strip()\n",
    "\n",
    "def remove_refs(text):\n",
    "    if '==== Refs' in text:\n",
    "        text = ('\\n').join(text.split('==== Refs')[:-1])\n",
    "    return text.strip() \n",
    "\n",
    "def get_processed_fulltext(article):\n",
    "    fulltext_filtered = remove_refs(remove_front(article.fulltext))\n",
    "    data = [article.title,article.abstract, fulltext_filtered]\n",
    "    return ('\\n').join(data).strip()"
   ]
  },
  {
   "attachments": {},
   "cell_type": "markdown",
   "metadata": {},
   "source": [
    "## Filter"
   ]
  },
  {
   "cell_type": "code",
   "execution_count": 5,
   "metadata": {},
   "outputs": [],
   "source": [
    "# arguments\n",
    "report_cutoff = 10\n",
    "fulltext_only = True\n",
    "commercial_only = False\n",
    "test_cutoff = datetime(year=2021, month=1, day=1)"
   ]
  },
  {
   "cell_type": "code",
   "execution_count": 6,
   "metadata": {},
   "outputs": [
    {
     "name": "stdout",
     "output_type": "stream",
     "text": [
      "Matches with <= 10 reports: 62,168\n"
     ]
    }
   ],
   "source": [
    "# filter too many reports\n",
    "matches = [m for m in matches if len(m.reports) <= report_cutoff]\n",
    "print(f'Matches with <= {report_cutoff} reports: {len(matches):,}')"
   ]
  },
  {
   "cell_type": "code",
   "execution_count": 7,
   "metadata": {},
   "outputs": [
    {
     "name": "stdout",
     "output_type": "stream",
     "text": [
      "Matches with full text: 18,678\n"
     ]
    }
   ],
   "source": [
    "# get articles with full text\n",
    "if fulltext_only:\n",
    "    matches = [m for m in matches if m.article.fulltext]\n",
    "    print(f'Matches with full text: {len(matches):,}')"
   ]
  },
  {
   "attachments": {},
   "cell_type": "markdown",
   "metadata": {},
   "source": [
    "## Questions"
   ]
  },
  {
   "cell_type": "code",
   "execution_count": 8,
   "metadata": {},
   "outputs": [],
   "source": [
    "# questions = [\n",
    "#     WeightQuestion(),\n",
    "#     DrugsGivenReactionQuestion(),\n",
    "#     DrugAdministrationRouteQuestion(),\n",
    "#     DrugDosageQuestion(),\n",
    "#     DrugDosageTextQuestion(),\n",
    "#     ReactionOutcomeQuestion(),\n",
    "#     PatientAgeGivenReactionQuestion(),\n",
    "#     PatientAgeGivenDrugQuestion()\n",
    "# ]\n",
    "# conversation_flow = None\n",
    "\n",
    "# questions specifically focussed on icsr\n",
    "questions = [\n",
    "    PatientWeightAndSexQuestion(),\n",
    "    DrugsQuestion(),\n",
    "    ReactionsQuestion()\n",
    "]\n",
    "conversation_flow = [q.t for q in questions]\n",
    "\n"
   ]
  },
  {
   "cell_type": "code",
   "execution_count": 9,
   "metadata": {},
   "outputs": [],
   "source": [
    "bad_answers = ['Unknown', 'UNK']\n",
    "def get_questions(report):\n",
    "    instances = []\n",
    "    for question in questions:\n",
    "        try:\n",
    "            new_q = question.from_report(report)\n",
    "        except Exception as ex:\n",
    "            logger.warn(f'Error with question {question.t} on report {report.safetyreportid}: {type(ex).__name__}, {ex.args}')\n",
    "        instances.extend(new_q)\n",
    "    return instances\n",
    "\n",
    "def filter_questions(questions):\n",
    "    filtered_questions = []\n",
    "    for q in questions:\n",
    "        a = q[1]\n",
    "        if 'Unknown' not in a and 'UNK' not in a:\n",
    "            filtered_questions.append(q)\n",
    "    return filtered_questions"
   ]
  },
  {
   "cell_type": "code",
   "execution_count": 10,
   "metadata": {},
   "outputs": [],
   "source": [
    "# get questions associated with a report\n",
    "report_to_question = {}\n",
    "report_to_article = {}\n",
    "reports = {}\n",
    "\n",
    "for match in matches:\n",
    "    for report in match.reports:\n",
    "        if report.safetyreportid in report_to_question:\n",
    "            raise KeyError('safetyreportid already in set')\n",
    "        else:\n",
    "            reports.update({\n",
    "                report.safetyreportid: report\n",
    "            })\n",
    "            report_to_question.update({\n",
    "                report.safetyreportid: filter_questions(get_questions(report))\n",
    "            })\n",
    "            report_to_article.update({\n",
    "                report.safetyreportid: match.article.pmid\n",
    "            })\n",
    "\n",
    "articles = {}\n",
    "\n",
    "for match in matches:\n",
    "    articles.update({match.article.pmid: match.article})"
   ]
  },
  {
   "attachments": {},
   "cell_type": "markdown",
   "metadata": {},
   "source": [
    "## Conversation"
   ]
  },
  {
   "cell_type": "code",
   "execution_count": 11,
   "metadata": {},
   "outputs": [],
   "source": [
    "def sample_conversation(questions, seed=4):\n",
    "    random.seed(seed)\n",
    "    # group questions per type\n",
    "    questions_per_type = defaultdict(list)\n",
    "    for q in questions:\n",
    "        questions_per_type[q[2]].append(q)\n",
    "\n",
    "    # if a conversation flow is not defined, uniformy sample some types and one question per type\n",
    "    if not conversation_flow:\n",
    "        types = questions_per_type.keys()\n",
    "        types_sampled = random.sample(types, len(types))\n",
    "    # else, follow the flow\n",
    "    else:\n",
    "        types_sampled = conversation_flow\n",
    "\n",
    "    conversation = []\n",
    "    for q_type in types_sampled:\n",
    "        conversation.append(random.choice(questions_per_type[q_type]))\n",
    "\n",
    "    return conversation"
   ]
  },
  {
   "cell_type": "code",
   "execution_count": 12,
   "metadata": {},
   "outputs": [],
   "source": [
    "def conversation_to_chatml(conversation, article):\n",
    "    # set system messagee\n",
    "    chatml = [{\n",
    "        'role': 'system',\n",
    "        'content': 'You are a helpful assistant. You read biomedical texts and concisely answer user questions about adverse drug events. You give the most specific answer supported by the text.'\n",
    "    }]\n",
    "    # include article in the first full text\n",
    "    first_q, first_a, _ = conversation[0]\n",
    "    processed_article = get_processed_fulltext(article)\n",
    "    chatml.append({\n",
    "                'role': 'user',\n",
    "                'content': f'Answer the question given the text. \\n\\nQuestion: {first_q}\\n\\nText: {processed_article}'\n",
    "            })\n",
    "    chatml.append({\n",
    "        'role': 'assistant',\n",
    "        'content': first_a\n",
    "    })\n",
    "    # QA over different turns\n",
    "    for q,a, _ in conversation[1:]:\n",
    "        chatml.append({\n",
    "            'role': 'user',\n",
    "            'content': q\n",
    "        })\n",
    "        chatml.append({\n",
    "            'role': 'assistant',\n",
    "            'content': a\n",
    "        })\n",
    "    return chatml"
   ]
  },
  {
   "cell_type": "code",
   "execution_count": 13,
   "metadata": {},
   "outputs": [],
   "source": [
    "report_to_chatml = {}\n",
    "\n",
    "for report_id in reports.keys():\n",
    "    article = articles[report_to_article[report_id]]\n",
    "    conversation = sample_conversation(report_to_question[report_id], seed = report_id)\n",
    "    chatml = conversation_to_chatml(conversation, article)\n",
    "\n",
    "    report_to_chatml.update({\n",
    "        report_id: chatml\n",
    "    })"
   ]
  },
  {
   "cell_type": "code",
   "execution_count": 14,
   "metadata": {},
   "outputs": [
    {
     "data": {
      "text/plain": [
       "[{'role': 'system',\n",
       "  'content': 'You are a helpful assistant. You read biomedical texts and concisely answer user questions about adverse drug events. You give the most specific answer supported by the text.'},\n",
       " {'role': 'user',\n",
       "  'content': \"Answer the question given the text. \\n\\nQuestion: This text describes an adverse drug event with regard to a patient or cohort. What is the weight of the patient? What is the sex of the patient? Produce an answer in the following format: 'The patient weights {{weight}} kg and is {{male|female}}'. If no weight or sex values can be identified, fill in 'N/A'.\\n\\nText: Case Report: Perioperative Kounis Syndrome in an Adolescent With Congenital Glaucoma.\\nA 12-year-old male patient suffering from congenital glaucoma developed bradycardia, left ventricular failure, and hypotension after induction of anesthesia. Electrocardiography and echocardiography revealed a complete normalization of ECG and a complete spontaneous recovery in the cardiac function 72 hours from the beginning of the clinical manifestations, while cardiac Magnetic Resonance Imaging was performed, and coronary Computed Tomography scan revealed a myocardial bridge of a tract of the left anterior descendent coronary artery. Diagnosis of Kounis syndrome (KS) was made, a relatively novel, under-recognized clinical condition, defined as the manifestation of an acute coronary syndrome accompanied by mast cell activation and platelet aggregation involving interrelated and interacting inflammatory cells in the setting of allergic, hypersensitivity, anaphylactic or anaphylactoid insults. We described one of the first pediatric cases of KS related to anesthetic medications. In children, this syndrome has been only described in isolated case reports or small case series. Thus, it appears critical to report new cases of KS in children to increase the awareness of this disease in pediatric healthcare workers so as to enhance its early recognition and optimal therapeutic strategy. Furthermore, it appears of paramount importance the implementation of universal guidelines accepted by allergology and cardiology societies, in order to standardize the management of pediatric and adult patients with KS. Finally, a close collaboration between pediatric allergists and cardiologists seems fundamental for an optimal multidisciplinary patient care.\\npmcIntroduction\\n\\nKounis syndrome (KS) is defined as the manifestation of an acute coronary syndrome accompanied by mast cell activation and platelet aggregation involving interrelated and interacting inflammatory cells in the setting of allergic, hypersensitivity, anaphylactic or anaphylactoid insults (1, 2). However, the exact physiopathology of this syndrome has not been fully elucidated.\\n\\nAlthough this condition could potentially occur in every age, only a minority of cases (9.1%) are described in subjects younger than 20 years of age compared to older ages (68.0% at 40–70 years old) (3). The main reason could be attributed to an underestimation of this relatively novel syndrome in the pediatric age (4). Several triggers have been associated with KS, including drug administration, food consumption, and insect bites. Antibiotics (27.4%) and insect bites (23.4%) are demonstrated as the most common triggers eliciting this syndrome (1, 3). KS caused by anesthetic medications has already been reported as a cause of acute coronary syndrome (5–8). However, to the best of our knowledge, we describe one of the first pediatric cases of KS associated to anesthetic drugs (4, 8–14).\\n\\nCase Description\\n\\nA 12-year-old male suffering from congenital glaucoma was admitted to Meyer Children's University Hospital for the surgical revision of his ocular Baerveldt implant, a device that maintains a patent connection between the anterior chamber of the eye and an equatorial bleb capsule and improves the drainage of the aqueous out of the eye (15). This patient suffered from a pathologic mutation on CYP1B1, encoding a dioxin-inducible enzyme belonging to the cytochrome P450 superfamily, that is involved in the proper development and balance of trabecular meshwork (16). Because of this chronic ocular disease, the patient had previously undergone other surgical procedures with no reported anesthesiologic complications. A previous surgery was performed 3 months before and the anesthesia was administered with inhaled sevoflurane and intravenous fentanyl, accompanied with intravenous ondansetron as antiemetic drug, without any clinical reaction. His past medical history was negative for any cardiac issue or atopic condition, and his family medical history was unremarkable.\\n\\nAbout 30 minutes after the induction phase of the anesthesia with intravenous midazolam bolus, followed by continuous inhaled sevoflurane, the patient experienced an episode of bradycardia associated with hypotension, apparently without reporting any clinical signs and symptoms (dyspnoea, chest pain, pulmonary or peripheral oedema). Specifically, his heart rate decreased from 90 to 40 bpm; however, this clinical manifestation seemed to respond to the administration of a bolus of atropine that further induced a transient episode of sinus tachycardia. At the same time, his blood pressure dropped to 80/45 mmHg. In the acute phase, the physical examination revealed a mild apical systolic murmur (2/6 on the Levine grading scale), without any other clinical manifestations of heart failure.\\n\\nAn electrocardiogram (ECG) showed sinus rhythm with ventricular repolarization abnormalities in the inferior lateral wall (Figure 1). Moreover, the echocardiographic study demonstrated global left ventricular (LV) hypokinesia and dilatation with preserved right ventricular function (Figure 1). Laboratory work-up documented an increase of creatine kinase-myocardial band (CK-MB) and troponin. Furthermore, N-terminal-prohormone B-type natriuretic peptide (NT-proBNP) was increased as well, consistent with LV dysfunction. Further blood investigations did not show any inflammatory markers increase, eosinophilia, electrolytic imbalance, and liver, or kidney dysfunction (Table 1).\\n\\nFigure 1 First electrocardiogram and echocardiogram after the onset of the clinical manifestations (A). The electrocardiogram shows sinus rhythm with 100 rpm, PR 0.14 s, QRS 0.08 s, QT/QTc 320/422 ms and diffuse alterations in ventricular repolarization with negative T waves in precordial leads (V4–V6), D2, D3 and aVF (B1–B4). The echocardiogram shows a diffusely hypokinetic left ventricle with an ejection fraction of 34%. Left ventricular inner dimension diastole 50 mm (Z score +2.3), left ventricular inner dimension systole 39 mm (Z score +4.25), left posterior ventricular wall diastole 6.6 mm (Z score −0.23), interventricular septum diastole 5.5 mm (Z score −1.22), right ventricular inner dimension diastole 14 mm (Z score +0.20) [Z score is derived from Kampman et al. (17)] (B1,B2). Moderate mitral valve regurgitation (left ventricular delta Pressure/delta Time 699 mmHg/s) (B3). Left and right coronary artery originating from left and right Valsalva sinus, respectively (B4).\\n\\nTable 1 Laboratory tests trend from the admission to the discharge of the patient.\\n\\n\\tAdmission\\t2 days\\t4 days\\tDischarge\\tNormal\\t\\n\\t\\tafter admission\\tafter admission\\t\\tvalues\\t\\nWBC (x 103/μL)\\t\\t\\t6.36\\t\\t4.10–12.00\\t\\nRBC (x 106/μL)\\t\\t\\t4.66\\t\\t4.30–5.80\\t\\nHb (g/dL)\\t\\t\\t13.7\\t\\t12.60–17.00\\t\\nPLT (x 103/μL)\\t\\t\\t230\\t\\t190–460\\t\\nN (%)\\t\\t\\t54.4\\t\\t35.0–65.0\\t\\nL (%)\\t\\t\\t32.7\\t\\t15.0–55.0\\t\\nM (%)\\t\\t\\t7.9\\t\\t2.0–15.0\\t\\nE (%)\\t\\t\\t2.6\\t\\t0.0–6.0\\t\\nB (%)\\t\\t\\t0.5\\t\\t0.0–3.0\\t\\nCRP (mg/dL)\\t<0.290\\t\\t\\t\\t0.0–0.5\\t\\nNa (mEq/L)\\t\\t\\t139\\t\\t133–145\\t\\nK (mEq/L)\\t\\t\\t3.8\\t\\t3.3–5.2\\t\\nCl (mEq/L)\\t\\t\\t104\\t\\t95–110\\t\\nAST (IU/L)\\t\\t\\t26\\t\\t8–60\\t\\nALT (IU/L)\\t\\t\\t31\\t\\t7–55\\t\\nCreatinine (mg/dL)\\t0.56\\t\\t\\t\\t0.40–0.80\\t\\nCK (IU/L)\\t86\\t81\\t\\t\\t20–200\\t\\nCK-MB (ng/mL)\\t7.5\\t1.3\\t\\t\\t0.5–3.6\\t\\nTroponin (μg/L)\\t2.03\\t0.21\\t0.14\\t\\t0.00–0.09\\t\\nNT-proBNP(pg/mL)\\t830\\t1,300\\t1,835\\t601\\t5–242\\t\\nALT, alanine transaminase; AST, aspartate transaminase; B, basophils; CK, creatine kinase; CK-MB, creatine kinase-myocardial band; Cl, chloride; CRP, C-reactive protein; E, eosinophils; Hb, hemoglobin; K, potassium; L, lymphocytes; M, monocytes; N, neutrophils; Na, sodium; NT-proBNP, N-terminal-prohormone B-type natriuretic peptide; PLT, platelets; RBC, red blood cells; WBC, white blood cells.\\n\\nThe patient was hemodynamically stable, but a close follow-up was planned, including a daily electrocardiogram and echocardiography for prompt evaluation of any additional ECG-ischemic changes or cardiomyopathy deterioration.\\n\\nTwo days after admission, in order to exclude other causes of cardiomyopathy, such as myocarditis, a cardiac contrast-enhancement magnetic resonance imaging (CE-MRI) demonstrated a significant improvement of LV function without any regional wall abnormality. Oedema was noticed on the anterior ventricular wall (Figure 2), possibly consistent with reversible myocardial injury potentially related to myocardial ischemia, while no signs of fibrosis were demonstrated after gadolinium enhancement. A daily cardiac evaluation revealed a complete normalization of ECG and a complete recovery in the cardiac function 72 hours from the beginning of the clinical manifestations, along with a marked reduction in CK-MB, troponin and NT-proBNP, at discharge, 6 days after admission (Figure 3), while the patient was in good clinical condition, in absence of drug therapy.\\n\\nFigure 2 (A) Cardiac contrast-enhancement magnetic resonance imaging demonstrates an increase of T2 signal on anterior left ventricular wall. (B1–B4) Coronary computed tomography reveals a right dominant coronary artery (B1), left common trunk coronary artery (B2), left circumflex coronary artery (B3) and left anterior descending (LAD) coronary artery (B4) without any dissection, lumen obstruction or anatomical variants. A tract of LAD coronary artery runs through the width of the myocardial wall for 12.3 mm and with a parietal thickness of 1.4 mm (B4).\\n\\nFigure 3 Trend of troponin, NT-proBNP (A) and ejection fraction (B) from the admission to the discharge of the patient. NT-proBNP, N-terminal-prohormone B-type natriuretic peptide.\\n\\nA coronary computed tomography (CT), 10 days after the onset of the clinical manifestations, excluded any lumen obstruction, dissection or other anatomical variants of the aorta and coronary arteries. However, it was clearly observed myocardial bridge of a tract of the left anterior descending (LAD) coronary artery (Figure 2). As a precaution, it was chosen not to perform a provocative stress test during the acute phase of the disease, but in order to exclude further stress-induced ischemia an exercise test was performed 21 days after the onset of the clinical manifestations. It showed a linear increase in heart rate and blood pressure, without ischemic signs, symptoms or ST-T ECG alterations.\\n\\nThe patient underwent skin prick testing with midazolam (5 mg/ml) and sevoflurane (100%) with negative results. According to current standards, histamine 10 mg/ml (Lofarma, Milan, Italy) and normal saline were used as positive and negative control substances, respectively.\\n\\nDiscussion\\n\\nKS is a rare and poorly characterized entity in children (2, 4, 8–14). In adults, this condition could be associated with other factors, such as previous allergy, hypertension, smoking, diabetes and hyperlipidemia, whereas these features may be less important in children and adolescents (3, 18, 19). The clinical suspicion is based on clinical signs and symptoms (including acute chest pain, chest discomfort, dyspnoea, bradycardia, hypotension, pallor, palpitations or clinical manifestations of a reaction) associated with a potential trigger. KS diagnosis should be highly suspected when these clinical findings are accompanied by ECG signs (including atrial fibrillation, sinus bradycardia, sinus tachycardia, ST-segment elevation or depression, T-wave flattening or inversion), an increase of myocardial injury biomarkers or possible evidence of coronary spasm/thrombosis on coronary angiography (1).\\n\\nThe differential diagnosis of KS includes other conditions related to myocardial injury, including spontaneous coronary artery dissection, fibromuscular dysplasia, myocardial bridging, myocarditis and takotsubo syndrome (20, 21).\\n\\nAccording to diagnostic criteria of myocarditis in our patient the diagnosis of infectious myocarditis could be excluded, due to the absence of fever or previous infectious clinical signs and symptoms, values of the blood tests, and findings of the MRI (22).\\n\\nSometimes, it can be difficult to distinguish takotsubo syndrome from KS and, as already reported, in some cases they can even coexist (23, 24). Interestingly, both these conditions share some common pathologic mechanisms: vascular hyperreactivity of coronary arteries and local/systemic cellular or humoral inflammatory response in inducing myocardial damage (25, 26).\\n\\nIn our patient, there was a close relationship between the administration of anesthetic medications and the onset of the clinical manifestations [probable association according to Naranjo scale (27)]. Furthermore, there was an increase of troponin and CK-MB, together with ECG abnormalities (diffuse repolarization abnormalities in inferior and lateral leads) and echocardiographic features (diffuse hypokinesia of LV wall). The latter characteristics strongly supported the diagnosis of KS.\\n\\nOkur et al. defined the cardiac MRI criteria for KS type 1 diagnosis: early phase subendocardial contrast defect, T2 weight images showing high-intensity signal consistent with oedema of all lesion areas, lack of the late gadolinium enhancement, and no transmural involvement (28). This study reported different percentages of left-wall myocardial involvement with a prevalence in interventricular septum (53.8%), followed by LV lateral wall (30.7%). It is interesting to note that MRI in our patient highlighted an augmented T2 signal in the anterior LV wall without late gadolinium enhancement, probably supporting vasospasm in the left anterior descending coronary artery, concordant with the ECG data.\\n\\nCoronary angiography is the gold standard to demonstrate the anatomy of coronary arteries and to exclude other causes of lumen obstruction. The coronary-CT of our patient demonstrated myocardial bridging of a tract of LAD coronary artery. Drug reactions and the narrowing of the coronary lumen due to myocardial bridging have already been reported as participating co-factors leading to myocardial ischemia (29). Indeed, it seems unlikely a direct role of a myocardial bridging as the unique cause of the transient myocardial damage, even if it could be accounted as a potential favoring condition.\\n\\nIn a recent retrospective analysis, allergic reactions due to sedative e/o analgesic medications during pediatric pre-procedural sedation were described with an incidence of about 1:4,219, with midazolam being the third most frequently reported drug (1:2,035) (30). Midazolam can also be associated with severe adverse events, for example, anaphylactic and anaphylactoid reactions (31–34). Moreover, an acute coronary syndrome has already been described in the literature as a side effect of this anesthetic drug in a previous case report of KS in an adult patient during the preoperative phase of a transurethral prostatectomy (5). Furthermore, inhaled anesthetic medications, such as isoflurane, have already been reported as a possible precipitating factor of acute coronary vasospasm in a 59-year-old man and in a 2-year-old boy (6, 8). Sevoflurane was used in our case and, of note, our patient had received anesthesia comprising sevoflurane without clinical reactions 3 months before. However, he was suggested to strictly avoid drugs potentially associated to the event in the future.\\n\\nAs occurred in our case, diagnosis of KS can be difficult when the patient is not able to report signs and symptoms. In such conditions the suspicion and the diagnosis establishment should be based mostly on the close association between a trigger, for example a drug, and the occurrence of ECG signs, the increase of myocardial injury biomarkers or possible evidence of coronary spasm/thrombosis on coronary angiography (1).\\n\\nIn anaphylaxis, cutaneous manifestations can lack in a minority of cases. In a cohort of adult and pediatric patients with this disease, skin was affected in 84% of them, followed by clinical manifestations involving cardiovascular (72%) or respiratory (68%) systems (35, 36). In severe anaphylaxis the phenomenon has been hypothesized due to the state of shock that prevents or delays the released anaphylactic mediators from reaching and acting on the skin, thus inducing redness, rash and/or itching (37, 38). The absence of skin lesions can also occur in KS, in which rash has been described in 26.8% of cases, preceded by chest pain (86.8%) and anaphylaxis (53%) (3, 39, 40). Indeed, the latter event may be particularly true especially if the blood pressure is low as in the described patient.\\n\\nSkin prick tests could be useful in demonstrating IgE-mediated hypersensitivity (41). However, especially for some drugs, in case of negative results is not possible to completely rule out the diagnosis of hypersensitivity. Interestingly, skin tests themselves can induce KS and caution has to be paid to carry them out, especially when the diagnostic performance for the specific allergen is suboptimal (42). Unfortunately, serum tryptase dosage was not performed in our patient. However, although positive serum tryptase could be a useful biomarker in case of anaphylaxis and KS, negative results cannot rule them out completely (2).\\n\\nIn this case we highlighted the importance of recognition of KS in pediatric patients, differentiating this condition from other ones associated with acute ventricular systolic disfunction. Firstly, a hypersensitivity reaction should be taken into consideration as a potential cause of an acute coronary syndrome; secondly we pointed out the critical role of observing closely the patient, as the situation could evolve unpredictably to a cardiopulmonary emergency. Moreover, when a myocarditis or another cause are suspected, they benefit from a specific management (22). In the context of diagnostic investigations, in addition to ECG and echocardiography, cardiac MRI and coronary CT scan were performed, which were fundamental to assess our patient. In addition, his blood investigations did not show inflammatory markers increase.\\n\\nIn the present report, after the management of the acute phase, the stable clinical condition and the rapid improvement of systolic function allowed us to avoid the administration of specific drugs.\\n\\nConclusion\\n\\nIn conclusion, we described one of the first pediatric cases of KS related to anesthetic medications. Cases reported of this syndrome are increasing progressively in the literature, and more and more drugs/agents have been identified as potential triggers of this clinical condition. The treatment of KS could be challenging, and it is mainly based on the treatment of the allergic reaction and of the cardiological clinical manifestations. In children, this syndrome has been only described in isolated case reports or small case series. Thus, it appears critical to report new cases of KS in children to increase the awareness of this disease in pediatric healthcare workers so as to enhance its early recognition and optimal therapeutic strategy. Furthermore, it appears of paramount importance the implementation of universal guidelines accepted by allergology and cardiology societies, in order to standardize the management of pediatric and adult patients with KS. Finally, a close collaboration between pediatric allergists and cardiologists seems fundamental for an optimal multidisciplinary patient care.\\n\\nData Availability Statement\\n\\nThe original contributions presented in the study are included in the article/supplementary material, further inquiries can be directed to the corresponding author.\\n\\nEthics Statement\\n\\nWritten informed consent was obtained from the minor(s)' legal guardian/next of kin for the publication of any potentially identifiable images or data included in this article.\\n\\nAuthor Contributions\\n\\nGC, MG, LDS, and ST conceptualized the work. GC, MG, IK, FM, SF, LDS, and ST drafted the manuscript. GC, MG, FM, CR, GS, GBC, SF, EN, GI, LDS, and ST performed the investigations. GC, MG, IK, FM, CR, GS, GBC, SF, EN, GI, LDS, and ST critically revised the manuscript. All authors approved the final version of the manuscript as submitted and agreed to be accountable for all aspects of the work.\\n\\nConflict of Interest\\n\\nThe authors declare that the research was conducted in the absence of any commercial or financial relationships that could be construed as a potential conflict of interest.\\n\\nPublisher's Note\\n\\nAll claims expressed in this article are solely those of the authors and do not necessarily represent those of their affiliated organizations, or those of the publisher, the editors and the reviewers. Any product that may be evaluated in this article, or claim that may be made by its manufacturer, is not guaranteed or endorsed by the publisher.\\n\\nThe authors want to thank Prof. Nicholas George Kounis (Department of Cardiology, Patras University School of Medicine, Patras, Greece) for critical review of the manuscript.\"},\n",
       " {'role': 'assistant', 'content': 'The patient weighs N/A kg and is a male.'},\n",
       " {'role': 'user',\n",
       "  'content': 'Give an alphabetized list of all active substances of drugs taken by the patient who experienced an adverse drug reaction, that could have caused this reaction. For every drug, give the most specific active substance that is supported by the text. Answer only with a comma-separated list. Do not include generic drug classes.'},\n",
       " {'role': 'assistant', 'content': 'ATROPINE SULFATE, MIDAZOLAM, SEVOFLURANE'},\n",
       " {'role': 'user',\n",
       "  'content': 'Give an alphabetized list of all adverse reactions the patient experienced. Answer with the MedDRA preferred term. For every reaction, give the most specific reaction that is supported by the text. Answer only with a comma-separated list.'},\n",
       " {'role': 'assistant', 'content': 'Hypersensitivity, Kounis syndrome'}]"
      ]
     },
     "execution_count": 14,
     "metadata": {},
     "output_type": "execute_result"
    }
   ],
   "source": [
    "report_to_chatml[19956654]"
   ]
  },
  {
   "attachments": {},
   "cell_type": "markdown",
   "metadata": {},
   "source": [
    "## Truncate text if needed"
   ]
  },
  {
   "cell_type": "code",
   "execution_count": 15,
   "metadata": {},
   "outputs": [],
   "source": [
    "enc = tiktoken.encoding_for_model('gpt-4')\n",
    "max_prompt = 8192\n",
    "max_generation = 256\n",
    "buffer = 256 * 2"
   ]
  },
  {
   "cell_type": "code",
   "execution_count": 16,
   "metadata": {},
   "outputs": [],
   "source": [
    "def truncate_chatml(chatml):\n",
    "    new_chatml = deepcopy(chatml)\n",
    "    # encode everything, get max length of the message\n",
    "    content = [m['content'] for m in chatml]\n",
    "    content_enc = [enc.encode(c) for c in content]\n",
    "    content_len = [len(c) for c in content_enc]\n",
    "    content_len[-1] = max_generation # always reserve the maximum for the final message\n",
    "    # print(content_len)\n",
    "    \n",
    "    total_length = sum(content_len) + len(chatml) # special token added every message\n",
    "    extra_tokens = buffer + total_length - max_prompt\n",
    "\n",
    "    # print(extra_tokens)\n",
    "\n",
    "    # truncate if needed\n",
    "    if extra_tokens > 0:\n",
    "        new_chatml[1]['content'] = enc.decode(content_enc[1][:-extra_tokens])\n",
    "    return new_chatml"
   ]
  },
  {
   "cell_type": "code",
   "execution_count": 17,
   "metadata": {},
   "outputs": [],
   "source": [
    "report_to_chatml_truncated = {k: truncate_chatml(v) for k,v in report_to_chatml.items()}"
   ]
  },
  {
   "attachments": {},
   "cell_type": "markdown",
   "metadata": {},
   "source": [
    "## Split and save\n",
    "For now, sample one report per article. Sample the exact same one as in the ICSR-Extraction dataset"
   ]
  },
  {
   "cell_type": "code",
   "execution_count": 18,
   "metadata": {},
   "outputs": [
    {
     "name": "stderr",
     "output_type": "stream",
     "text": [
      "WARNING:datasets.builder:Using custom data configuration BioDEX--BioDEX-ICSR-dc3afa7dc6476f22\n",
      "WARNING:datasets.builder:Found cached dataset parquet (/Users/kldooste/.cache/huggingface/datasets/BioDEX___parquet/BioDEX--BioDEX-ICSR-dc3afa7dc6476f22/0.0.0/2a3b91fbd88a2c90d1dbbb32b460cf621d31bd5b05b934492fdef7d8d6f236ec)\n"
     ]
    },
    {
     "data": {
      "application/vnd.jupyter.widget-view+json": {
       "model_id": "caa15ffdd0e44a79abb20726e670d63c",
       "version_major": 2,
       "version_minor": 0
      },
      "text/plain": [
       "  0%|          | 0/3 [00:00<?, ?it/s]"
      ]
     },
     "metadata": {},
     "output_type": "display_data"
    }
   ],
   "source": [
    "icsr_dataset = datasets.load_dataset('BioDEX/BioDEX-ICSR')"
   ]
  },
  {
   "cell_type": "code",
   "execution_count": 19,
   "metadata": {},
   "outputs": [
    {
     "name": "stdout",
     "output_type": "stream",
     "text": [
      "9624\n",
      "2407\n",
      "3628\n"
     ]
    }
   ],
   "source": [
    "train_chatml = {k:v for k,v in report_to_chatml_truncated.items() if k in icsr_dataset['train']['safetyreportid']}\n",
    "validation_chatml = {k:v for k,v in report_to_chatml_truncated.items() if k in icsr_dataset['validation']['safetyreportid']}\n",
    "test_chatml = {k:v for k,v in report_to_chatml_truncated.items() if k in icsr_dataset['test']['safetyreportid']}\n",
    "\n",
    "print(len(train_chatml))\n",
    "print(len(validation_chatml))\n",
    "print(len(test_chatml))"
   ]
  },
  {
   "cell_type": "code",
   "execution_count": 20,
   "metadata": {},
   "outputs": [
    {
     "name": "stdout",
     "output_type": "stream",
     "text": [
      "9624\n",
      "2407\n",
      "3628\n"
     ]
    }
   ],
   "source": [
    "print(len(icsr_dataset['train']))\n",
    "print(len(icsr_dataset['validation']))\n",
    "print(len(icsr_dataset['test']))\n"
   ]
  },
  {
   "cell_type": "code",
   "execution_count": 21,
   "metadata": {},
   "outputs": [],
   "source": [
    "with open('pv_conv_train.json', 'w') as fp:\n",
    "    json.dump(train_chatml, fp)\n",
    "with open('pv_conv_validation.json', 'w') as fp:\n",
    "    json.dump(validation_chatml, fp)\n",
    "with open('pv_conv_test.json', 'w') as fp:\n",
    "    json.dump(test_chatml, fp)\n"
   ]
  },
  {
   "cell_type": "code",
   "execution_count": 29,
   "metadata": {},
   "outputs": [
    {
     "name": "stdout",
     "output_type": "stream",
     "text": [
      "14160119\n"
     ]
    },
    {
     "data": {
      "text/plain": [
       "'Neurolymphomatosis is a rare entity defined as nerve infiltration by neurotropic abnormal lymphocytes which can lead to the development of neuropathy, with typical presentations including pain, hypoesthesia, paresthesis and palsy. We herein report two cases where critical bilateral vocal cord paralysis due to neurolymphomatosis in recurrent nerves occurred in refractory Burkitt lymphoma and adult T-cell lymphoma patients. High-dose methotrexate and intrathecal chemotherapy injection for the nervous lesions were ineffective, and the patients died. Neurolymphomatosis of the recurrent nerve is an emergent and difficult complication and should be suspected when sudden onset of aphasia, hoarseness or shortness of breath is found in refractory lymphoma patients.'"
      ]
     },
     "execution_count": 29,
     "metadata": {},
     "output_type": "execute_result"
    }
   ],
   "source": [
    "print(icsr_dataset['validation']['safetyreportid'][1000])\n",
    "icsr_dataset['validation']['abstract'][1000]"
   ]
  },
  {
   "cell_type": "code",
   "execution_count": 30,
   "metadata": {},
   "outputs": [
    {
     "data": {
      "text/plain": [
       "[{'role': 'system',\n",
       "  'content': 'You are a helpful assistant. You read biomedical texts and concisely answer user questions about adverse drug events. You give the most specific answer supported by the text.'},\n",
       " {'role': 'user',\n",
       "  'content': \"Answer the question given the text. \\n\\nQuestion: This text describes an adverse drug event with regard to a patient or cohort. What is the weight of the patient? What is the sex of the patient? Produce an answer in the following format: 'The patient weights {{weight}} kg and is {{male|female}}'. If no weight or sex values can be identified, fill in 'N/A'.\\n\\nText: Two Cases of Neurolymphomatosis with Fatal Bilateral Vocal Cord Paralysis that were Diagnosed with 18F-fluorodeoxyglucose Positron Emission Tomography (FDG PET)/CT.\\nNeurolymphomatosis is a rare entity defined as nerve infiltration by neurotropic abnormal lymphocytes which can lead to the development of neuropathy, with typical presentations including pain, hypoesthesia, paresthesis and palsy. We herein report two cases where critical bilateral vocal cord paralysis due to neurolymphomatosis in recurrent nerves occurred in refractory Burkitt lymphoma and adult T-cell lymphoma patients. High-dose methotrexate and intrathecal chemotherapy injection for the nervous lesions were ineffective, and the patients died. Neurolymphomatosis of the recurrent nerve is an emergent and difficult complication and should be suspected when sudden onset of aphasia, hoarseness or shortness of breath is found in refractory lymphoma patients.\\nIntroduction\\nNeurolymphomatosis is a rare complication of hematological malignancies, especially non-Hodgkin lymphoma derived from B- and T-cells, which is caused by direct invasion of abnormal lymphocytes and develops neurological manifestations (1). Although central nervous system-directed chemotherapy, including high-dose methotrexate and cytarabine, intracranial fluid chemotherapy infusion and radiotherapy, are used in clinical settings, the efficacy is unsatisfactory, and it is difficult to control the insidious symptoms by treatment and expert palliative care. Additionally, it is extremely challenging to diagnose neurolymphomatosis itself, partly because there is no diagnostic modality with satisfactory sensitivity. A biopsy of the lesion is the gold standard, but it is not always possible to acquire a sufficiently substantial histological specimen. Recently, attention has been focused on magnetic resonance imaging (MRI) and 18F-fluorodeoxyglucose (FDG)-positron emission tomography (PET) combined with computed tomography (CT) as sensitive and noninvasive diagnostic modalities for neurolymphomatosis, which may be useful alternatives to a biopsy (2,3).\\n\\nBurkitt lymphoma is a highly aggressive B-cell non-Hodgkin lymphoma characterized by translocation between the MYC gene on chromosome 8 and the IGH gene on chromosome 14, the IGK gene on chromosome 2, or the IGL gene on chromosome 22. Burkitt lymphoma often involves extra-nodal sites including the central nervous system, ileocecal region, ovaries, and kidneys (4). Bone marrow involvement (up to 70%) and leptomeningeal involvement (up to 40%) are common findings at the diagnosis (5-8), and central nervous system prophylaxis measure-combined systemic chemotherapy is recommended. The 2-year event-free survival range for these regimens is 64-95%.\\n\\nAdult T-cell leukemia (ATL) is defined as a peripheral T-cell neoplasm associated with infection of human T-cell leukemia virus type 1 (HTLV-1), according to the World Health Organization classification 2008. Acute-type ATL is the most aggressive of four variants (smoldering type, chronic type, lymphoma type, and acute type), and the characteristic clinical presentations are organomegaly, lymphadenopathy, an elevated lactate dehydrogenase level, hypercalcemia, and circulating malignant cells (4). It was reported that central nervous system involvement was more common in ATL than in other lymphoma types (9). The median survival rate with an aggressive combination regimen is 13 months, and the overall survival rate at 3 years is 24% (10).\\n\\nBoth entities of aggressive lymphoma can recur in the central nervous system, at which point they often not only spread into the cerebrospinal fluid and attach to the meninges, or coat nerve fibers (lymphomatous meningitis), but also infiltrate into the peripheral and cranial nerves (neurolymphomatosis).\\n\\nWe herein report two rare cases of sudden onset of dysphasia and fatal respiratory distress attributed to neurolymphomatosis that was diagnosed with 18F-FDG PET.\\n\\nCase Reports\\nCase 1\\nA 39-year-old man was referred to our hospital because of malignant lymphoma that was diagnosed after a biopsy of the stomach. The patient presented to our outpatient unit with a stomach ache and anorexia. A physical examination revealed no epigastric tenderness but did show hypoesthesia of the right lower quadrant abdomen and back (at the levels of Th10-Th12) and the distal portion of the left arm. Contrast CT showed soft tissue density in the hilus of the right kidney, the upper portion of the right ureter, the pancreatic tail, the area between the left clavicle and the right intervertebral foramen, along the right iliopsoas, and the root of the superior mesenteric artery. 18F-FDG PET/CT showed an intense uptake in the above lesions and the bilateral testes and a weak uptake around the pancreas tail and along the right ileopsoas, suggesting lymphoma lesions.\\n\\nThe white blood count was 8,400/μL, the alanine transferase level was 67 IU/L (standard range, 8-40 IU/L), the aspartate transferase level was 34 IU/L (standard range, 8-40 IU/L), the lactate dehydrogenase level was 516 IU/L (standard range, 120-250 IU/L), the alkaline phosphatase level was 578 IU/L (standard range, 100-340 IU/L), the creatinine level was 0.79 mg/dL (standard range, 0.4-0.8 mg/dL), the blood urea nitrogen level was 14.7 mg/dL (standard range, 8-20 mg/dL), and the soluble interleukin 2 receptor level was 3,183 IU/mL (standard range, 220-530 IU/mL). A histological examination of the stomach revealed a diffuse monotonous pattern of middle-sized lymphocytes whose nuclei were round with dispersed chromatin. Immunohistochemical staining revealed that the abnormal lymphocytes were positive for CD10, CD20, and Ki-67 (98%) and were negative for BCL2. Fluorescence in situ hybridization revealed that the lymphocytes were positive for split signals of the chromosomal region 8q24 (VysisⓇ LSI MYC Break Apart Rearrangement Probe Kit, Abbott, Abbottpark, USA). In the cerebrospinal fluid, CD5-, CD10+, CD19+, CD20+, and λ+ abnormal lymphocytes were found, and a polymerase chain reaction detected monoclonal rearrangement of immunoglobulin heavy chain. Meningeal dissemination of the lymphoma was suspected; thus, stage IV Burkitt lymphoma was diagnosed.\\n\\nFollowing the infusion of 80 mg of methylprednisolone, a hyperfractionated cyclophosphamide, vincristine, adriamycin, and dexamethasone plus rituximab regimen with alternating high-dose methotrexate and cytarabine (HD-MA) and concurrent intrathecal infusion of methotrexate, cytarabine, and prednisolone was started. Following one cycle of chemotherapy (on day 44 after the diagnosis), no significant 18F-FDG uptake in the abovementioned lesions was found, and abnormal lymphocytes disappeared from the cerebrospinal fluid. However, during the second cycle, abnormal lymphocytes reappeared in the cerebrospinal fluid.\\n\\nThe patient complained of hoarseness on day 68; however, the hoarseness improved spontaneously after a few days. On day 98, blurred vision in the left eye arose and gradually worsened. Contrast MRI revealed left optic nerve thickening, which was considered to reflect the involvement of the lymphoma. Loco-regional radiotherapy of the left optic nerve was started on day 102 with palliative intent. At that time, hoarseness recurred, and laryngoscopy showed bilateral vocal cord semi-paralysis. PET/CT on day 106 showed an uptake in the macule of the left eye, along the left jugular vein [maximum standardized uptake value (SUVmax), 19.6], at the left roots of the nerves at C4/5 and C5/6 (SUVmax, 13.4), and along the recurrent nerve at the arch of the aorta (Fig. 1a-d). The following day, the hoarseness worsened with onset of dysphagia and left shoulder pain. Despite loco-regional radiotherapy for the aorta and the left roots of the nerves at C4-C6, his symptoms deteriorated rapidly. He lost left-sided visual activity within a few days and died of systemic lymphoma invasion and bacterial pneumonia on day 138.\\n\\nFigure 1. a) 18F-FDG PET in the maximum intensity projection, b) PET/CT fusion images showing the right vagal nerve involvement, shown as a linear uptake, c) PET/CT fusion images at the levels of the mesopharynx and d) arch of the aorta. White and black arrows represent the 18F-FDG uptake in the right vagus nerve and left recurrent nerve. e) A pathological study at the diagnosis of the stomach [Hematoxylin and Eosin (H&E) staining, 20×], f) A pathological study at the diagnosis of the stomach (CD10 staining, 20×), g) A pathological study at the diagnosis of the stomach (Ki-67, 20×). h) A postmortem pathological study of the right vagus nerve (originating portion from the medulla) (H&E staining, 10×), i) A postmortem pathological study of the right vagus nerve (originating portion from the medulla) showing abnormal lymphocyte involvement around the vessels and into the nerve fiber bundle (H&E staining, 40×), j) A postmortem pathological study of the same specimen as in h, showing obviously stained lymphocytes (CD20, 40×). “v” denotes vessels in the tissue.\\n\\nAn autopsy showed a substantial invasion of abnormal lymphocytes into the neural fascicles of the left brachial plexus and bilateral cranial nerves comprising the optic, oculomotor, trochlear, trigeminal, abducens, facial, vestibulocochlear, glossopharyngeal and vagus nerves (Fig. 1g-j). The histopathology at the diagnosis is shown in Fig. 1e-f. In the brachial plexus, abnormal lymphocytes invaded diffusely among the neural nerves. In the brain, there were abnormal lymphocytes in the perivascular and parameningeal spaces, but not in the parenchyma. The left recurrent nerve with the 18F-FDG uptake at the aortic arch could not be identified on the autopsy. Postmortem histopathology revealed other involved organs, including the liver, kidneys, ureter, testis, and pituitary gland. The clinical course of Case 1 is shown in Fig. 2.\\n\\nFigure 2. The clinical course of Case 1, including the symptoms, the treatment, and the laboratory data. Hyper-CVAD: hyperfractionated cyclophosphamide, vincristine, doxorubicin, and dexamethasone regimen, HD-MTX/Ara-C: high-dose methotrexate and cytarabine regimen, RT: radiotherapy, PET/CT: positron emission tomography combined with computed tomography, LDH: leucine dehydrogenase\\n\\nCase 2\\nA 48-year-old woman was referred to our hospital because of edematous erythema of the chest, back, and thighs that was refractory to topical steroid ointment. CT showed enlarged lymph nodes in the neck, axillae, lesser curvature of the stomach, and periaortic and inguinal regions. The white blood cell count was 27,100/μL, of which 80% were lymphocytes with hyperlobulated nuclei. Flow cytometric immunophenotyping showed the lymphocytes were CD4+, CD7-, CD8-, CD25+, and CD26-. Serum HTLV-1 antibody was positive, and Southern blotting revealed monoclonal integration of the HTLV-1 provirus genome, confirming the diagnosis of acute-type ATL.\\n\\nAfter two courses of an intensive chemotherapy regimen comprising cyclophosphamide, adriamycin, vincristine, vinblastine, ranimustine, etoposide, paraplatin, and prednisolone (8), the involved nodes shrank, and the rash promptly resolved. Around day 90 after the diagnosis, the skin lesion recurred, accompanied by dysesthesia of the feet and diplopia of the right eye. A cerebrospinal fluid analysis showed central nervous system involvement, as manifested by the presence of atypical lymphocytes with the same immunophenotype as at the first presentation. After just two courses of high-dose methotrexate, the symptoms were temporarily ameliorated; however, around day 110 after the diagnosis, there was new onset of dysesthesia of the hands, which extended proximally. On day 114 after the diagnosis, the patient complained of hoarseness and sudden breathing difficulty. Laryngoscopy showed bilateral immotile folds, and bilateral vocal cord paralysis was diagnosed, with emergency tracheotomy performed. MRI of the brain and spinal cord was unremarkable. A cerebrospinal fluid sample was not obtained because we did not receive consent from the patient. However, 18F-FDG PET demonstrated a significant FDG uptake in the sciatic and iliac nerves, lower cervical nerve plexuses, pituitary gland, skin, mammary glands, and region along the recurrent nerves (Fig. 3). On day 134 after the diagnosis, the patient died because of hypopnea due to paralysis of the respiratory muscles. An autopsy was not performed. The clinical course of Case 2 is shown in Fig. 4.\\n\\nFigure 3. a) 18F-FDG PET in the maximum intensity projection and b) PET/CT fusion images at the levels of the mesopharynx and c) arch of the aorta. The arrows represent the 18F-FDG uptake in the right vagus nerve and left recurrent nerve of Case 2.\\n\\n\\nFigure 4. The clinical course of Case 2, including the symptoms, the treatment, and the laboratory data. VCAP-AMP-VECP: cyclophosphamide, adriamycin, vincristine, vinblastine, ranimustine, etoposide, paraplatin and prednisolone regimen, MTX: methotrexate, Ara-C: cytarabine, ATL: adult T-cell leukemia\\n\\nDiscussion\\nThe rare involvement of abnormal lymphocytes with bilateral vagus nerves causing vocal cord paralysis was found in the postmortem histopathology of Case 1. To our knowledge, this is the first case of bilateral vocal cord paralysis due to neurolymphomatosis where the histologic findings are shown.\\n\\nIt is often challenging to diagnose neurolymphomatosis due to its non-specific presentation and the low sensitivity of the modalities available for diagnosis. The clinical presentation was described by Gan et al. (1) as follows: the painful involvement of nerves or roots, cranial neuropathy with or without pain, the painless involvement of peripheral nerves, and the painful or painless involvement of a single peripheral nerve. Neurolymphomatosis is highly suspected upon presentation of conditions including plexopathy, mononeuritis multiplex, footdrop, radiculopathy, and cranial nerve palsy. However, diverse differential diagnoses should be considered, such as leptomeningeal lymphomatosis, nerve damage from herpes zoster, chemotherapy-induced neuropathy, nerve root compression, radiotherapy-induced neuropathy, lymphoma-associated vasculitis, and paraneoplastic syndrome.\\n\\nThe available diagnostic modalities for neurolymphomatosis other than a biopsy are a cerebrospinal fluid analysis and imaging, including MRI and 18F-FDG PET. Some studies have reported that 18F-FDG PET may be more sensitive than MRI based on a systematic review (9,10). For example, Baehring et al. reported that the sensitivity of MRI for neurolymphomatosis detection was 40% (3), whereas Grisariu et al. reported that the sensitivities of MRI and 18F-FDG PET were 78% and 87.5%, respectively (11). The sensitivity of 18F-FDG PET is not 100%; as such, a multidisciplinary approach for an accurate diagnosis in patients with highly suspected neurolymphomatosis is warranted.\\n\\nIn Case 1, 18F-FDG PET showed a linear uptake along the right vagus nerve running down into the carotid artery sheath and the left recurrent nerve at the level of the aortic arch. The autopsy histopathology showing involvement of the liver, kidney, and other regions with abnormal lymphocytes was discordant with the 18F-FDG PET findings. This is likely due to the time gap between the 18F-FDG PET imaging and the autopsy.\\n\\nIn Case 2, while MRI did not demonstrate findings of neurolymphomatosis, such as abnormal enhancement and thickness of the involved nerves, 18F-FDG PET showed an uptake at part of the right vagus nerve running down into the right carotid artery sheath and at part of the left recurrent nerve at the level of the aortic arch.\\n\\nIn conclusion, we found that 18F-FDG PET/CT is useful for the differential diagnosis of bilateral vocal cord paralysis in aggressive lymphoma patients, even when MRI is unrevealing, and that bilateral vocal cord paralysis due to neurolymphomatosis can be very aggressive and fatal if the causative hematological malignancy is resistant to treatment, including chemotherapy and radiation therapy.\\n\\n\\nThe authors state that they have no Conflict of Interest (COI).\\n\\nAcknowledgement\\nWe thank H.M. and N.K. for their analysis of the multiparametric flow cytometry findings.\"},\n",
       " {'role': 'assistant',\n",
       "  'content': 'The patient weighs N/A kg and is a female.'},\n",
       " {'role': 'user',\n",
       "  'content': 'Give an alphabetized list of all active substances of drugs taken by the patient who experienced an adverse drug reaction, that could have caused this reaction. For every drug, give the most specific active substance that is supported by the text. Answer only with a comma-separated list. Do not include generic drug classes.'},\n",
       " {'role': 'assistant', 'content': 'METHOTREXATE'},\n",
       " {'role': 'user',\n",
       "  'content': 'Give an alphabetized list of all adverse reactions the patient experienced. Answer with the MedDRA preferred term. For every reaction, give the most specific reaction that is supported by the text. Answer only with a comma-separated list.'},\n",
       " {'role': 'assistant',\n",
       "  'content': 'Drug ineffective, Hypopnoea, Respiratory paralysis, Vocal cord paralysis'}]"
      ]
     },
     "execution_count": 30,
     "metadata": {},
     "output_type": "execute_result"
    }
   ],
   "source": [
    "validation_chatml[14160119]"
   ]
  }
 ],
 "metadata": {
  "kernelspec": {
   "display_name": "biodex",
   "language": "python",
   "name": "python3"
  },
  "language_info": {
   "codemirror_mode": {
    "name": "ipython",
    "version": 3
   },
   "file_extension": ".py",
   "mimetype": "text/x-python",
   "name": "python",
   "nbconvert_exporter": "python",
   "pygments_lexer": "ipython3",
   "version": "3.9.16"
  },
  "orig_nbformat": 4
 },
 "nbformat": 4,
 "nbformat_minor": 2
}
