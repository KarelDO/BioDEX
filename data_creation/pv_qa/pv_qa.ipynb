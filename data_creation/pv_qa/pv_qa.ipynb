{
 "cells": [
  {
   "attachments": {},
   "cell_type": "markdown",
   "metadata": {},
   "source": [
    "# Turn BioDEX into a QA task\n",
    "\n",
    "### How do we measure success?\n",
    "1. Via transfer to a different QA dataset?\n",
    "2. Via results on unvalidated QA instances on PVQA?\n",
    "3. Via validated instances on PVQA? \n",
    "\n",
    "### How do we create the dataset?\n",
    "1. load BioDEX-raw\n",
    "2. Create some QA templates\n"
   ]
  },
  {
   "cell_type": "code",
   "execution_count": 1,
   "metadata": {},
   "outputs": [
    {
     "name": "stderr",
     "output_type": "stream",
     "text": [
      "/Users/kldooste/miniconda3/envs/biodex/lib/python3.9/site-packages/tqdm/auto.py:21: TqdmWarning: IProgress not found. Please update jupyter and ipywidgets. See https://ipywidgets.readthedocs.io/en/stable/user_install.html\n",
      "  from .autonotebook import tqdm as notebook_tqdm\n"
     ]
    }
   ],
   "source": [
    "from src import Match, Icsr\n",
    "from src.utils import get_matches\n",
    "\n",
    "from datetime import datetime\n",
    "import random\n",
    "import datasets\n",
    "import pandas as pd"
   ]
  },
  {
   "cell_type": "code",
   "execution_count": 2,
   "metadata": {},
   "outputs": [
    {
     "name": "stderr",
     "output_type": "stream",
     "text": [
      "Using custom data configuration FAERS-PubMed--raw_dataset-0b83cc0b498dbbb2\n",
      "Found cached dataset json (/Users/kldooste/.cache/huggingface/datasets/FAERS-PubMed___json/FAERS-PubMed--raw_dataset-0b83cc0b498dbbb2/0.0.0/e6070c77f18f01a5ad4551a8b7edfba20b8438b7cad4d94e6ad9378022ce4aab)\n",
      "100%|██████████| 1/1 [00:00<00:00, 26.52it/s]\n"
     ]
    },
    {
     "name": "stdout",
     "output_type": "stream",
     "text": [
      "65648\n"
     ]
    }
   ],
   "source": [
    "# load matches\n",
    "dataset = datasets.load_dataset(\"FAERS-PubMed/raw_dataset\")\n",
    "matches = get_matches(dataset['train'])\n",
    "print(len(matches))"
   ]
  },
  {
   "attachments": {},
   "cell_type": "markdown",
   "metadata": {},
   "source": [
    "### Filter and split"
   ]
  },
  {
   "cell_type": "code",
   "execution_count": 3,
   "metadata": {},
   "outputs": [],
   "source": [
    "# arguments\n",
    "report_cutoff = 10\n",
    "fulltext_only = True\n",
    "commercial_only = False\n",
    "test_cutoff = datetime(year=2021, month=1, day=1)"
   ]
  },
  {
   "cell_type": "code",
   "execution_count": 4,
   "metadata": {},
   "outputs": [
    {
     "name": "stdout",
     "output_type": "stream",
     "text": [
      "Matches with <= 10 reports: 62,168\n"
     ]
    }
   ],
   "source": [
    "# filter too many reports\n",
    "matches = [m for m in matches if len(m.reports) <= report_cutoff]\n",
    "print(f'Matches with <= {report_cutoff} reports: {len(matches):,}')"
   ]
  },
  {
   "cell_type": "code",
   "execution_count": 5,
   "metadata": {},
   "outputs": [
    {
     "name": "stdout",
     "output_type": "stream",
     "text": [
      "Matches with full text: 18,678\n"
     ]
    }
   ],
   "source": [
    "# get articles with full text\n",
    "if fulltext_only:\n",
    "    matches = [m for m in matches if m.article.fulltext]\n",
    "    print(f'Matches with full text: {len(matches):,}')"
   ]
  },
  {
   "cell_type": "code",
   "execution_count": null,
   "metadata": {},
   "outputs": [],
   "source": [
    "# TODO split"
   ]
  },
  {
   "attachments": {},
   "cell_type": "markdown",
   "metadata": {},
   "source": [
    "### Create QA instances\n",
    "1. create qa templates based on reports\n",
    "2. sample a report\n",
    "3. sample applicable qa templates and fill in\n",
    "\n",
    "Some sample questions:\n",
    " - What was the indication for the drug X taken by patient Y\n",
    " - What was the dosage for the drug X taken by patient Y\n",
    " - Which drug(s) led to reaction(s) X (for patient Y)\n",
    " - Which reaction(s) was associated with drug(s) (for patient Y)\n",
    " - What as the outcome of reaction X (for patient Y)\n",
    "\n",
    "\n",
    "Note, there are text-form explanations of all these fields. Can we leverage this to generate interesting questions?\n",
    " - Would definitelty help with data-augmentation, would help rephrase questions in terms of other concepts.\n",
    " - Needed to translate integer values of fields into concepts? Important for few-shot learning etc? People could also just inject this via prompting.\n",
    "\n",
    "Note, can we just generate questions straight from the source material without requiring the report? Might work, might not be relevant to PV. Without some high-level field to validate against, most questions might boil-down to just retrieval. Not sure if our reports actually contain these high-level values or are mainly retrieval as well.\n",
    " \n"
   ]
  },
  {
   "cell_type": "code",
   "execution_count": 67,
   "metadata": {},
   "outputs": [],
   "source": [
    "# class Question(object):\n",
    "    \n",
    "#     def __init__(self):\n",
    "#         pass\n",
    "\n",
    "#     def check_report(self, report):\n",
    "#         pass\n",
    "\n",
    "#     def from_report(self, report):\n",
    "#         pass\n",
    "\n",
    "class WeightQuestion(object):\n",
    "    q = 'What is the weight of the patient?'\n",
    "    a = '{patientweight} kg.'\n",
    "\n",
    "    def check_report(self, report):\n",
    "        return bool(report.patient.patientweight)\n",
    "    \n",
    "    def from_report(self, report):\n",
    "        return [(self.q, self.a.format(patientweight=report.patient.patientweight))]\n",
    "    \n",
    "class DrugsGivenReactionQuestion(object):\n",
    "    q = \"Give an alphabetized list of all active substances of drugs taken by the patient who experienced '{reaction}'.\"\n",
    "\n",
    "    def check_report(self, report):\n",
    "        return True\n",
    "    \n",
    "    def from_report(self, report):\n",
    "        # get all activesubstances\n",
    "        activesubstances = []\n",
    "        for drug in report.patient.drug:\n",
    "            if drug.activesubstance and drug.activesubstance.activesubstancename:\n",
    "                activesubstances.append(drug.activesubstance.activesubstancename)\n",
    "        # deduplicate and sort\n",
    "        activesubstances = \", \".join(sorted(list(set(activesubstances))))\n",
    "\n",
    "        q_list = []\n",
    "        a_list = [activesubstances] * len(report.patient.reaction)\n",
    "\n",
    "        for reaction in report.patient.reaction:\n",
    "            q_list.append(self.q.format(reaction=reaction.reactionmeddrapt))\n",
    "\n",
    "        return list(zip(q_list, a_list))\n",
    "    \n",
    "class DrugIndicationQuestion(object):\n",
    "    q = \"What was the indication of drug {drug}?\"\n",
    "\n",
    "    def check_report(self, report):\n",
    "        return True\n",
    "    \n",
    "    def from_report(self, report):\n",
    "        q_list = []\n",
    "        a_list = []\n",
    "\n",
    "        for drug in report.patient.drug:\n",
    "            if drug.activesubstance and drug.activesubstance.activesubstancename:\n",
    "                if drug.drugindication:\n",
    "                    q_list.append(self.q.format(drug=drug.activesubstance.activesubstancename))\n",
    "                    a_list.append(drug.drugindication)\n",
    "        \n",
    "        return list(zip(q_list, a_list))\n",
    "\n",
    "\n",
    "class DrugAdministrationRouteQuestion(object):\n",
    "    q = \"What was the administration route of drug '{drug}'?\"\n",
    "\n",
    "    administrationroute_map = {            \n",
    "                  '001': \"Auricular (otic)\"\n",
    "                  ,'002': \"Buccal\"\n",
    "                  ,'003': \"Cutaneous\"\n",
    "                  ,'004': \"Dental\"\n",
    "                  ,'005': \"Endocervical\"\n",
    "                  ,'006': \"Endosinusial\"\n",
    "                  ,'007': \"Endotracheal\"\n",
    "                  ,'008': \"Epidural\"\n",
    "                  ,'009': \"Extra-amniotic\"\n",
    "                  ,'010': \"Hemodialysis\"\n",
    "                  ,'011': \"Intra corpus cavernosum\"\n",
    "                  ,'012': \"Intra-amniotic\"\n",
    "                  ,'013': \"Intra-arterial\"\n",
    "                  ,'014': \"Intra-articular\"\n",
    "                  ,'015': \"Intra-uterine\"\n",
    "                  ,'016': \"Intracardiac\"\n",
    "                  ,'017': \"Intracavernous\"\n",
    "                  ,'018': \"Intracerebral\"\n",
    "                  ,'019': \"Intracervical\"\n",
    "                  ,'020': \"Intracisternal\"\n",
    "                  ,'021': \"Intracorneal\"\n",
    "                  ,'022': \"Intracoronary\"\n",
    "                  ,'023': \"Intradermal\"\n",
    "                  ,'024': \"Intradiscal (intraspinal)\"\n",
    "                  ,'025': \"Intrahepatic\"\n",
    "                  ,'026': \"Intralesional\"\n",
    "                  ,'027': \"Intralymphatic\"\n",
    "                  ,'028': \"Intramedullar (bone marrow)\"\n",
    "                  ,'029': \"Intrameningeal\"\n",
    "                  ,'030': \"Intramuscular\"\n",
    "                  ,'031': \"Intraocular\"\n",
    "                  ,'032': \"Intrapericardial\"\n",
    "                  ,'033': \"Intraperitoneal\"\n",
    "                  ,'034': \"Intrapleural\"\n",
    "                  ,'035': \"Intrasynovial\"\n",
    "                  ,'036': \"Intratumor\"\n",
    "                  ,'037': \"Intrathecal\"\n",
    "                  ,'038': \"Intrathoracic\"\n",
    "                  ,'039': \"Intratracheal\"\n",
    "                  ,'040': \"Intravenous bolus\"\n",
    "                  ,'041': \"Intravenous drip\"\n",
    "                  ,'042': \"Intravenous (not otherwise specified)\"\n",
    "                  ,'043': \"Intravesical\"\n",
    "                  ,'044': \"Iontophoresis\"\n",
    "                  ,'045': \"Nasal\"\n",
    "                  ,'046': \"Occlusive dressing technique\"\n",
    "                  ,'047': \"Ophthalmic\"\n",
    "                  ,'048': \"Oral\"\n",
    "                  ,'049': \"Oropharingeal\"\n",
    "                  ,'050': \"Other\"\n",
    "                  ,'051': \"Parenteral\"\n",
    "                  ,'052': \"Periarticular\"\n",
    "                  ,'053': \"Perineural\"\n",
    "                  ,'054': \"Rectal\"\n",
    "                  ,'055': \"Respiratory (inhalation)\"\n",
    "                  ,'056': \"Retrobulbar\"\n",
    "                  ,'057': \"Sunconjunctival\"\n",
    "                  ,'058': \"Subcutaneous\"\n",
    "                  ,'059': \"Subdermal\"\n",
    "                  ,'060': \"Sublingual\"\n",
    "                  ,'061': \"Topical\"\n",
    "                  ,'062': \"Transdermal\"\n",
    "                  ,'063': \"Transmammary\"\n",
    "                  ,'064': \"Transplacental\"\n",
    "                  ,'065': \"Unknown\"\n",
    "                  ,'066': \"Urethral\"\n",
    "                  ,'067': \"Vaginal\"\n",
    "                  }\n",
    "\n",
    "    def check_report(self, report):\n",
    "        return True\n",
    "    \n",
    "    def from_report(self, report):\n",
    "        q_list = []\n",
    "        a_list = []\n",
    "\n",
    "        for drug in report.patient.drug:\n",
    "            if drug.activesubstance and drug.activesubstance.activesubstancename:\n",
    "                if drug.drugadministrationroute:\n",
    "                    q_list.append(self.q.format(drug=drug.activesubstance.activesubstancename))\n",
    "                    a_list.append(self.administrationroute_map[drug.drugadministrationroute])\n",
    "        \n",
    "        return list(zip(q_list, a_list))\n",
    "\n",
    "class DrugDosageQuestion(object):\n",
    "    q = \"What was the dosage of drug '{drug}'?\"\n",
    "    a = \"{dosagenumb} {dosageunit}.\"\n",
    "\n",
    "    dosage_map = {            \n",
    "                '001': \"kg (kilograms)\",\n",
    "                '002': \"g (grams)\",\n",
    "                '003': \"mg (milligrams)\",\n",
    "                '004': \"µg (micrograms)\"\n",
    "        }\n",
    "\n",
    "    def check_report(self, report):\n",
    "        return True\n",
    "    \n",
    "    def from_report(self, report):\n",
    "        q_list = []\n",
    "        a_list = []\n",
    "\n",
    "        for drug in report.patient.drug:\n",
    "            if drug.activesubstance and drug.activesubstance.activesubstancename:\n",
    "                if drug.drugstructuredosagenumb and drug.drugstructuredosageunit:\n",
    "                    q_list.append(self.q.format(drug=drug.activesubstance.activesubstancename))\n",
    "                    a_list.append(self.a.format(\n",
    "                        dosagenumb = drug.drugstructuredosagenumb,\n",
    "                        dosageunit = self.dosage_map[drug.drugstructuredosageunit]\n",
    "                    ))\n",
    "        \n",
    "        return list(zip(q_list, a_list))\n",
    "    \n",
    "class ReactionOutcomeQuestion(object):\n",
    "    q = \"What was the outcome of reaction '{reaction}'?\"\n",
    "\n",
    "    outcome_map = {\n",
    "        '1': \"Recovered\",\n",
    "        '2': \"Recovering\",\n",
    "        '3': \"Not recovered\",\n",
    "        '4': \"Recovered with sequelae (consequent health issues)\",\n",
    "        '5': \"Fatal\",\n",
    "        '6': \"Unknown\"\n",
    "    }\n",
    "    \n",
    "    def check_report(self, report):\n",
    "        return True\n",
    "    \n",
    "    def from_report(self, report):\n",
    "        q_list = []\n",
    "        a_list = []\n",
    "\n",
    "        for reaction in report.patient.reaction:\n",
    "            if reaction.reactionoutcome:\n",
    "                q_list.append(self.q.format(reaction = reaction.reactionmeddrapt))\n",
    "                a_list.append(self.outcome_map[reaction.reactionoutcome])\n",
    "\n",
    "        return list(zip(q_list, a_list))\n"
   ]
  },
  {
   "cell_type": "code",
   "execution_count": 68,
   "metadata": {},
   "outputs": [
    {
     "data": {
      "text/plain": [
       "[(\"Give an alphabetized list of all active substances of drugs taken by the patient who experienced 'Kounis syndrome'.\",\n",
       "  'ATROPINE SULFATE, MIDAZOLAM, SEVOFLURANE'),\n",
       " (\"Give an alphabetized list of all active substances of drugs taken by the patient who experienced 'Hypersensitivity'.\",\n",
       "  'ATROPINE SULFATE, MIDAZOLAM, SEVOFLURANE'),\n",
       " (\"What was the administration route of drug 'ATROPINE SULFATE'?\",\n",
       "  'Intravenous bolus'),\n",
       " (\"What was the administration route of drug 'MIDAZOLAM'?\",\n",
       "  'Intravenous bolus'),\n",
       " (\"What was the administration route of drug 'SEVOFLURANE'?\",\n",
       "  'Respiratory (inhalation)'),\n",
       " (\"What was the outcome of reaction 'Kounis syndrome'?\", 'Recovered'),\n",
       " (\"What was the outcome of reaction 'Hypersensitivity'?\", 'Recovered')]"
      ]
     },
     "execution_count": 68,
     "metadata": {},
     "output_type": "execute_result"
    }
   ],
   "source": [
    "matches[3].reports[0].dict()['patient']['patientweight']\n",
    "\n",
    "report = matches[0].reports[0]\n",
    "\n",
    "questions = [\n",
    "    WeightQuestion(),\n",
    "    DrugsGivenReactionQuestion(),\n",
    "    DrugAdministrationRouteQuestion(),\n",
    "    DrugDosageQuestion(),\n",
    "    ReactionOutcomeQuestion()\n",
    "]\n",
    "qa_tuples = []\n",
    "\n",
    "for question in questions:\n",
    "    if question.check_report(report):\n",
    "        qa_tuples.extend(question.from_report(report))\n",
    "\n",
    "qa_tuples"
   ]
  },
  {
   "cell_type": "code",
   "execution_count": 56,
   "metadata": {},
   "outputs": [
    {
     "name": "stdout",
     "output_type": "stream",
     "text": [
      "12\n",
      "801\n",
      "None\n"
     ]
    }
   ],
   "source": [
    "print(matches[0].reports[0].dict()['patient']['patientonsetage'])\n",
    "print(matches[0].reports[0].dict()['patient']['patientonsetageunit'])\n",
    "print(matches[0].reports[0].dict()['patient']['summary'])"
   ]
  },
  {
   "cell_type": "code",
   "execution_count": 7,
   "metadata": {},
   "outputs": [
    {
     "name": "stdout",
     "output_type": "stream",
     "text": [
      "3\n",
      "{'actiondrug': '1', 'activesubstance': {'activesubstancename': 'SEVOFLURANE'}, 'drugadditional': '1', 'drugadministrationroute': '055', 'drugauthorizationnumb': None, 'drugbatchnumb': None, 'drugcharacterization': '1', 'drugcumulativedosagenumb': None, 'drugcumulativedosageunit': None, 'drugdosageform': None, 'drugdosagetext': 'CONTINUOUS INHALED', 'drugenddate': None, 'drugenddateformat': None, 'drugindication': 'Anaesthesia', 'drugintervaldosagedefinition': None, 'drugintervaldosageunitnumb': None, 'drugrecurreadministration': None, 'drugseparatedosagenumb': None, 'drugstartdate': None, 'drugstartdateformat': None, 'drugstructuredosagenumb': None, 'drugstructuredosageunit': None, 'drugtreatmentduration': None, 'drugtreatmentdurationunit': None, 'medicinalproduct': 'SEVOFLURANE', 'drugrecurrence': None}\n",
      "1\n"
     ]
    }
   ],
   "source": [
    "print(len(matches[0].reports[0].dict()['patient']['drug']))\n",
    "print(matches[0].reports[0].dict()['patient']['drug'][-1])\n",
    "print(matches[0].reports[0].dict()['patient']['drug'][-1]['drugcharacterization'])"
   ]
  },
  {
   "cell_type": "code",
   "execution_count": 8,
   "metadata": {},
   "outputs": [
    {
     "name": "stdout",
     "output_type": "stream",
     "text": [
      "\n",
      "==== Front\n",
      "Front Cardiovasc Med\n",
      "Front Cardiovasc Med\n",
      "Front. Cardiovasc. Med.\n",
      "Frontiers in Cardiovascular Medicine\n",
      "2297-055X\n",
      "Frontiers Media S.A.\n",
      "\n",
      "10.3389/fcvm.2021.676188\n",
      "Cardiovascular Medicine\n",
      "Case Report\n",
      "Case Report: Perioperative Kounis Syndrome in an Adolescent With Congenital Glaucoma\n",
      "Capponi Guglielmo 1\n",
      "\n",
      "Giovannini Mattia 2\n",
      "\n",
      "Koniari Ioanna 3\n",
      "Mori Francesca 2\n",
      "\n",
      "Rubino Chiara 4\n",
      "\n",
      "Spaziani Gaia 1\n",
      "Calabri Giovanni Battista 1\n",
      "Favilli Silvia 1\n",
      "Novembre Elio 2\n",
      "\n",
      "Indolfi Giuseppe 4 5\n",
      "\n",
      "De Simone Luciano 1 †\n",
      "Trapani Sandra 4 6 * †\n",
      "\n",
      "1Cardiology Unit, Department of Pediatrics, Meyer Children's University Hospital, Florence, Italy\n",
      "2Allergy Unit, Department of Pediatrics, Meyer Children's University Hospital, Florence, Italy\n",
      "3Electrophysiology and Device Department, University Hospital of South Manchester NHS Foundation Trust, Manchester, United Kingdom\n",
      "4Department of Pediatrics, Meyer Children's Hospital, Florence, Italy\n",
      "5Department of NEUROFARBA, Meyer Children's Hospital, University of Florence, Florence, Italy\n",
      "6Department of Health Sciences, Meyer Children's Hospital, University of Florence, Florence, Italy\n",
      "Edited by: Giovanni Biglino, University of Bristol, United Kingdom\n",
      "\n",
      "Reviewed by: Ju Liu, Shandong University, China; Sezen Ugan Atik, Mehmet Akif Ersoy Thoracic and Cardiovascular Surgery Training and Research Hospital, Turkey\n",
      "\n",
      "*Correspondence: Sandra Trapani sandra.trapani@unifi.it\n",
      "This article was submitted to Pediatric Cardiology, a section of the journal Frontiers in Cardiovascular Medicine\n",
      "\n",
      "†These authors share last authorship\n",
      "\n",
      "10 9 2021\n",
      "2021\n",
      "8 67618804 3 2021\n",
      "13 7 2021\n",
      "Copyright © 2021 Capponi, Giovannini, Koniari, Mori, Rubino, Spaziani, Calabri, Favilli, Novembre, Indolfi, De Simone and Trapani.\n",
      "2021\n",
      "Capponi, Giovannini, Koniari, Mori, Rubino, Spaziani, Calabri, Favilli, Novembre, Indolfi, De Simone and Trapani\n",
      "https://creativecommons.org/licenses/by/4.0/ This is an open-access article distributed under the terms of the Creative Commons Attribution License (CC BY). The use, distribution or reproduction in other forums is permitted, provided the original author(s) and the copyright owner(s) are credited and that the original publication in this journal is cited, in accordance with accepted academic practice. No use, distribution or reproduction is permitted which does not comply with these terms.\n",
      "A 12-year-old male patient suffering from congenital glaucoma developed bradycardia, left ventricular failure, and hypotension after induction of anesthesia. Electrocardiography and echocardiography revealed a complete normalization of ECG and a complete spontaneous recovery in the cardiac function 72 hours from the beginning of the clinical manifestations, while cardiac Magnetic Resonance Imaging was performed, and coronary Computed Tomography scan revealed a myocardial bridge of a tract of the left anterior descendent coronary artery. Diagnosis of Kounis syndrome (KS) was made, a relatively novel, under-recognized clinical condition, defined as the manifestation of an acute coronary syndrome accompanied by mast cell activation and platelet aggregation involving interrelated and interacting inflammatory cells in the setting of allergic, hypersensitivity, anaphylactic or anaphylactoid insults. We described one of the first pediatric cases of KS related to anesthetic medications. In children, this syndrome has been only described in isolated case reports or small case series. Thus, it appears critical to report new cases of KS in children to increase the awareness of this disease in pediatric healthcare workers so as to enhance its early recognition and optimal therapeutic strategy. Furthermore, it appears of paramount importance the implementation of universal guidelines accepted by allergology and cardiology societies, in order to standardize the management of pediatric and adult patients with KS. Finally, a close collaboration between pediatric allergists and cardiologists seems fundamental for an optimal multidisciplinary patient care.\n",
      "\n",
      "Kounis syndrome\n",
      "perioperative\n",
      "midazolam\n",
      "sevoflurane\n",
      "coronary artery\n",
      "pediatrics\n",
      "==== Body\n",
      "pmcIntroduction\n",
      "\n",
      "Kounis syndrome (KS) is defined as the manifestation of an acute coronary syndrome accompanied by mast cell activation and platelet aggregation involving interrelated and interacting inflammatory cells in the setting of allergic, hypersensitivity, anaphylactic or anaphylactoid insults (1, 2). However, the exact physiopathology of this syndrome has not been fully elucidated.\n",
      "\n",
      "Although this condition could potentially occur in every age, only a minority of cases (9.1%) are described in subjects younger than 20 years of age compared to older ages (68.0% at 40–70 years old) (3). The main reason could be attributed to an underestimation of this relatively novel syndrome in the pediatric age (4). Several triggers have been associated with KS, including drug administration, food consumption, and insect bites. Antibiotics (27.4%) and insect bites (23.4%) are demonstrated as the most common triggers eliciting this syndrome (1, 3). KS caused by anesthetic medications has already been reported as a cause of acute coronary syndrome (5–8). However, to the best of our knowledge, we describe one of the first pediatric cases of KS associated to anesthetic drugs (4, 8–14).\n",
      "\n",
      "Case Description\n",
      "\n",
      "A 12-year-old male suffering from congenital glaucoma was admitted to Meyer Children's University Hospital for the surgical revision of his ocular Baerveldt implant, a device that maintains a patent connection between the anterior chamber of the eye and an equatorial bleb capsule and improves the drainage of the aqueous out of the eye (15). This patient suffered from a pathologic mutation on CYP1B1, encoding a dioxin-inducible enzyme belonging to the cytochrome P450 superfamily, that is involved in the proper development and balance of trabecular meshwork (16). Because of this chronic ocular disease, the patient had previously undergone other surgical procedures with no reported anesthesiologic complications. A previous surgery was performed 3 months before and the anesthesia was administered with inhaled sevoflurane and intravenous fentanyl, accompanied with intravenous ondansetron as antiemetic drug, without any clinical reaction. His past medical history was negative for any cardiac issue or atopic condition, and his family medical history was unremarkable.\n",
      "\n",
      "About 30 minutes after the induction phase of the anesthesia with intravenous midazolam bolus, followed by continuous inhaled sevoflurane, the patient experienced an episode of bradycardia associated with hypotension, apparently without reporting any clinical signs and symptoms (dyspnoea, chest pain, pulmonary or peripheral oedema). Specifically, his heart rate decreased from 90 to 40 bpm; however, this clinical manifestation seemed to respond to the administration of a bolus of atropine that further induced a transient episode of sinus tachycardia. At the same time, his blood pressure dropped to 80/45 mmHg. In the acute phase, the physical examination revealed a mild apical systolic murmur (2/6 on the Levine grading scale), without any other clinical manifestations of heart failure.\n",
      "\n",
      "An electrocardiogram (ECG) showed sinus rhythm with ventricular repolarization abnormalities in the inferior lateral wall (Figure 1). Moreover, the echocardiographic study demonstrated global left ventricular (LV) hypokinesia and dilatation with preserved right ventricular function (Figure 1). Laboratory work-up documented an increase of creatine kinase-myocardial band (CK-MB) and troponin. Furthermore, N-terminal-prohormone B-type natriuretic peptide (NT-proBNP) was increased as well, consistent with LV dysfunction. Further blood investigations did not show any inflammatory markers increase, eosinophilia, electrolytic imbalance, and liver, or kidney dysfunction (Table 1).\n",
      "\n",
      "Figure 1 First electrocardiogram and echocardiogram after the onset of the clinical manifestations (A). The electrocardiogram shows sinus rhythm with 100 rpm, PR 0.14 s, QRS 0.08 s, QT/QTc 320/422 ms and diffuse alterations in ventricular repolarization with negative T waves in precordial leads (V4–V6), D2, D3 and aVF (B1–B4). The echocardiogram shows a diffusely hypokinetic left ventricle with an ejection fraction of 34%. Left ventricular inner dimension diastole 50 mm (Z score +2.3), left ventricular inner dimension systole 39 mm (Z score +4.25), left posterior ventricular wall diastole 6.6 mm (Z score −0.23), interventricular septum diastole 5.5 mm (Z score −1.22), right ventricular inner dimension diastole 14 mm (Z score +0.20) [Z score is derived from Kampman et al. (17)] (B1,B2). Moderate mitral valve regurgitation (left ventricular delta Pressure/delta Time 699 mmHg/s) (B3). Left and right coronary artery originating from left and right Valsalva sinus, respectively (B4).\n",
      "\n",
      "Table 1 Laboratory tests trend from the admission to the discharge of the patient.\n",
      "\n",
      "\tAdmission\t2 days\t4 days\tDischarge\tNormal\t\n",
      "\t\tafter admission\tafter admission\t\tvalues\t\n",
      "WBC (x 103/μL)\t\t\t6.36\t\t4.10–12.00\t\n",
      "RBC (x 106/μL)\t\t\t4.66\t\t4.30–5.80\t\n",
      "Hb (g/dL)\t\t\t13.7\t\t12.60–17.00\t\n",
      "PLT (x 103/μL)\t\t\t230\t\t190–460\t\n",
      "N (%)\t\t\t54.4\t\t35.0–65.0\t\n",
      "L (%)\t\t\t32.7\t\t15.0–55.0\t\n",
      "M (%)\t\t\t7.9\t\t2.0–15.0\t\n",
      "E (%)\t\t\t2.6\t\t0.0–6.0\t\n",
      "B (%)\t\t\t0.5\t\t0.0–3.0\t\n",
      "CRP (mg/dL)\t<0.290\t\t\t\t0.0–0.5\t\n",
      "Na (mEq/L)\t\t\t139\t\t133–145\t\n",
      "K (mEq/L)\t\t\t3.8\t\t3.3–5.2\t\n",
      "Cl (mEq/L)\t\t\t104\t\t95–110\t\n",
      "AST (IU/L)\t\t\t26\t\t8–60\t\n",
      "ALT (IU/L)\t\t\t31\t\t7–55\t\n",
      "Creatinine (mg/dL)\t0.56\t\t\t\t0.40–0.80\t\n",
      "CK (IU/L)\t86\t81\t\t\t20–200\t\n",
      "CK-MB (ng/mL)\t7.5\t1.3\t\t\t0.5–3.6\t\n",
      "Troponin (μg/L)\t2.03\t0.21\t0.14\t\t0.00–0.09\t\n",
      "NT-proBNP(pg/mL)\t830\t1,300\t1,835\t601\t5–242\t\n",
      "ALT, alanine transaminase; AST, aspartate transaminase; B, basophils; CK, creatine kinase; CK-MB, creatine kinase-myocardial band; Cl, chloride; CRP, C-reactive protein; E, eosinophils; Hb, hemoglobin; K, potassium; L, lymphocytes; M, monocytes; N, neutrophils; Na, sodium; NT-proBNP, N-terminal-prohormone B-type natriuretic peptide; PLT, platelets; RBC, red blood cells; WBC, white blood cells.\n",
      "\n",
      "The patient was hemodynamically stable, but a close follow-up was planned, including a daily electrocardiogram and echocardiography for prompt evaluation of any additional ECG-ischemic changes or cardiomyopathy deterioration.\n",
      "\n",
      "Two days after admission, in order to exclude other causes of cardiomyopathy, such as myocarditis, a cardiac contrast-enhancement magnetic resonance imaging (CE-MRI) demonstrated a significant improvement of LV function without any regional wall abnormality. Oedema was noticed on the anterior ventricular wall (Figure 2), possibly consistent with reversible myocardial injury potentially related to myocardial ischemia, while no signs of fibrosis were demonstrated after gadolinium enhancement. A daily cardiac evaluation revealed a complete normalization of ECG and a complete recovery in the cardiac function 72 hours from the beginning of the clinical manifestations, along with a marked reduction in CK-MB, troponin and NT-proBNP, at discharge, 6 days after admission (Figure 3), while the patient was in good clinical condition, in absence of drug therapy.\n",
      "\n",
      "Figure 2 (A) Cardiac contrast-enhancement magnetic resonance imaging demonstrates an increase of T2 signal on anterior left ventricular wall. (B1–B4) Coronary computed tomography reveals a right dominant coronary artery (B1), left common trunk coronary artery (B2), left circumflex coronary artery (B3) and left anterior descending (LAD) coronary artery (B4) without any dissection, lumen obstruction or anatomical variants. A tract of LAD coronary artery runs through the width of the myocardial wall for 12.3 mm and with a parietal thickness of 1.4 mm (B4).\n",
      "\n",
      "Figure 3 Trend of troponin, NT-proBNP (A) and ejection fraction (B) from the admission to the discharge of the patient. NT-proBNP, N-terminal-prohormone B-type natriuretic peptide.\n",
      "\n",
      "A coronary computed tomography (CT), 10 days after the onset of the clinical manifestations, excluded any lumen obstruction, dissection or other anatomical variants of the aorta and coronary arteries. However, it was clearly observed myocardial bridge of a tract of the left anterior descending (LAD) coronary artery (Figure 2). As a precaution, it was chosen not to perform a provocative stress test during the acute phase of the disease, but in order to exclude further stress-induced ischemia an exercise test was performed 21 days after the onset of the clinical manifestations. It showed a linear increase in heart rate and blood pressure, without ischemic signs, symptoms or ST-T ECG alterations.\n",
      "\n",
      "The patient underwent skin prick testing with midazolam (5 mg/ml) and sevoflurane (100%) with negative results. According to current standards, histamine 10 mg/ml (Lofarma, Milan, Italy) and normal saline were used as positive and negative control substances, respectively.\n",
      "\n",
      "Discussion\n",
      "\n",
      "KS is a rare and poorly characterized entity in children (2, 4, 8–14). In adults, this condition could be associated with other factors, such as previous allergy, hypertension, smoking, diabetes and hyperlipidemia, whereas these features may be less important in children and adolescents (3, 18, 19). The clinical suspicion is based on clinical signs and symptoms (including acute chest pain, chest discomfort, dyspnoea, bradycardia, hypotension, pallor, palpitations or clinical manifestations of a reaction) associated with a potential trigger. KS diagnosis should be highly suspected when these clinical findings are accompanied by ECG signs (including atrial fibrillation, sinus bradycardia, sinus tachycardia, ST-segment elevation or depression, T-wave flattening or inversion), an increase of myocardial injury biomarkers or possible evidence of coronary spasm/thrombosis on coronary angiography (1).\n",
      "\n",
      "The differential diagnosis of KS includes other conditions related to myocardial injury, including spontaneous coronary artery dissection, fibromuscular dysplasia, myocardial bridging, myocarditis and takotsubo syndrome (20, 21).\n",
      "\n",
      "According to diagnostic criteria of myocarditis in our patient the diagnosis of infectious myocarditis could be excluded, due to the absence of fever or previous infectious clinical signs and symptoms, values of the blood tests, and findings of the MRI (22).\n",
      "\n",
      "Sometimes, it can be difficult to distinguish takotsubo syndrome from KS and, as already reported, in some cases they can even coexist (23, 24). Interestingly, both these conditions share some common pathologic mechanisms: vascular hyperreactivity of coronary arteries and local/systemic cellular or humoral inflammatory response in inducing myocardial damage (25, 26).\n",
      "\n",
      "In our patient, there was a close relationship between the administration of anesthetic medications and the onset of the clinical manifestations [probable association according to Naranjo scale (27)]. Furthermore, there was an increase of troponin and CK-MB, together with ECG abnormalities (diffuse repolarization abnormalities in inferior and lateral leads) and echocardiographic features (diffuse hypokinesia of LV wall). The latter characteristics strongly supported the diagnosis of KS.\n",
      "\n",
      "Okur et al. defined the cardiac MRI criteria for KS type 1 diagnosis: early phase subendocardial contrast defect, T2 weight images showing high-intensity signal consistent with oedema of all lesion areas, lack of the late gadolinium enhancement, and no transmural involvement (28). This study reported different percentages of left-wall myocardial involvement with a prevalence in interventricular septum (53.8%), followed by LV lateral wall (30.7%). It is interesting to note that MRI in our patient highlighted an augmented T2 signal in the anterior LV wall without late gadolinium enhancement, probably supporting vasospasm in the left anterior descending coronary artery, concordant with the ECG data.\n",
      "\n",
      "Coronary angiography is the gold standard to demonstrate the anatomy of coronary arteries and to exclude other causes of lumen obstruction. The coronary-CT of our patient demonstrated myocardial bridging of a tract of LAD coronary artery. Drug reactions and the narrowing of the coronary lumen due to myocardial bridging have already been reported as participating co-factors leading to myocardial ischemia (29). Indeed, it seems unlikely a direct role of a myocardial bridging as the unique cause of the transient myocardial damage, even if it could be accounted as a potential favoring condition.\n",
      "\n",
      "In a recent retrospective analysis, allergic reactions due to sedative e/o analgesic medications during pediatric pre-procedural sedation were described with an incidence of about 1:4,219, with midazolam being the third most frequently reported drug (1:2,035) (30). Midazolam can also be associated with severe adverse events, for example, anaphylactic and anaphylactoid reactions (31–34). Moreover, an acute coronary syndrome has already been described in the literature as a side effect of this anesthetic drug in a previous case report of KS in an adult patient during the preoperative phase of a transurethral prostatectomy (5). Furthermore, inhaled anesthetic medications, such as isoflurane, have already been reported as a possible precipitating factor of acute coronary vasospasm in a 59-year-old man and in a 2-year-old boy (6, 8). Sevoflurane was used in our case and, of note, our patient had received anesthesia comprising sevoflurane without clinical reactions 3 months before. However, he was suggested to strictly avoid drugs potentially associated to the event in the future.\n",
      "\n",
      "As occurred in our case, diagnosis of KS can be difficult when the patient is not able to report signs and symptoms. In such conditions the suspicion and the diagnosis establishment should be based mostly on the close association between a trigger, for example a drug, and the occurrence of ECG signs, the increase of myocardial injury biomarkers or possible evidence of coronary spasm/thrombosis on coronary angiography (1).\n",
      "\n",
      "In anaphylaxis, cutaneous manifestations can lack in a minority of cases. In a cohort of adult and pediatric patients with this disease, skin was affected in 84% of them, followed by clinical manifestations involving cardiovascular (72%) or respiratory (68%) systems (35, 36). In severe anaphylaxis the phenomenon has been hypothesized due to the state of shock that prevents or delays the released anaphylactic mediators from reaching and acting on the skin, thus inducing redness, rash and/or itching (37, 38). The absence of skin lesions can also occur in KS, in which rash has been described in 26.8% of cases, preceded by chest pain (86.8%) and anaphylaxis (53%) (3, 39, 40). Indeed, the latter event may be particularly true especially if the blood pressure is low as in the described patient.\n",
      "\n",
      "Skin prick tests could be useful in demonstrating IgE-mediated hypersensitivity (41). However, especially for some drugs, in case of negative results is not possible to completely rule out the diagnosis of hypersensitivity. Interestingly, skin tests themselves can induce KS and caution has to be paid to carry them out, especially when the diagnostic performance for the specific allergen is suboptimal (42). Unfortunately, serum tryptase dosage was not performed in our patient. However, although positive serum tryptase could be a useful biomarker in case of anaphylaxis and KS, negative results cannot rule them out completely (2).\n",
      "\n",
      "In this case we highlighted the importance of recognition of KS in pediatric patients, differentiating this condition from other ones associated with acute ventricular systolic disfunction. Firstly, a hypersensitivity reaction should be taken into consideration as a potential cause of an acute coronary syndrome; secondly we pointed out the critical role of observing closely the patient, as the situation could evolve unpredictably to a cardiopulmonary emergency. Moreover, when a myocarditis or another cause are suspected, they benefit from a specific management (22). In the context of diagnostic investigations, in addition to ECG and echocardiography, cardiac MRI and coronary CT scan were performed, which were fundamental to assess our patient. In addition, his blood investigations did not show inflammatory markers increase.\n",
      "\n",
      "In the present report, after the management of the acute phase, the stable clinical condition and the rapid improvement of systolic function allowed us to avoid the administration of specific drugs.\n",
      "\n",
      "Conclusion\n",
      "\n",
      "In conclusion, we described one of the first pediatric cases of KS related to anesthetic medications. Cases reported of this syndrome are increasing progressively in the literature, and more and more drugs/agents have been identified as potential triggers of this clinical condition. The treatment of KS could be challenging, and it is mainly based on the treatment of the allergic reaction and of the cardiological clinical manifestations. In children, this syndrome has been only described in isolated case reports or small case series. Thus, it appears critical to report new cases of KS in children to increase the awareness of this disease in pediatric healthcare workers so as to enhance its early recognition and optimal therapeutic strategy. Furthermore, it appears of paramount importance the implementation of universal guidelines accepted by allergology and cardiology societies, in order to standardize the management of pediatric and adult patients with KS. Finally, a close collaboration between pediatric allergists and cardiologists seems fundamental for an optimal multidisciplinary patient care.\n",
      "\n",
      "Data Availability Statement\n",
      "\n",
      "The original contributions presented in the study are included in the article/supplementary material, further inquiries can be directed to the corresponding author.\n",
      "\n",
      "Ethics Statement\n",
      "\n",
      "Written informed consent was obtained from the minor(s)' legal guardian/next of kin for the publication of any potentially identifiable images or data included in this article.\n",
      "\n",
      "Author Contributions\n",
      "\n",
      "GC, MG, LDS, and ST conceptualized the work. GC, MG, IK, FM, SF, LDS, and ST drafted the manuscript. GC, MG, FM, CR, GS, GBC, SF, EN, GI, LDS, and ST performed the investigations. GC, MG, IK, FM, CR, GS, GBC, SF, EN, GI, LDS, and ST critically revised the manuscript. All authors approved the final version of the manuscript as submitted and agreed to be accountable for all aspects of the work.\n",
      "\n",
      "Conflict of Interest\n",
      "\n",
      "The authors declare that the research was conducted in the absence of any commercial or financial relationships that could be construed as a potential conflict of interest.\n",
      "\n",
      "Publisher's Note\n",
      "\n",
      "All claims expressed in this article are solely those of the authors and do not necessarily represent those of their affiliated organizations, or those of the publisher, the editors and the reviewers. Any product that may be evaluated in this article, or claim that may be made by its manufacturer, is not guaranteed or endorsed by the publisher.\n",
      "\n",
      "The authors want to thank Prof. Nicholas George Kounis (Department of Cardiology, Patras University School of Medicine, Patras, Greece) for critical review of the manuscript.\n",
      "==== Refs\n",
      "References\n",
      "\n",
      "1. Kounis NG . Kounis syndrome: An update on epidemiology, pathogenesis, diagnosis and therapeutic management. Clin Chem Lab Med. (2016) 54 :1545–59. 10.1515/cclm-2016-0010 26966931\n",
      "2. Giovannini M Koniari I Mori F Ricci S De Simone L Favilli S . Kounis syndrome: a clinical entity penetrating from pediatrics to geriatrics. J Geriatr Cardiol. (2020) 17 :294–9. 10.11909/j.issn.1671-5411.2020.05.011 32547613\n",
      "3. Abdelghany M Subedi R Shah S Kozman H . Kounis syndrome: A review article on epidemiology, diagnostic findings, management and complications of allergic acute coronary syndrome. Int J Cardiol. (2017) 232 :1–4. 10.1016/j.ijcard.2017.01.124 28153536\n",
      "4. Biteker M Duran NE Biteker FS Ertürk E Aykan AÇ Civan HA . Kounis Syndrome secondary to amoxicillin/clavulanic acid use in a child. Int J Cardiol. (2009) 136 :e3–5. 10.1016/j.ijcard.2008.04.064 18632172\n",
      "5. Ateş AH Kul S . Acute coronary syndrome due to midazolam use: Kounis syndrome during a transurethral prostatectomy. Turk Kardiyol Dern Ars. (2015) 43 :558–61. 10.5543/tkda.2015.44567 26363750\n",
      "6. Sidi A Dahleen L Gaspardone A . Coronary vasospasm during anesthesia induction: awareness, recognition, possible mechanisms, anesthetic factors, and treatment. J Clin Anesth. (2008) 20 :64–9. 10.1016/j.jclinane.2007.02.016 18346615\n",
      "7. Kounis GN Hahalis G Kounis NG . Anesthetic drugs and Kounis syndrome. J Clin Anesth. (2008) 20 :562–3. 10.1016/j.jclinane.2008.06.004 19019657\n",
      "8. Parent B Wearden P Kounis NG Chrysostomou C . Kounis syndrome or allergic coronary vasospasm in a two-year-old. Congenit Heart Dis. (2011) 6 :499–503. 10.1111/j.1747-0803.2011.00499.x 21418536\n",
      "9. Kounis GN Kouni SA Hahalis G Kounis NG . Mesalamine hypersensitivity and Kounis syndrome in a pediatric ulcerative colitis patient. World J Gastroenterol. (2008) 14 :7141–2. 10.3748/wjg.14.7141 19084925\n",
      "10. Biteker M Duran NE Biteker F Civan HA Gündüz S Gökdeniz T . Kounis syndrome: first series in Turkish patients. Anadolu Kardiyol Derg. (2009) 9 :59–60.19196576\n",
      "11. Ilhan E Akbulut T Gürsürer M . An underdiagnosed syndrome; Kounis syndrome secondary to amoxicillin/clavulanic acid use in a 16 year-old child. Int J Cardiol. (2013) 167 :e90–1. 10.1016/j.ijcard.2013.03.158 23623347\n",
      "12. Terlemez S Eryilmaz U Tokgöz Y Uysal P Coşan A Bulut Y . Kounis syndrome caused by metronidazole - A case of 14 year-old boy. Int J Cardiol. (2015) 179 :222–4. 10.1016/j.ijcard.2014.11.049 25464452\n",
      "13. Yaman M Mete T Ozer I Yaman E Beton O . Reversible myocarditis and pericarditis after black widow spider bite or kounis syndrome? Case Reports Cardiol. (2015) 2015 :768089. 10.1155/2015/768089 26509087\n",
      "14. Castellano-Martinez A Rodriguez-Gonzalez M . Coronary artery spasm due to intravenous atropine infusion in a child: possible Kounis syndrome. Cardiol Young. (2018) 28 :616–8. 10.1017/S1047951117002785 29316984\n",
      "15. Sidoti PA Dunphy TR Baerveldt G LaBree L Minckler DS Lee PP . Experience with the Baerveldt glaucoma implant in treating neovascular glaucoma. Ophthalmology. (1995) 102 :1107–18. 10.1016/S0161-6420(95)30904-9 9121760\n",
      "16. Faiq MA Dada R Qadri R Dada T . CYP1B1-mediated pathobiology of primary congenital glaucoma. J Curr Glaucoma Pract. (2015) 9 :77–80. 10.5005/jp-journals-10008-1189 26997841\n",
      "17. Kampmann C Emschermann T Stopfkuchen H Wiethoff CM Wenzel A Stolz G . Normal values of M mode echocardiographic measurements of more than 2000 healthy infants and children in central Europe. Heart. (2000) 83 :667–72. 10.1136/heart.83.6.667 10814626\n",
      "18. Biteker M Ekşi Duran N Sungur Biteker F Ayyildiz Civan H Kaya H Gökdeniz T . Allergic myocardial infarction in childhood: Kounis syndrome. Eur J Pediatr. (2010) 169 :27–9. 10.1007/s00431-009-0965-5 19277706\n",
      "19. Giovannini M Alletto A Koniari I Mori F Favilli S Sarti L . Kounis Syndrome: a pediatric perspective. Minerva Pediatr. (2020) 72 :383–92. 10.23736/S0026-4946.20.06007-7 32960008\n",
      "20. Raparelli V Elharram M Shimony A Eisenberg MJ Cheema AN Pilote L . Myocardial infarction with no obstructive coronary artery disease: angiographic and clinical insights in patients with premature presentation. Can J Cardiol. (2018) 34 :468–76. 10.1016/j.cjca.2018.01.004 29571427\n",
      "21. Kounis NG Koniari I Soufras GD Tsigkas G Chourdakis E Despotopoulos S . Kounis syndrome: an additional etiologic factor of myocardial infarction with non-obstructive coronary arteries. Cardiol J. (2018) 25 :648–9. 10.5603/CJ.2018.0132 30394519\n",
      "22. Caforio ALP Pankuweit S Arbustini E Basso C Gimeno-Blanes J Felix SB . Current state of knowledge on aetiology, diagnosis, management, and therapy of myocarditis: A position statement of the European Society of Cardiology Working Group on Myocardial and Pericardial Diseases. Eur Heart J. (2013) 34 :2636–48. 10.1093/eurheartj/eht210 23824828\n",
      "23. Margonato D Abete R Di Giovine G Delfino P Grillo M Mazzetti S . Mortara A. Takotsubo cardiomyopathy associated with Kounis syndrome: A clinical case of the ATAK complex. J Cardiol Cases. (2019) 20 :52–6. 10.1016/j.jccase.2019.03.007 31440312\n",
      "24. Yanagawa Y Nishi K Tomiharu N Kawaguchi T . A case of takotsubo cardiomyopathy associated with Kounis syndrome. Int J Cardiol. (2009) 132 :e65–7. 10.1016/j.ijcard.2007.08.022 18031840\n",
      "25. Kounis NG Filippatos GS . Takotsubo and Kounis syndrome: is there any association? Circ J. (2007) 71 :170. 10.1253/circj.71.170 17205665\n",
      "26. Scally C Abbas H Ahearn T Srinivasan J Mezincescu A Rudd A . Myocardial and systemic inflammation in acute stress-induced (Takotsubo) cardiomyopathy. Circulation. (2019) 139 :1581–92. 10.1161/CIRCULATIONAHA.118.037975 30586731\n",
      "27. Naranjo CA Busto U Sellers EM Sandor P Ruiz I Roberts EA . A method for estimating the probability of adverse drug reactions. Clin Pharmacol Ther. (1981) 30 :239–45. 10.1038/clpt.1981.154 7249508\n",
      "28. Okur A Kantarci M Karaca L Ogul H Aköz A Kizrak Y . The utility of cardiac magnetic resonance imaging in Kounis syndrome. Postep w Kardiol Interwencyjnej. (2015) 11 :218–23. 10.5114/pwki.2015.54017 32974449\n",
      "29. Caglar IM Vural A Turhan Caglar FN Ugurlucan M Karakaya O . Kounis syndrome together with myocardial bridging leading to acute myocardial infarction at young age. Case Rep Med. (2011) 2011 :490310. 10.1155/2011/490310 22007234\n",
      "30. Hertzog JH Preisberga K Penfil S . The Incidence and Nature of Allergic and Anaphylactic Reactions During Pediatric Procedural Sedation: A Report From the Pediatric Sedation Research Consortium. Hosp Pediatr. (2019) 9 :16–23. 10.1542/hpeds.2018-0089 30541918\n",
      "31. Shin JG Hwang JH Lee BS Park HJ Lee SH Lee JN . case of midazolam anaphylaxis. Clin Endosc. (2014) 47 :262–5. 10.5946/ce.2014.47.3.262 24944992\n",
      "32. Shrivastava S . An experience with midazolam anaphylactoid reaction. J Anesth. (2012) 26 :642–3. 10.1007/s00540-012-1386-6 22467090\n",
      "33. Ayuse T Kurata S Ayuse T . Anaphylactoid-like reaction to midazolam during oral and maxillofacial surgery. Anesth Prog. (2015) 62 :64–5. 10.2344/0003-3006-62.1.64 26061575\n",
      "34. Fujita Y Ishikawa H Yokota K . Anaphylactoid reaction to midazolam. Anesth Analg. (1994) 79 :811–2. 10.1213/00000539-199410000-00043 7943804\n",
      "35. Muraro A Roberts G Worm M Bilò MB Brockow K Fernández Rivas M . Anaphylaxis: guidelines from the European Academy of Allergy and Clinical Immunology. Allergy. (2014) 69 :1026–45. 10.1111/all.12437 24909803\n",
      "36. Worm M Edenharter G Ruëff F Scherer K Pföhler C Mahler V . Symptom profile and risk factors of anaphylaxis in Central Europe. Allergy. (2012) 67 :691–8. 10.1111/j.1398-9995.2012.02795.x 22335765\n",
      "37. Kounis NG Koniari I Velissaris D Plotas P Tsigkas G Soufras GD . Too many cooks spoil the broth: the more antigens present, the easier, the quicker, and the more severe the anaphylaxis. J Investig Allergol Clin Immunol. (2019) 29 :333–4. 10.18176/jiaci.0389 31478532\n",
      "38. Garvey LH Dewachter P Hepner DL Mertes PM Voltolini S Clarke R . Management of suspected immediate perioperative allergic reactions: an international overview and consensus recommendations. Br J Anaesth. (2019) 123 :e50–64. 10.1016/j.bja.2019.04.044 31130272\n",
      "39. Adachi H Ihara M Nojima Y Kurimoto T Nanto S . Kounis syndrome caused by anaphylaxis without skin manifestations after cefazolin administration. J Allergy Clin Immunol Pract. (2019) 7 :317–9. 10.1016/j.jaip.2018.05.030 29902529\n",
      "40. Andrews ID Scheinman P . Systemic hypersensitivity reaction (without cutaneous manifestations) to an implantable cardioverter-defibrillator. Dermatitis. (2011) 22 :161–4. 10.2310/6620.2011.10088 21569746\n",
      "41. Demoly P Adkinson NF Brockow K Castells M Chiriac AM Greenberger PA . International Consensus on drug allergy. Allergy. (2014) 69 :420–37. 10.1111/all.12350 24697291\n",
      "42. González-De-Olano D Gandolfo-Cano M Mohedano-Vicente E González-Mancebo E Matito A Kounis NG . Kounis syndrome following the performance of skin test to amoxicillin. Int J Cardiol. (2014) 174 :856–7. 10.1016/j.ijcard.2014.04.191 24801079\n",
      "\n",
      "\n"
     ]
    }
   ],
   "source": [
    "print(matches[0].article.fulltext)"
   ]
  },
  {
   "cell_type": "code",
   "execution_count": 9,
   "metadata": {},
   "outputs": [
    {
     "name": "stdout",
     "output_type": "stream",
     "text": [
      "None\n"
     ]
    }
   ],
   "source": [
    "print(matches[0].article.mesh_terms)"
   ]
  },
  {
   "cell_type": "code",
   "execution_count": 10,
   "metadata": {},
   "outputs": [
    {
     "name": "stdout",
     "output_type": "stream",
     "text": [
      "Kounis syndrome; coronary artery; midazolam; pediatrics; perioperative; sevoflurane\n"
     ]
    }
   ],
   "source": [
    "print(matches[0].article.keywords)"
   ]
  },
  {
   "cell_type": "code",
   "execution_count": 11,
   "metadata": {},
   "outputs": [
    {
     "name": "stdout",
     "output_type": "stream",
     "text": [
      "None\n"
     ]
    }
   ],
   "source": [
    "print(matches[0].article.chemical_list)"
   ]
  },
  {
   "cell_type": "code",
   "execution_count": 12,
   "metadata": {},
   "outputs": [
    {
     "name": "stdout",
     "output_type": "stream",
     "text": [
      "A 12-year-old male patient suffering from congenital glaucoma developed bradycardia, left ventricular failure, and hypotension after induction of anesthesia. Electrocardiography and echocardiography revealed a complete normalization of ECG and a complete spontaneous recovery in the cardiac function 72 hours from the beginning of the clinical manifestations, while cardiac Magnetic Resonance Imaging was performed, and coronary Computed Tomography scan revealed a myocardial bridge of a tract of the left anterior descendent coronary artery. Diagnosis of Kounis syndrome (KS) was made, a relatively novel, under-recognized clinical condition, defined as the manifestation of an acute coronary syndrome accompanied by mast cell activation and platelet aggregation involving interrelated and interacting inflammatory cells in the setting of allergic, hypersensitivity, anaphylactic or anaphylactoid insults. We described one of the first pediatric cases of KS related to anesthetic medications. In children, this syndrome has been only described in isolated case reports or small case series. Thus, it appears critical to report new cases of KS in children to increase the awareness of this disease in pediatric healthcare workers so as to enhance its early recognition and optimal therapeutic strategy. Furthermore, it appears of paramount importance the implementation of universal guidelines accepted by allergology and cardiology societies, in order to standardize the management of pediatric and adult patients with KS. Finally, a close collaboration between pediatric allergists and cardiologists seems fundamental for an optimal multidisciplinary patient care.\n"
     ]
    }
   ],
   "source": [
    "print(matches[0].article.abstract)"
   ]
  },
  {
   "cell_type": "code",
   "execution_count": null,
   "metadata": {},
   "outputs": [],
   "source": []
  }
 ],
 "metadata": {
  "kernelspec": {
   "display_name": "biodex",
   "language": "python",
   "name": "python3"
  },
  "language_info": {
   "codemirror_mode": {
    "name": "ipython",
    "version": 3
   },
   "file_extension": ".py",
   "mimetype": "text/x-python",
   "name": "python",
   "nbconvert_exporter": "python",
   "pygments_lexer": "ipython3",
   "version": "3.9.16"
  },
  "orig_nbformat": 4
 },
 "nbformat": 4,
 "nbformat_minor": 2
}
