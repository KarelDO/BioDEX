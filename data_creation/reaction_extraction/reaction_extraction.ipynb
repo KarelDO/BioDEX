{
 "cells": [
  {
   "cell_type": "code",
   "execution_count": 1,
   "metadata": {},
   "outputs": [],
   "source": [
    "from src import Match, Icsr\n",
    "from src.utils import get_matches\n",
    "\n",
    "from datetime import datetime\n",
    "import random\n",
    "import datasets\n",
    "import pandas as pd\n"
   ]
  },
  {
   "cell_type": "code",
   "execution_count": 2,
   "metadata": {},
   "outputs": [
    {
     "name": "stderr",
     "output_type": "stream",
     "text": [
      "Using custom data configuration BioDEX--raw_dataset-e1a8735a3d189f31\n",
      "Found cached dataset json (/Users/kldooste/.cache/huggingface/datasets/BioDEX___json/BioDEX--raw_dataset-e1a8735a3d189f31/0.0.0/e6070c77f18f01a5ad4551a8b7edfba20b8438b7cad4d94e6ad9378022ce4aab)\n"
     ]
    },
    {
     "data": {
      "application/vnd.jupyter.widget-view+json": {
       "model_id": "f8be8a859429484f939c61c4cca83380",
       "version_major": 2,
       "version_minor": 0
      },
      "text/plain": [
       "  0%|          | 0/1 [00:00<?, ?it/s]"
      ]
     },
     "metadata": {},
     "output_type": "display_data"
    },
    {
     "name": "stdout",
     "output_type": "stream",
     "text": [
      "65648\n"
     ]
    }
   ],
   "source": [
    "# load matches\n",
    "dataset = datasets.load_dataset(\"BioDEX/raw_dataset\")\n",
    "matches = get_matches(dataset['train'])\n",
    "print(len(matches))"
   ]
  },
  {
   "cell_type": "code",
   "execution_count": 3,
   "metadata": {},
   "outputs": [],
   "source": [
    "# arguments\n",
    "report_cutoff = 10\n",
    "commercial_only = False\n",
    "test_cutoff = datetime(year=2021, month=1, day=1)"
   ]
  },
  {
   "cell_type": "code",
   "execution_count": 4,
   "metadata": {},
   "outputs": [
    {
     "name": "stdout",
     "output_type": "stream",
     "text": [
      "Matches with <= 10 reports: 62,168\n"
     ]
    }
   ],
   "source": [
    "matches = [m for m in matches if len(m.reports) <= report_cutoff]\n",
    "print(f'Matches with <= {report_cutoff} reports: {len(matches):,}')"
   ]
  },
  {
   "cell_type": "code",
   "execution_count": 5,
   "metadata": {},
   "outputs": [
    {
     "name": "stdout",
     "output_type": "stream",
     "text": [
      "Matches with full text: 18,678\n"
     ]
    }
   ],
   "source": [
    "matches = [m for m in matches if m.article.fulltext]\n",
    "print(f'Matches with full text: {len(matches):,}')"
   ]
  },
  {
   "cell_type": "code",
   "execution_count": 6,
   "metadata": {},
   "outputs": [],
   "source": [
    "def split_data(matches, test_cutoff):\n",
    "    test_matches = []\n",
    "    train_matches = []\n",
    "\n",
    "    for m in matches:\n",
    "        pubdate = datetime.strptime(m.article.pubdate[:4], '%Y')\n",
    "        if  pubdate >= test_cutoff:\n",
    "            test_matches.append(m)\n",
    "        else:\n",
    "            train_matches.append(m)\n",
    "\n",
    "    print(f'Train size: {len(train_matches):,}')\n",
    "    print(f'Test size: {len(test_matches):,}')\n",
    "\n",
    "    return train_matches, test_matches"
   ]
  },
  {
   "cell_type": "code",
   "execution_count": 7,
   "metadata": {},
   "outputs": [
    {
     "name": "stdout",
     "output_type": "stream",
     "text": [
      "Train size: 14,429\n",
      "Test size: 4,249\n"
     ]
    }
   ],
   "source": [
    "cutoff = datetime(year=2021, month=1, day=1)\n",
    "train, test = split_data(matches, cutoff)"
   ]
  },
  {
   "cell_type": "code",
   "execution_count": 9,
   "metadata": {},
   "outputs": [],
   "source": [
    "def reactions_from_report(report):\n",
    "    # get all reactions and outcomes\n",
    "    reactions = []\n",
    "    for reaction in report.patient.reaction:\n",
    "        if reaction.reactionmeddrapt:\n",
    "            reactions.append(reaction.reactionmeddrapt)\n",
    "    # deduplicate and sort\n",
    "    reactions = sorted(list(set(reactions)))\n",
    "    return reactions\n",
    "\n",
    "def reactions_from_match(match):\n",
    "    reactions = []\n",
    "    for report in match.reports:\n",
    "        reactions.extend(reactions_from_report(report))\n",
    "    reactions = sorted(list(set(reactions)))\n",
    "    return reactions"
   ]
  },
  {
   "cell_type": "code",
   "execution_count": 10,
   "metadata": {},
   "outputs": [],
   "source": [
    "def get_ds_from_split(split):\n",
    "    reactions = []\n",
    "    safetyids = []\n",
    "\n",
    "    for match in split:\n",
    "        reactions.append(reactions_from_match(match))\n",
    "        safetyids.append([report.safetyreportid for report in match.reports])\n",
    "\n",
    "    # format the data\n",
    "    data = [m.article.dict() for m in split]\n",
    "    for d, reactions, reportids in zip(data, reactions, safetyids):\n",
    "        d.update({\n",
    "            'reactions': \", \".join(reactions),\n",
    "            'safetyreportids': reportids\n",
    "        })\n",
    "    \n",
    "    df = pd.DataFrame(data=data)\n",
    "    # reorder some of the columns\n",
    "    df = df[['title', 'abstract','fulltext','reactions', 'pmid', 'fulltext_license', 'title_normalized','issue', 'pages', 'journal', 'authors', 'pubdate', 'doi', 'affiliations', 'medline_ta', 'nlm_unique_id', 'issn_linking', 'country', 'mesh_terms', 'publication_types', 'chemical_list', 'keywords', 'references', 'delete', 'pmc', 'other_id', 'safetyreportids']]\n",
    "    df = df.fillna('')\n",
    "    ds = datasets.Dataset.from_pandas(df)\n",
    "    return ds"
   ]
  },
  {
   "cell_type": "code",
   "execution_count": 11,
   "metadata": {},
   "outputs": [],
   "source": [
    "train_ds = get_ds_from_split(train)\n",
    "test_ds = get_ds_from_split(test)\n",
    "\n",
    "train_ds = train_ds.shuffle(42)\n",
    "test_ds = test_ds.shuffle(42)"
   ]
  },
  {
   "cell_type": "code",
   "execution_count": 12,
   "metadata": {},
   "outputs": [],
   "source": [
    "# create a validation set\n",
    "len_train = int(len(train_ds) * 0.8)\n",
    "\n",
    "val_ds = train_ds.select(range(len_train,len(train_ds)))\n",
    "train_ds = train_ds.select(range(len_train))"
   ]
  },
  {
   "cell_type": "code",
   "execution_count": 13,
   "metadata": {},
   "outputs": [
    {
     "name": "stdout",
     "output_type": "stream",
     "text": [
      "train size:  11543\n",
      "val size:  2886\n",
      "test size:  4249\n"
     ]
    }
   ],
   "source": [
    "print('train size: ', len(train_ds))\n",
    "print('val size: ', len(val_ds))\n",
    "print('test size: ', len(test_ds))"
   ]
  },
  {
   "cell_type": "code",
   "execution_count": 14,
   "metadata": {},
   "outputs": [],
   "source": [
    "# preprocess fulltexdt\n",
    "def remove_front(text):\n",
    "    if '==== Body' in text:\n",
    "        text = ('\\n').join(text.split('==== Body')[1:])\n",
    "    return text.strip()\n",
    "\n",
    "def remove_refs(text):\n",
    "    if '==== Refs' in text:\n",
    "        text = ('\\n').join(text.split('==== Refs')[:-1])\n",
    "    return text.strip() \n",
    "\n",
    "def get_fulltext_input(row, fulltext_only=False):\n",
    "    fulltext_filtered = remove_refs(remove_front(row['fulltext']))\n",
    "    data = ['\\nTITLE:', row['title'], '\\nABSTRACT:', row['abstract']]\n",
    "    if fulltext_only:\n",
    "        data.extend(['\\nTEXT:', fulltext_filtered])\n",
    "    return ('\\n').join(data).strip()\n"
   ]
  },
  {
   "cell_type": "code",
   "execution_count": 15,
   "metadata": {},
   "outputs": [],
   "source": [
    "ds = datasets.DatasetDict({\n",
    "    'train': train_ds,\n",
    "    'validation': val_ds,\n",
    "    'test': test_ds\n",
    "})"
   ]
  },
  {
   "cell_type": "code",
   "execution_count": 16,
   "metadata": {},
   "outputs": [
    {
     "data": {
      "application/vnd.jupyter.widget-view+json": {
       "model_id": "e0aa3b02979d40e68f0745e5a48d944f",
       "version_major": 2,
       "version_minor": 0
      },
      "text/plain": [
       "  0%|          | 0/11543 [00:00<?, ?ex/s]"
      ]
     },
     "metadata": {},
     "output_type": "display_data"
    },
    {
     "data": {
      "application/vnd.jupyter.widget-view+json": {
       "model_id": "5c502be506dc4c75a61e6c9bd8996ac5",
       "version_major": 2,
       "version_minor": 0
      },
      "text/plain": [
       "  0%|          | 0/2886 [00:00<?, ?ex/s]"
      ]
     },
     "metadata": {},
     "output_type": "display_data"
    },
    {
     "data": {
      "application/vnd.jupyter.widget-view+json": {
       "model_id": "c304d182a4b4426c8ca7c6fca94f93fc",
       "version_major": 2,
       "version_minor": 0
      },
      "text/plain": [
       "  0%|          | 0/4249 [00:00<?, ?ex/s]"
      ]
     },
     "metadata": {},
     "output_type": "display_data"
    }
   ],
   "source": [
    "ds = ds.map(lambda example: {'fulltext_processed': get_fulltext_input(example, fulltext_only=True)})"
   ]
  },
  {
   "cell_type": "code",
   "execution_count": 17,
   "metadata": {},
   "outputs": [
    {
     "data": {
      "text/plain": [
       "DatasetDict({\n",
       "    train: Dataset({\n",
       "        features: ['title', 'abstract', 'fulltext', 'reactions', 'pmid', 'fulltext_license', 'title_normalized', 'issue', 'pages', 'journal', 'authors', 'pubdate', 'doi', 'affiliations', 'medline_ta', 'nlm_unique_id', 'issn_linking', 'country', 'mesh_terms', 'publication_types', 'chemical_list', 'keywords', 'references', 'delete', 'pmc', 'other_id', 'safetyreportids', 'fulltext_processed'],\n",
       "        num_rows: 11543\n",
       "    })\n",
       "    validation: Dataset({\n",
       "        features: ['title', 'abstract', 'fulltext', 'reactions', 'pmid', 'fulltext_license', 'title_normalized', 'issue', 'pages', 'journal', 'authors', 'pubdate', 'doi', 'affiliations', 'medline_ta', 'nlm_unique_id', 'issn_linking', 'country', 'mesh_terms', 'publication_types', 'chemical_list', 'keywords', 'references', 'delete', 'pmc', 'other_id', 'safetyreportids', 'fulltext_processed'],\n",
       "        num_rows: 2886\n",
       "    })\n",
       "    test: Dataset({\n",
       "        features: ['title', 'abstract', 'fulltext', 'reactions', 'pmid', 'fulltext_license', 'title_normalized', 'issue', 'pages', 'journal', 'authors', 'pubdate', 'doi', 'affiliations', 'medline_ta', 'nlm_unique_id', 'issn_linking', 'country', 'mesh_terms', 'publication_types', 'chemical_list', 'keywords', 'references', 'delete', 'pmc', 'other_id', 'safetyreportids', 'fulltext_processed'],\n",
       "        num_rows: 4249\n",
       "    })\n",
       "})"
      ]
     },
     "execution_count": 17,
     "metadata": {},
     "output_type": "execute_result"
    }
   ],
   "source": [
    "ds"
   ]
  },
  {
   "cell_type": "code",
   "execution_count": 18,
   "metadata": {},
   "outputs": [
    {
     "name": "stderr",
     "output_type": "stream",
     "text": [
      "Pushing split train to the Hub.\n"
     ]
    },
    {
     "data": {
      "application/vnd.jupyter.widget-view+json": {
       "model_id": "9869b11e8ddd4d0b904904147ffb66d7",
       "version_major": 2,
       "version_minor": 0
      },
      "text/plain": [
       "Pushing dataset shards to the dataset hub:   0%|          | 0/1 [00:00<?, ?it/s]"
      ]
     },
     "metadata": {},
     "output_type": "display_data"
    },
    {
     "data": {
      "application/vnd.jupyter.widget-view+json": {
       "model_id": "e2cd072fc0f34a828df2291406e54730",
       "version_major": 2,
       "version_minor": 0
      },
      "text/plain": [
       "Upload 1 LFS files:   0%|          | 0/1 [00:00<?, ?it/s]"
      ]
     },
     "metadata": {},
     "output_type": "display_data"
    },
    {
     "name": "stderr",
     "output_type": "stream",
     "text": [
      "Pushing split validation to the Hub.\n"
     ]
    },
    {
     "data": {
      "application/vnd.jupyter.widget-view+json": {
       "model_id": "ca9b7c7550f9403e81e7b591cefd0d5a",
       "version_major": 2,
       "version_minor": 0
      },
      "text/plain": [
       "Pushing dataset shards to the dataset hub:   0%|          | 0/1 [00:00<?, ?it/s]"
      ]
     },
     "metadata": {},
     "output_type": "display_data"
    },
    {
     "data": {
      "application/vnd.jupyter.widget-view+json": {
       "model_id": "b3e3cf7c5bdf41078117aedc259ef138",
       "version_major": 2,
       "version_minor": 0
      },
      "text/plain": [
       "Upload 1 LFS files:   0%|          | 0/1 [00:00<?, ?it/s]"
      ]
     },
     "metadata": {},
     "output_type": "display_data"
    },
    {
     "name": "stderr",
     "output_type": "stream",
     "text": [
      "Pushing split test to the Hub.\n"
     ]
    },
    {
     "data": {
      "application/vnd.jupyter.widget-view+json": {
       "model_id": "87510a410f8c4911a5bc9d24ed5b4242",
       "version_major": 2,
       "version_minor": 0
      },
      "text/plain": [
       "Pushing dataset shards to the dataset hub:   0%|          | 0/1 [00:00<?, ?it/s]"
      ]
     },
     "metadata": {},
     "output_type": "display_data"
    },
    {
     "data": {
      "application/vnd.jupyter.widget-view+json": {
       "model_id": "eef3449f7c9f406f9f9bc11765efd137",
       "version_major": 2,
       "version_minor": 0
      },
      "text/plain": [
       "Upload 1 LFS files:   0%|          | 0/1 [00:00<?, ?it/s]"
      ]
     },
     "metadata": {},
     "output_type": "display_data"
    }
   ],
   "source": [
    "# upload data\n",
    "ds.push_to_hub('BioDEX/BioDEX-Reactions')\n"
   ]
  },
  {
   "cell_type": "code",
   "execution_count": null,
   "metadata": {},
   "outputs": [],
   "source": []
  }
 ],
 "metadata": {
  "kernelspec": {
   "display_name": "biodex",
   "language": "python",
   "name": "python3"
  },
  "language_info": {
   "codemirror_mode": {
    "name": "ipython",
    "version": 3
   },
   "file_extension": ".py",
   "mimetype": "text/x-python",
   "name": "python",
   "nbconvert_exporter": "python",
   "pygments_lexer": "ipython3",
   "version": "3.9.16"
  }
 },
 "nbformat": 4,
 "nbformat_minor": 2
}
